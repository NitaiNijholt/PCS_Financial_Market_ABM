{
 "cells": [
  {
   "attachments": {},
   "cell_type": "markdown",
   "metadata": {},
   "source": [
    "# RMSE calculation on binheights"
   ]
  },
  {
   "cell_type": "code",
   "execution_count": 2,
   "metadata": {},
   "outputs": [],
   "source": [
    "# imports\n",
    "import numpy as np\n",
    "import matplotlib.pyplot as plt\n",
    "import pandas as pd"
   ]
  },
  {
   "cell_type": "code",
   "execution_count": 3,
   "metadata": {},
   "outputs": [],
   "source": [
    "# generate data\n",
    "data_1 = np.random.normal(0, 1, 1000)\n",
    "data_2 = np.random.normal(0, 1, 1000)\n",
    "data_3 = np.random.normal(0, 1, 1000)\n",
    "\n",
    "data_list = [data_1, data_2, data_3]"
   ]
  },
  {
   "cell_type": "code",
   "execution_count": 13,
   "metadata": {},
   "outputs": [
    {
     "name": "stderr",
     "output_type": "stream",
     "text": [
      "No artists with labels found to put in legend.  Note that artists whose label start with an underscore are ignored when legend() is called with no argument.\n"
     ]
    },
    {
     "data": {
      "image/png": "[encoded data removed]",
      "text/plain": [
       "<Figure size 640x480 with 1 Axes>"
      ]
     },
     "metadata": {},
     "output_type": "display_data"
    }
   ],
   "source": [
    "bins = np.logspace(-3,1,100)\n",
    "list_of_bin_heights = []\n",
    "for dataset in data_list:\n",
    "    plt.hist(dataset, bins=bins, alpha=0.5, cumulative=-1, log = True, histtype='step')\n",
    "    binheights, bin_edges, _ = plt.hist(dataset, bins=bins, alpha=0.5, cumulative=-1, log = True, histtype='step')\n",
    "    list_of_bin_heights.append(binheights)\n",
    "plt.legend()\n",
    "plt.show()"
   ]
  },
  {
   "cell_type": "code",
   "execution_count": 10,
   "metadata": {},
   "outputs": [],
   "source": [
    "def RMSE(predictions:list[float], targets:list[float]) -> float:\n",
    "    '''Returns the root mean squared error between predictions and target values as a float'''\n",
    "    return np.sqrt((np.mean((predictions - targets) ** 2)))"
   ]
  },
  {
   "cell_type": "code",
   "execution_count": 15,
   "metadata": {},
   "outputs": [
    {
     "data": {
      "text/plain": [
       "6.146362971528592"
      ]
     },
     "execution_count": 15,
     "metadata": {},
     "output_type": "execute_result"
    }
   ],
   "source": [
    "RMSE(list_of_bin_heights[0], list_of_bin_heights[1])"
   ]
  }
 ],
 "metadata": {
  "kernelspec": {
   "display_name": "Python 3",
   "language": "python",
   "name": "python3"
  },
  "language_info": {
   "codemirror_mode": {
    "name": "ipython",
    "version": 3
   },
   "file_extension": ".py",
   "mimetype": "text/x-python",
   "name": "python",
   "nbconvert_exporter": "python",
   "pygments_lexer": "ipython3",
   "version": "3.10.9"
  },
  "orig_nbformat": 4,
  "vscode": {
   "interpreter": {
    "hash": "737aa38b06dd7377e5ea1c9d3b7bcdaf28b38271e4ca822a92a99e2a0a35e98e"
   }
  }
 },
 "nbformat": 4,
 "nbformat_minor": 2
}
