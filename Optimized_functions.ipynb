{
 "cells": [
  {
   "cell_type": "code",
   "execution_count": 4,
   "metadata": {},
   "outputs": [],
   "source": [
    "import numpy as np\n",
    "import random as rnd"
   ]
  },
  {
   "cell_type": "code",
   "execution_count": 54,
   "metadata": {},
   "outputs": [],
   "source": [
    "def buy_sell_hold(p, amount_times):\n",
    "    assert p <= 0.5, \"p should be smaller than 0.5\"\n",
    "    psis = np.zeros(amount_times)\n",
    "    dice_rolls = np.random.uniform(0, 1, amount_times)\n",
    "    indices = np.nonzero(dice_rolls <= 2*p)\n",
    "    for index in indices[0]:\n",
    "        if np.random.randint(0,2) == 0:\n",
    "            psis[index] = 1\n",
    "        else:\n",
    "            psis[index] = -1\n",
    "    return psis"
   ]
  },
  {
   "cell_type": "code",
   "execution_count": 58,
   "metadata": {},
   "outputs": [],
   "source": [
    "class Agent:\n",
    "    def __init__(self, size) -> None:\n",
    "        self.size = size\n",
    "\n",
    "class Model:\n",
    "    def __init__(self, p: float, n: int, size: int, k: int, omega: int, t: int) -> None:\n",
    "        self.n = n\n",
    "        self.p = p\n",
    "        self.agents = [Agent(size) for i in range(n)]\n",
    "        self.daily_return = []\n",
    "        self.trading_volume = 0\n",
    "        self.k = k\n",
    "        self.omega = omega\n",
    "        self.daily_returns = []\n",
    "        self.count = 0\n",
    "\n",
    "        self.daily_trading_volumes = []\n",
    "\n",
    "        \n",
    "    def distribute_opinion_groups(self) -> None:\n",
    "\n",
    "        # number of opinion groups\n",
    "        if sum(self.daily_return) != 0:\n",
    "            self.c = (self.n // abs(sum(self.daily_return))) ** self.omega\n",
    "        else:\n",
    "            self.c = self.n\n",
    "                \n",
    "        return self.c\n",
    "\n",
    "    def step(self):\n",
    "        self.count += 1\n",
    "        c = int(self.distribute_opinion_groups())\n",
    "        psis = buy_sell_hold(p, c)\n",
    "        daily_return = psis * (n/c)\n",
    "        trading_volume = np.sum(np.abs(daily_return))\n",
    "        self.daily_returns.append(np.sum(daily_return * k))\n",
    "        self.daily_trading_volumes.append(trading_volume)\n",
    "        return self.count"
   ]
  }
 ],
 "metadata": {
  "kernelspec": {
   "display_name": "Python 3",
   "language": "python",
   "name": "python3"
  },
  "language_info": {
   "codemirror_mode": {
    "name": "ipython",
    "version": 3
   },
   "file_extension": ".py",
   "mimetype": "text/x-python",
   "name": "python",
   "nbconvert_exporter": "python",
   "pygments_lexer": "ipython3",
   "version": "3.6.9"
  }
 },
 "nbformat": 4,
 "nbformat_minor": 2
}
