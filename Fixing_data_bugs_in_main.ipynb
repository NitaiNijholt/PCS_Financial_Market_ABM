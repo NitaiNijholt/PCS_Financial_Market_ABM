{
 "cells": [
  {
   "cell_type": "code",
   "execution_count": null,
   "metadata": {},
   "outputs": [],
   "source": [
    "df_close_clean = pd.read_csv('data/df_close_clean.csv')\n",
    "df_open_clean = pd.read_csv('data/df_open_clean.csv')\n",
    "df_volume_clean = pd.read_csv('data/df_volume_clean.csv')\n",
    "df_shares_outstanding_clean = pd.read_csv('data/df_shares_outstanding_clean.csv')\n",
    "df_volume_clean_wrds = pd.read_csv('data/df_volume_clean_WRDS.csv')\n",
    "\n",
    "# change index to datetime\n",
    "df_close_clean.index = pd.to_datetime(df_close_clean['Date'])\n",
    "df_open_clean.index = pd.to_datetime(df_open_clean['Date'])\n",
    "df_volume_clean.index = pd.to_datetime(df_volume_clean['Date'])\n",
    "df_shares_outstanding_clean.index = pd.to_datetime(df_shares_outstanding_clean['Date'])\n",
    "df_volume_clean_wrds.index = pd.to_datetime(df_volume_clean_wrds['Date'])\n",
    "\n",
    "# Remove the \"Date\" column as it no longer has any use\n",
    "df_close_clean = df_close_clean.drop(columns=['Date'])\n",
    "df_open_clean = df_open_clean.drop(columns=['Date'])\n",
    "df_volume_clean = df_volume_clean.drop(columns=['Date'])\n",
    "df_shares_outstanding_clean = df_shares_outstanding_clean.drop(columns=['Date'])\n",
    "df_volume_clean_wrds = df_volume_clean_wrds.drop(columns=['Date'])\n",
    "\n",
    "# testing if the index is datetime and the \"Date\" column is removed\n",
    "assert 'Date' not in df_close_clean.columns\n",
    "assert 'Date' not in df_open_clean.columns\n",
    "assert 'Date' not in df_volume_clean.columns\n",
    "assert 'Date' not in df_shares_outstanding_clean.columns\n",
    "assert 'Date' not in df_volume_clean_wrds.columns\n",
    "assert df_close_clean.index.dtype == 'datetime64[ns]'\n",
    "assert df_open_clean.index.dtype == 'datetime64[ns]'\n",
    "assert df_volume_clean.index.dtype == 'datetime64[ns]'\n",
    "assert df_shares_outstanding_clean.index.dtype == 'datetime64[ns]'\n",
    "assert df_volume_clean_wrds.index.dtype == 'datetime64[ns]'"
   ]
  }
 ],
 "metadata": {
  "language_info": {
   "name": "python"
  },
  "orig_nbformat": 4
 },
 "nbformat": 4,
 "nbformat_minor": 2
}
