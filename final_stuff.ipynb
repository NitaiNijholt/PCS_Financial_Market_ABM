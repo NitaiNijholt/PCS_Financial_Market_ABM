{
 "cells": [
  {
   "attachments": {},
   "cell_type": "markdown",
   "metadata": {},
   "source": [
    "# ABM returns for different omega's across 10 runs"
   ]
  },
  {
   "cell_type": "code",
   "execution_count": null,
   "metadata": {},
   "outputs": [],
   "source": [
    "# 10 runs, for different values of omega , using Vf = 0.4, n0 = 2**10, b = 1.0\n",
    "results_ABM_10_runs_for_different_omega = []\n",
    "volumes_ABM_10_runs_for_different_omega = []\n",
    "for omega in omega_list:\n",
    "    print('omega', omega)\n",
    "    run_results = run_ABM(p, n, size, k, omega, b, t, runs=10)\n",
    "    normalised_returns_list = []\n",
    "    normalised_volume_list = []\n",
    "    for run in run_results:\n",
    "        normalised_returns = normalise(run[0])\n",
    "        volume = run[1] / run[1].mean()\n",
    "        normalised_returns_list.append(normalised_returns)\n",
    "    results_ABM_10_runs_for_different_omega.append(normalised_returns_list)"
   ]
  },
  {
   "attachments": {},
   "cell_type": "markdown",
   "metadata": {},
   "source": [
    "# ABM return results for different n0's across 10 runs"
   ]
  },
  {
   "cell_type": "code",
   "execution_count": null,
   "metadata": {},
   "outputs": [],
   "source": [
    "# normalizing abs returns for each run (different n0)\n",
    "abs_normalized_returns_ABM_results_for_different_n0 = []\n",
    "volumes_abm_for_different_n0 = []\n",
    "for n0 in range(len(n0_list)):\n",
    "    abs_normalized_returns_ABM_results_for_same_n0 = []\n",
    "    volumes_abm_for_same_n0 = []\n",
    "    for run in range(10):\n",
    "        abs_normalized_returns_ABM_results_for_same_n0.append(normalise((results_ABM_10_runs_for_different_n0[n0][0][run])))\n",
    "        volumes_abm_for_same_n0.append((results_ABM_10_runs_for_different_n0[n0][1][run] / np.mean(results_ABM_10_runs_for_different_n0[n0][1][run])))\n",
    "\n",
    "    abs_normalized_returns_ABM_results_for_different_n0.append(abs_normalized_returns_ABM_results_for_same_n0)\n",
    "    volumes_abm_for_different_n0.append(volumes_abm_for_same_n0)\n"
   ]
  },
  {
   "attachments": {},
   "cell_type": "markdown",
   "metadata": {},
   "source": [
    "# Comparing 10 runs vs. emperical data"
   ]
  },
  {
   "cell_type": "code",
   "execution_count": null,
   "metadata": {},
   "outputs": [],
   "source": [
    "# Return fit\n",
    "bin=np.logspace(start=0, stop=np.log(10), num=100)\n",
    "\n",
    "# uncomment this code to look at fits for multiple values of n0 for the ABM model\n",
    "\n",
    "# abm_x = get_bins(abs_normalized_returns_ABM_results_for_different_n0[0], bin)[0][0]\n",
    "# abm_y = get_bins(abs_normalized_returns_ABM_results_for_different_n0[0], bin)[1][0]\n",
    "# abm_y_error = get_bins(abs_normalized_returns_ABM_results_for_different_n0[0], bin)[1][1]\n",
    "\n",
    "## uncomment this code to look at fits for multiple values of V_F for the ABM model\n",
    "# abm_x = get_bins(abs_normalized_returns_ABM_results_for_different_V_f[1], bin)[0][0]\n",
    "# abm_y = get_bins(abs_normalized_returns_ABM_results_for_different_V_f[1], bin)[1][0]\n",
    "# abm_y_error = get_bins(abs_normalized_returns_ABM_results_for_different_V_f[1], bin)[1][1]\n",
    "\n",
    "## uncomment this code to look at fits for multiple values of omega for the ABM model\n",
    "\n",
    "# abm_x = get_bins(results_ABM_10_runs_for_different_omega[1], bin)[0][0]\n",
    "# abm_y = get_bins(results_ABM_10_runs_for_different_omega[1], bin)[1][0]\n",
    "# abm_y_error = get_bins(results_ABM_10_runs_for_different_omega[1], bin)[1][1]\n",
    "\n",
    "abm_x = get_bins(results_ABM_10_runs_for_different_omega[0], bin)[0][0]\n",
    "abm_y = get_bins(results_ABM_10_runs_for_different_omega[0], bin)[1][0]\n",
    "abm_y_error = get_bins(results_ABM_10_runs_for_different_omega[0], bin)[1][1]\n",
    "\n",
    "# ## uncomment this code to look at fits for multiple values of omega for the Stochastic model\n",
    "\n",
    "stoch_x = get_bins(stochastic_model_without_time_horizon_results[1], bin)[0][0]\n",
    "stoch_y = get_bins(stochastic_model_without_time_horizon_results[1], bin)[1][0]\n",
    "stoch_y_error = get_bins(stochastic_model_without_time_horizon_results[1], bin)[1][1]\n",
    "\n",
    "stoch_hoz_x = get_bins(stochastic_model_with_time_horizon_results[1], bin)[0][0]\n",
    "stoch_hoz_y = get_bins(stochastic_model_with_time_horizon_results[1], bin)[1][0]\n",
    "stoch_hoz_y_error = get_bins(stochastic_model_with_time_horizon_results[1], bin)[1][1]\n",
    "\n",
    "# this is only here so the hists dont get plotted, but we can extract the binheights\n",
    "plt.close()"
   ]
  },
  {
   "attachments": {},
   "cell_type": "markdown",
   "metadata": {},
   "source": [
    "#### Importing & Normalizing emperical volume data"
   ]
  },
  {
   "cell_type": "code",
   "execution_count": null,
   "metadata": {},
   "outputs": [],
   "source": [
    "# Return fit\n",
    "bin=np.logspace(start=0, stop=np.log(10), num=100)\n",
    "\n",
    "\n",
    "# uncomment this code to look at fits for multiple values of n0 for the ABM model\n",
    "# abm_x = get_bins(volumes_abm_for_different_n0[1], bin)[0][0]\n",
    "# abm_y = get_bins(volumes_abm_for_different_n0[1], bin)[1][0]\n",
    "# abm_y_error = get_bins(volumes_abm_for_different_n0[1], bin)[1][1]\n",
    "\n",
    "\n",
    "# uncomment this code to look at fits for multiple values of omega for the ABM model\n",
    "# abm_x = get_bins(volumes_ABM_10_runs_for_different_omega[1], bin)[0][0]\n",
    "# abm_y = get_bins(volumes_ABM_10_runs_for_different_omega[1], bin)[1][0]\n",
    "# abm_y_error = get_bins(volumes_ABM_10_runs_for_different_omega[1], bin)[1][1]\n",
    "\n",
    "# uncomment this code to look at fits for multiple values of V_F for the ABM model\n",
    "abm_x = get_bins(abm_normalised_volumes_Vf[1], bin)[0][0]\n",
    "abm_y = get_bins(abm_normalised_volumes_Vf[1], bin)[1][0]\n",
    "abm_y_error = get_bins(abm_normalised_volumes_Vf[1], bin)[1][1]\n",
    "\n",
    "# this is only here so the hists dont get plotted, but we can extract the binheights\n",
    "plt.close()"
   ]
  }
 ],
 "metadata": {
  "kernelspec": {
   "display_name": "Python 3",
   "language": "python",
   "name": "python3"
  },
  "language_info": {
   "name": "python",
   "version": "3.11.1 (v3.11.1:a7a450f84a, Dec  6 2022, 15:24:06) [Clang 13.0.0 (clang-1300.0.29.30)]"
  },
  "orig_nbformat": 4,
  "vscode": {
   "interpreter": {
    "hash": "aee8b7b246df8f9039afb4144a1f6fd8d2ca17a180786b69acc140d282b71a49"
   }
  }
 },
 "nbformat": 4,
 "nbformat_minor": 2
}
