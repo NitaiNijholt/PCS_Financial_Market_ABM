{
 "cells": [
  {
   "cell_type": "code",
   "execution_count": 1,
   "metadata": {},
   "outputs": [
    {
     "data": {
      "text/html": [
       "        <script type=\"text/javascript\">\n",
       "        window.PlotlyConfig = {MathJaxConfig: 'local'};\n",
       "        if (window.MathJax && window.MathJax.Hub && window.MathJax.Hub.Config) {window.MathJax.Hub.Config({SVG: {font: \"STIX-Web\"}});}\n",
       "        if (typeof require !== 'undefined') {\n",
       "        require.undef(\"plotly\");\n",
       "        requirejs.config({\n",
       "            paths: {\n",
       "                'plotly': ['https://cdn.plot.ly/plotly-2.12.1.min']\n",
       "            }\n",
       "        });\n",
       "        require(['plotly'], function(Plotly) {\n",
       "            window._Plotly = Plotly;\n",
       "        });\n",
       "        }\n",
       "        </script>\n",
       "        "
      ]
     },
     "metadata": {},
     "output_type": "display_data"
    }
   ],
   "source": [
    "import numpy as np\n",
    "import random as rnd\n",
    "import matplotlib.pyplot as plt\n",
    "import math\n",
    "from scipy import stats\n",
    "import pandas as pd\n",
    "import matplotlib as mpl\n",
    "import datetime as dt\n",
    "from pandas_datareader import data as pdr\n",
    "import plotly.offline as plotly\n",
    "import plotly.graph_objects as go\n",
    "from plotly.subplots import make_subplots\n",
    "import yfinance as yf\n",
    "yf.pdr_override()\n",
    "import os\n",
    "plotly.init_notebook_mode(connected=True)\n",
    "pd.options.plotting.backend = 'plotly'\n",
    "import wrds"
   ]
  },
  {
   "cell_type": "markdown",
   "metadata": {},
   "source": [
    "### Preparing DataFrames to to calculate the velocity value"
   ]
  },
  {
   "cell_type": "code",
   "execution_count": 2,
   "metadata": {},
   "outputs": [],
   "source": [
    "df_close_clean = pd.read_csv('data/df_close_clean.csv')\n",
    "df_open_clean = pd.read_csv('data/df_open_clean.csv')\n",
    "df_volume_clean = pd.read_csv('data/df_volume_clean.csv')\n",
    "df_shares_outstanding_clean = pd.read_csv('data/df_shares_outstanding_clean.csv')\n",
    "df_volume_clean_wrds = pd.read_csv('data/df_volume_clean_WRDS.csv')\n",
    "\n",
    "# change index to datetime\n",
    "df_close_clean.index = pd.to_datetime(df_close_clean['Date'])\n",
    "df_open_clean.index = pd.to_datetime(df_open_clean['Date'])\n",
    "df_volume_clean.index = pd.to_datetime(df_volume_clean['Date'])\n",
    "df_shares_outstanding_clean.index = pd.to_datetime(df_shares_outstanding_clean['Date'])\n",
    "df_volume_clean_wrds.index = pd.to_datetime(df_volume_clean_wrds['Date'])\n",
    "\n",
    "# Remove the \"Date\" column as it no longer has any use\n",
    "df_close_clean = df_close_clean.drop(columns=['Date'])\n",
    "df_open_clean = df_open_clean.drop(columns=['Date'])\n",
    "df_volume_clean = df_volume_clean.drop(columns=['Date'])\n",
    "df_shares_outstanding_clean = df_shares_outstanding_clean.drop(columns=['Date'])\n",
    "df_volume_clean_wrds = df_volume_clean_wrds.drop(columns=['Date'])"
   ]
  },
  {
   "cell_type": "markdown",
   "metadata": {},
   "source": [
    "### Velocity calculation\n",
    "\n",
    "We do the velocity calculation in a fashion similar as Feng et. al's 2012 paper, in the following steps:\n",
    "1. Divide the total number of shares traded on the market(volume) by the number of outstanding shares of each stock every day\n",
    "2. Resample the dataframe into a yearly timeframe\n",
    "3. Sum up the yearly velocity per stock and divide it by the amount of years used in the dataframe which results in the mean velocity per stock\n",
    "4. Take the mean of all the mean of the different stocks"
   ]
  },
  {
   "cell_type": "code",
   "execution_count": 3,
   "metadata": {},
   "outputs": [],
   "source": [
    "# Step 1\n",
    "velocity_df_daily = df_volume_clean_wrds/df_shares_outstanding_clean\n",
    "\n",
    "# Step 2\n",
    "velocity_yearly_df = velocity_df_daily.resample('Y').sum()\n",
    "\n",
    "# Step 3 + 4\n",
    "sum_velocity_yearly_df = velocity_yearly_df.apply(lambda x: x.sum())/velocity_yearly_df.shape[0] # .shape[0] = amount of rows \n",
    "V = sum_velocity_yearly_df.mean()"
   ]
  },
  {
   "cell_type": "code",
   "execution_count": 4,
   "metadata": {},
   "outputs": [],
   "source": [
    "def probability_of_trading(V_f:float, V:float) -> float:\n",
    "    \"\"\"returns the probability of trading for a given velocity of fundamental traders and total market velocity V\"\"\"\n",
    "    # V is total market velocity, V_f is the velocity of fundamental traders, V_c is the velocity of technical traders\n",
    "    # We assume that the proportion of shares held by fundamental traders is the same as in the period 1997-2006, namely 83% on average. \n",
    "    # This might be a bit strong, but we continue with this assumption for now.\n",
    "    # thus the velocity of technical traders is V_C is given by:\n",
    "    V_c = (V - 0.83*V_f)/(1-0.83)\n",
    "    # because there are around 250 trading days in a year, we arrive at probability of trading p as follows:\n",
    "    p = V_c/(250*2)\n",
    "    return p\n"
   ]
  },
  {
   "cell_type": "code",
   "execution_count": 5,
   "metadata": {},
   "outputs": [
    {
     "name": "stdout",
     "output_type": "stream",
     "text": [
      "The V value is 2.183549851113631\n",
      "V_f: 0.2 gives a p value of 0.02373588060133683\n",
      "V_f: 0.4 gives a p value of 0.02178293942486624\n",
      "V_f: 0.6 gives a p value of 0.019829998248395653\n",
      "V_f: 0.8 gives a p value of 0.01787705707192506\n"
     ]
    }
   ],
   "source": [
    "# multiple choices of V_F, in the paper they chose V_f = 0.4 as an arbirtrary choice which achieved best fit\n",
    "V_f_list = [0.2, 0.4, 0.6, 0.8]\n",
    "\n",
    "print(\"The V value is\", V)\n",
    "for V_f in V_f_list:\n",
    "    p = probability_of_trading(V_f, V)\n",
    "    print('V_f: ' + str(V_f), 'gives a p value of', p)\n"
   ]
  },
  {
   "cell_type": "code",
   "execution_count": 6,
   "metadata": {},
   "outputs": [],
   "source": [
    "# other parameters\n",
    "n = 2**10\n",
    "t = 10**4\n",
    "p = 0.02178\n",
    "omega = 1\n",
    "size = 1\n",
    "k = 1\n",
    "M = 500\n",
    "d = 1.12"
   ]
  },
  {
   "cell_type": "code",
   "execution_count": 7,
   "metadata": {},
   "outputs": [],
   "source": [
    "# agent behaviors for buying, selling and holding based on the probability of trading p\n",
    "def buy_sell_hold(p):\n",
    "    assert p <= 0.5, \"p should be smaller than 0.5\"\n",
    "    p_b = p # buy/sell\n",
    "    p_s = p\n",
    "    p_h = 1 - 2*p # hold\n",
    "    dice = rnd.uniform(0, 1)\n",
    "    # if the dice rolls below p, roll a 50/50 dice to decide buy or sell\n",
    "    if dice <= 2*p:\n",
    "        if rnd.choice([0, 1]) == 0:\n",
    "            psi = 1\n",
    "        else:\n",
    "            psi = -1\n",
    "    else:\n",
    "        psi = 0\n",
    "    return psi"
   ]
  },
  {
   "cell_type": "code",
   "execution_count": 8,
   "metadata": {},
   "outputs": [],
   "source": [
    "class Agent:\n",
    "    def __init__(self, size) -> None:\n",
    "        self.size = size\n",
    "\n",
    "class Model:\n",
    "    def __init__(self, p: float, n: int, size: int, k: int, omega: int) -> None:\n",
    "        self.n = n\n",
    "        self.p = p\n",
    "        self.agents = [Agent(size) for i in range(n)]\n",
    "        self.daily_return = []\n",
    "        self.trading_volume = 0\n",
    "        self.k = k\n",
    "        self.omega = omega\n",
    "        self.daily_returns = []\n",
    "        self.count = 0\n",
    "\n",
    "        self.daily_trading_volumes = []\n",
    "\n",
    "        \n",
    "    def distribute_opinion_groups(self) -> None:\n",
    "\n",
    "        # number of opinion groups\n",
    "        if sum(self.daily_return) != 0:\n",
    "            c = (self.n // abs(sum(self.daily_return))) ** self.omega\n",
    "        else:\n",
    "            c = self.n\n",
    "            \n",
    "        # rounding down c to the nearest integer\n",
    "        c = math.floor(c)\n",
    "        \n",
    "        opinion_groups = [[] for i in range(c)]\n",
    "        opinion_agents = self.agents.copy()\n",
    "\n",
    "        # distribute agents evenly\n",
    "        for opinion_group in opinion_groups:\n",
    "            for i in range(round(self.n / c)):\n",
    "                if len(opinion_agents) > 0:\n",
    "                    i = rnd.choice([i for i in range(len(opinion_agents))])\n",
    "\n",
    "                    opinion_group.append(opinion_agents[i])\n",
    "                    del opinion_agents[i]\n",
    "                else:\n",
    "                    break\n",
    "                \n",
    "        return opinion_groups\n",
    "    \n",
    "\n",
    "    def step(self):\n",
    "        self.count += 1\n",
    "        opinion_groups = self.distribute_opinion_groups()\n",
    "        self.daily_return = []\n",
    "        self.trading_volume = 0\n",
    "\n",
    "        for opinion_group in opinion_groups:\n",
    "            psi = buy_sell_hold(self.p)\n",
    "            self.daily_return.append(psi * len(opinion_group))\n",
    "            self.trading_volume += abs(psi * len(opinion_group))\n",
    "    \n",
    "        self.daily_returns.append(sum(self.daily_return) * k)\n",
    "        self.daily_trading_volumes.append(self.trading_volume)\n",
    "\n",
    "        return self.count"
   ]
  },
  {
   "cell_type": "code",
   "execution_count": 10,
   "metadata": {},
   "outputs": [],
   "source": [
    "# ABM simulation\n",
    "\n",
    "model_test = Model(p, n, size, k, omega)\n",
    "for i in range(t):\n",
    "    model_test.step()\n"
   ]
  },
  {
   "cell_type": "code",
   "execution_count": 11,
   "metadata": {},
   "outputs": [
    {
     "data": {
      "image/png": "[encoded data removed]",
      "text/plain": [
       "<Figure size 432x288 with 1 Axes>"
      ]
     },
     "metadata": {
      "needs_background": "light"
     },
     "output_type": "display_data"
    },
    {
     "data": {
      "image/png": "[encoded data removed]",
      "text/plain": [
       "<Figure size 432x288 with 1 Axes>"
      ]
     },
     "metadata": {
      "needs_background": "light"
     },
     "output_type": "display_data"
    }
   ],
   "source": [
    "# logarithmic bins\n",
    "bin=np.logspace(start=0, stop=np.log(5), num=t)\n",
    "\n",
    "# normalised returns\n",
    "returns = [(abs(day) - np.mean(model_test.daily_returns)) / np.std(model_test.daily_returns) for day in model_test.daily_returns]\n",
    "\n",
    "plt.plot(model_test.daily_returns)\n",
    "plt.show()\n",
    "\n",
    "plt.figure(1)\n",
    "plt.hist(returns, bin, cumulative=-1, density=True, log=True, histtype='step')\n",
    "plt.title(\"Probability distribution of absolute returns (log-log)\")\n",
    "plt.xlabel(\"Absolute daily returns\")\n",
    "plt.ylabel(\"P(|absolute returns| > x)\")\n",
    "plt.gca().set_xscale(\"log\")\n",
    "plt.show()\n"
   ]
  },
  {
   "cell_type": "code",
   "execution_count": 12,
   "metadata": {},
   "outputs": [],
   "source": [
    "class Stochastic_Model:\n",
    "    def __init__(self, n: int, p: float, init: int, time_horizon: bool, M, d):\n",
    "        self.returns = [init]\n",
    "        self.n = n\n",
    "        self.p = p\n",
    "        self.time_horizon = time_horizon\n",
    "        self.M = M\n",
    "        self.d = d\n",
    "\n",
    "    def time_horizons(self):\n",
    "        time_horizons = []\n",
    "        alpha = []\n",
    "\n",
    "        # distribution of agents in different time horizons\n",
    "        # agents are allocated to each time horizon (with exponential decay as we go back in time), until we reach the limit M\n",
    "        # or until we reach the beginning of the simulation (if current timestep t < M)\n",
    "        for i in range(1, self.M + 1):\n",
    "            if len(self.returns) == 1:\n",
    "                value = (i ** -self.d) * abs(self.returns[-1])\n",
    "                alpha_val = (i ** -self.d)\n",
    "                time_horizons.append(value)\n",
    "                alpha.append(alpha_val)\n",
    "\n",
    "            elif i >= len(self.returns):\n",
    "                value = (i ** -self.d) * abs(self.returns[-1] - self.returns[0])\n",
    "                alpha_val = (i ** -self.d)\n",
    "                time_horizons.append(value)\n",
    "                alpha.append(alpha_val)\n",
    "\n",
    "            else:\n",
    "                value = (i ** -self.d) * abs(self.returns[-1] - self.returns[-1-i])\n",
    "                alpha_val = (i ** -self.d)\n",
    "                time_horizons.append(value)\n",
    "                alpha.append(alpha_val)\n",
    "\n",
    "        return sum(time_horizons) * (sum(alpha) ** -1)\n",
    "\n",
    "    def step(self):\n",
    "\n",
    "        # Agents only factor in the returns at the previous timestep\n",
    "        if self.time_horizon == False:\n",
    "            variance  = 2 * p * n * abs(self.returns[-1])\n",
    "            std = math.sqrt(variance)\n",
    "            value = std * np.random.normal(0.0, 1.0)\n",
    "            self.returns.append(value)\n",
    "        \n",
    "        # Agents look back M timesteps\n",
    "        if self.time_horizon == True:\n",
    "            horizons = self.time_horizons()\n",
    "            variance  = 2 * p * n * horizons\n",
    "            std = math.sqrt(variance)\n",
    "            value = std * np.random.normal(0.0, 1.0)\n",
    "            self.returns.append(value)  "
   ]
  },
  {
   "cell_type": "code",
   "execution_count": 13,
   "metadata": {},
   "outputs": [],
   "source": [
    "# Stochastic simulation\n",
    "\n",
    "stochastic = Stochastic_Model(n, p, 10, time_horizon=False, M=10, d=1.12)\n",
    "stochastic_horizons = Stochastic_Model(n, p, 10, time_horizon=True, M=10, d=1.12)\n",
    "\n",
    "for i in range(t):\n",
    "    stochastic.step()\n",
    "    stochastic_horizons.step()"
   ]
  },
  {
   "cell_type": "code",
   "execution_count": 14,
   "metadata": {},
   "outputs": [
    {
     "data": {
      "image/png": "[encoded data removed]",
      "text/plain": [
       "<Figure size 432x288 with 1 Axes>"
      ]
     },
     "metadata": {
      "needs_background": "light"
     },
     "output_type": "display_data"
    },
    {
     "data": {
      "image/png": "[encoded data removed]",
      "text/plain": [
       "<Figure size 432x288 with 1 Axes>"
      ]
     },
     "metadata": {
      "needs_background": "light"
     },
     "output_type": "display_data"
    },
    {
     "data": {
      "image/png": "[encoded data removed]",
      "text/plain": [
       "<Figure size 432x288 with 1 Axes>"
      ]
     },
     "metadata": {
      "needs_background": "light"
     },
     "output_type": "display_data"
    }
   ],
   "source": [
    "#stochastic simulation return plots\n",
    "plt.plot(range(t + 1), stochastic.returns)\n",
    "plt.show()\n",
    "\n",
    "plt.plot(range(t+1), stochastic_horizons.returns, color='orange')\n",
    "plt.show()\n",
    "\n",
    "abs_returns = [(abs(i) - np.mean(stochastic.returns)) / (np.std(stochastic.returns)) for i in stochastic.returns]\n",
    "abs_returns_horizons = [(abs(i) - np.mean(abs_returns)) / (np.std(stochastic.returns)) for i in stochastic_horizons.returns]\n",
    "bin=np.logspace(start=0, stop=np.log(10), num=200)\n",
    "\n",
    "plt.hist(abs_returns, bins=bin, cumulative=-1, density=True, log=True, histtype='step')\n",
    "plt.hist(abs_returns_horizons, bin, cumulative=-1, density=True, log=True, histtype='step', color = 'orange')\n",
    "plt.gca().set_xscale(\"log\")\n",
    "plt.show()"
   ]
  },
  {
   "cell_type": "code",
   "execution_count": 15,
   "metadata": {},
   "outputs": [],
   "source": [
    "# calculation of returns following feng et al. (2012) method:\n",
    "df_real_returns_log_difference = df_close_clean.apply(np.log) - df_open_clean.apply(np.log) \n",
    "\n",
    "# taking absolute of real returns\n",
    "df_real_returns_log_difference_abs = df_real_returns_log_difference.abs()\n",
    "\n",
    "# taking pct change returns\n",
    "df_real_returns_pct_change = ((df_close_clean - df_open_clean)/df_open_clean).dropna()"
   ]
  },
  {
   "cell_type": "code",
   "execution_count": 16,
   "metadata": {},
   "outputs": [
    {
     "data": {
      "text/html": [
       "<div>\n",
       "<style scoped>\n",
       "    .dataframe tbody tr th:only-of-type {\n",
       "        vertical-align: middle;\n",
       "    }\n",
       "\n",
       "    .dataframe tbody tr th {\n",
       "        vertical-align: top;\n",
       "    }\n",
       "\n",
       "    .dataframe thead th {\n",
       "        text-align: right;\n",
       "    }\n",
       "</style>\n",
       "<table border=\"1\" class=\"dataframe\">\n",
       "  <thead>\n",
       "    <tr style=\"text-align: right;\">\n",
       "      <th></th>\n",
       "      <th>A</th>\n",
       "      <th>AAL</th>\n",
       "      <th>AAP</th>\n",
       "      <th>AAPL</th>\n",
       "      <th>ABBV</th>\n",
       "      <th>ABC</th>\n",
       "      <th>ABT</th>\n",
       "      <th>ACGL</th>\n",
       "      <th>ACN</th>\n",
       "      <th>ADBE</th>\n",
       "      <th>...</th>\n",
       "      <th>WY</th>\n",
       "      <th>WYNN</th>\n",
       "      <th>XEL</th>\n",
       "      <th>XOM</th>\n",
       "      <th>XRAY</th>\n",
       "      <th>XYL</th>\n",
       "      <th>YUM</th>\n",
       "      <th>ZBH</th>\n",
       "      <th>ZBRA</th>\n",
       "      <th>ZION</th>\n",
       "    </tr>\n",
       "    <tr>\n",
       "      <th>Date</th>\n",
       "      <th></th>\n",
       "      <th></th>\n",
       "      <th></th>\n",
       "      <th></th>\n",
       "      <th></th>\n",
       "      <th></th>\n",
       "      <th></th>\n",
       "      <th></th>\n",
       "      <th></th>\n",
       "      <th></th>\n",
       "      <th></th>\n",
       "      <th></th>\n",
       "      <th></th>\n",
       "      <th></th>\n",
       "      <th></th>\n",
       "      <th></th>\n",
       "      <th></th>\n",
       "      <th></th>\n",
       "      <th></th>\n",
       "      <th></th>\n",
       "      <th></th>\n",
       "    </tr>\n",
       "  </thead>\n",
       "  <tbody>\n",
       "    <tr>\n",
       "      <th>2013-01-02</th>\n",
       "      <td>0.006877</td>\n",
       "      <td>0.018950</td>\n",
       "      <td>0.013607</td>\n",
       "      <td>0.008649</td>\n",
       "      <td>0.005727</td>\n",
       "      <td>0.002294</td>\n",
       "      <td>0.007740</td>\n",
       "      <td>0.000000</td>\n",
       "      <td>0.021749</td>\n",
       "      <td>0.011076</td>\n",
       "      <td>...</td>\n",
       "      <td>0.022807</td>\n",
       "      <td>0.014609</td>\n",
       "      <td>0.012949</td>\n",
       "      <td>0.010480</td>\n",
       "      <td>0.007459</td>\n",
       "      <td>0.004705</td>\n",
       "      <td>0.005037</td>\n",
       "      <td>0.001479</td>\n",
       "      <td>0.022977</td>\n",
       "      <td>0.005027</td>\n",
       "    </tr>\n",
       "    <tr>\n",
       "      <th>2013-01-03</th>\n",
       "      <td>0.002146</td>\n",
       "      <td>0.025678</td>\n",
       "      <td>0.004942</td>\n",
       "      <td>0.010550</td>\n",
       "      <td>0.004857</td>\n",
       "      <td>0.003215</td>\n",
       "      <td>0.011246</td>\n",
       "      <td>0.000452</td>\n",
       "      <td>0.000727</td>\n",
       "      <td>0.010225</td>\n",
       "      <td>...</td>\n",
       "      <td>0.001030</td>\n",
       "      <td>0.006494</td>\n",
       "      <td>0.003286</td>\n",
       "      <td>0.001017</td>\n",
       "      <td>0.002222</td>\n",
       "      <td>0.003273</td>\n",
       "      <td>0.006703</td>\n",
       "      <td>0.013879</td>\n",
       "      <td>0.005148</td>\n",
       "      <td>0.001364</td>\n",
       "    </tr>\n",
       "    <tr>\n",
       "      <th>2013-01-04</th>\n",
       "      <td>0.017086</td>\n",
       "      <td>0.067391</td>\n",
       "      <td>0.011959</td>\n",
       "      <td>0.018567</td>\n",
       "      <td>0.006644</td>\n",
       "      <td>0.010875</td>\n",
       "      <td>0.007801</td>\n",
       "      <td>0.007222</td>\n",
       "      <td>0.003918</td>\n",
       "      <td>0.006600</td>\n",
       "      <td>...</td>\n",
       "      <td>0.004786</td>\n",
       "      <td>0.007087</td>\n",
       "      <td>0.002561</td>\n",
       "      <td>0.005198</td>\n",
       "      <td>0.005427</td>\n",
       "      <td>0.005089</td>\n",
       "      <td>0.013049</td>\n",
       "      <td>0.004366</td>\n",
       "      <td>0.003950</td>\n",
       "      <td>0.028610</td>\n",
       "    </tr>\n",
       "    <tr>\n",
       "      <th>2013-01-07</th>\n",
       "      <td>0.001174</td>\n",
       "      <td>0.003381</td>\n",
       "      <td>0.003008</td>\n",
       "      <td>0.003640</td>\n",
       "      <td>0.009078</td>\n",
       "      <td>0.002975</td>\n",
       "      <td>0.009691</td>\n",
       "      <td>0.003383</td>\n",
       "      <td>0.004520</td>\n",
       "      <td>0.003438</td>\n",
       "      <td>...</td>\n",
       "      <td>0.006143</td>\n",
       "      <td>0.003810</td>\n",
       "      <td>0.006232</td>\n",
       "      <td>0.004303</td>\n",
       "      <td>0.005161</td>\n",
       "      <td>0.006620</td>\n",
       "      <td>0.001471</td>\n",
       "      <td>0.006254</td>\n",
       "      <td>0.008134</td>\n",
       "      <td>0.000888</td>\n",
       "    </tr>\n",
       "    <tr>\n",
       "      <th>2013-01-08</th>\n",
       "      <td>0.006122</td>\n",
       "      <td>0.018133</td>\n",
       "      <td>0.013667</td>\n",
       "      <td>0.007369</td>\n",
       "      <td>0.016915</td>\n",
       "      <td>0.000229</td>\n",
       "      <td>0.001802</td>\n",
       "      <td>0.001584</td>\n",
       "      <td>0.007708</td>\n",
       "      <td>0.009529</td>\n",
       "      <td>...</td>\n",
       "      <td>0.009867</td>\n",
       "      <td>0.000413</td>\n",
       "      <td>0.003325</td>\n",
       "      <td>0.007515</td>\n",
       "      <td>0.005901</td>\n",
       "      <td>0.009283</td>\n",
       "      <td>0.009938</td>\n",
       "      <td>0.001735</td>\n",
       "      <td>0.006888</td>\n",
       "      <td>0.018222</td>\n",
       "    </tr>\n",
       "    <tr>\n",
       "      <th>...</th>\n",
       "      <td>...</td>\n",
       "      <td>...</td>\n",
       "      <td>...</td>\n",
       "      <td>...</td>\n",
       "      <td>...</td>\n",
       "      <td>...</td>\n",
       "      <td>...</td>\n",
       "      <td>...</td>\n",
       "      <td>...</td>\n",
       "      <td>...</td>\n",
       "      <td>...</td>\n",
       "      <td>...</td>\n",
       "      <td>...</td>\n",
       "      <td>...</td>\n",
       "      <td>...</td>\n",
       "      <td>...</td>\n",
       "      <td>...</td>\n",
       "      <td>...</td>\n",
       "      <td>...</td>\n",
       "      <td>...</td>\n",
       "      <td>...</td>\n",
       "    </tr>\n",
       "    <tr>\n",
       "      <th>2022-12-23</th>\n",
       "      <td>0.001476</td>\n",
       "      <td>0.015987</td>\n",
       "      <td>0.009725</td>\n",
       "      <td>0.007180</td>\n",
       "      <td>0.001775</td>\n",
       "      <td>0.004728</td>\n",
       "      <td>0.004737</td>\n",
       "      <td>0.007471</td>\n",
       "      <td>0.001129</td>\n",
       "      <td>0.010299</td>\n",
       "      <td>...</td>\n",
       "      <td>0.014171</td>\n",
       "      <td>0.000124</td>\n",
       "      <td>0.014155</td>\n",
       "      <td>0.016176</td>\n",
       "      <td>0.016608</td>\n",
       "      <td>0.001095</td>\n",
       "      <td>0.003660</td>\n",
       "      <td>0.005955</td>\n",
       "      <td>0.005509</td>\n",
       "      <td>0.003521</td>\n",
       "    </tr>\n",
       "    <tr>\n",
       "      <th>2022-12-27</th>\n",
       "      <td>0.002144</td>\n",
       "      <td>0.007132</td>\n",
       "      <td>0.012144</td>\n",
       "      <td>0.010276</td>\n",
       "      <td>0.003058</td>\n",
       "      <td>0.005882</td>\n",
       "      <td>0.002030</td>\n",
       "      <td>0.003787</td>\n",
       "      <td>0.002294</td>\n",
       "      <td>0.008609</td>\n",
       "      <td>...</td>\n",
       "      <td>0.003188</td>\n",
       "      <td>0.035359</td>\n",
       "      <td>0.008170</td>\n",
       "      <td>0.008420</td>\n",
       "      <td>0.004385</td>\n",
       "      <td>0.006637</td>\n",
       "      <td>0.004640</td>\n",
       "      <td>0.002205</td>\n",
       "      <td>0.006617</td>\n",
       "      <td>0.003905</td>\n",
       "    </tr>\n",
       "    <tr>\n",
       "      <th>2022-12-28</th>\n",
       "      <td>0.011283</td>\n",
       "      <td>0.015975</td>\n",
       "      <td>0.002415</td>\n",
       "      <td>0.027994</td>\n",
       "      <td>0.008980</td>\n",
       "      <td>0.012975</td>\n",
       "      <td>0.010915</td>\n",
       "      <td>0.016805</td>\n",
       "      <td>0.011199</td>\n",
       "      <td>0.020086</td>\n",
       "      <td>...</td>\n",
       "      <td>0.024833</td>\n",
       "      <td>0.041068</td>\n",
       "      <td>0.009961</td>\n",
       "      <td>0.013921</td>\n",
       "      <td>0.037589</td>\n",
       "      <td>0.016964</td>\n",
       "      <td>0.006759</td>\n",
       "      <td>0.011378</td>\n",
       "      <td>0.014532</td>\n",
       "      <td>0.018416</td>\n",
       "    </tr>\n",
       "    <tr>\n",
       "      <th>2022-12-29</th>\n",
       "      <td>0.009892</td>\n",
       "      <td>0.025020</td>\n",
       "      <td>0.001369</td>\n",
       "      <td>0.012657</td>\n",
       "      <td>0.002455</td>\n",
       "      <td>0.011607</td>\n",
       "      <td>0.014345</td>\n",
       "      <td>0.005897</td>\n",
       "      <td>0.010505</td>\n",
       "      <td>0.020650</td>\n",
       "      <td>...</td>\n",
       "      <td>0.015564</td>\n",
       "      <td>0.010068</td>\n",
       "      <td>0.002539</td>\n",
       "      <td>0.011205</td>\n",
       "      <td>0.039279</td>\n",
       "      <td>0.015833</td>\n",
       "      <td>0.003396</td>\n",
       "      <td>0.009237</td>\n",
       "      <td>0.031978</td>\n",
       "      <td>0.021223</td>\n",
       "    </tr>\n",
       "    <tr>\n",
       "      <th>2022-12-30</th>\n",
       "      <td>0.000735</td>\n",
       "      <td>0.013546</td>\n",
       "      <td>0.010168</td>\n",
       "      <td>0.011837</td>\n",
       "      <td>0.003822</td>\n",
       "      <td>0.001987</td>\n",
       "      <td>0.000091</td>\n",
       "      <td>0.000957</td>\n",
       "      <td>0.004896</td>\n",
       "      <td>0.010601</td>\n",
       "      <td>...</td>\n",
       "      <td>0.000967</td>\n",
       "      <td>0.028689</td>\n",
       "      <td>0.011142</td>\n",
       "      <td>0.015560</td>\n",
       "      <td>0.003755</td>\n",
       "      <td>0.002076</td>\n",
       "      <td>0.011805</td>\n",
       "      <td>0.002753</td>\n",
       "      <td>0.008694</td>\n",
       "      <td>0.011315</td>\n",
       "    </tr>\n",
       "  </tbody>\n",
       "</table>\n",
       "<p>2518 rows × 463 columns</p>\n",
       "</div>"
      ],
      "text/plain": [
       "                   A       AAL       AAP      AAPL      ABBV       ABC  \\\n",
       "Date                                                                     \n",
       "2013-01-02  0.006877  0.018950  0.013607  0.008649  0.005727  0.002294   \n",
       "2013-01-03  0.002146  0.025678  0.004942  0.010550  0.004857  0.003215   \n",
       "2013-01-04  0.017086  0.067391  0.011959  0.018567  0.006644  0.010875   \n",
       "2013-01-07  0.001174  0.003381  0.003008  0.003640  0.009078  0.002975   \n",
       "2013-01-08  0.006122  0.018133  0.013667  0.007369  0.016915  0.000229   \n",
       "...              ...       ...       ...       ...       ...       ...   \n",
       "2022-12-23  0.001476  0.015987  0.009725  0.007180  0.001775  0.004728   \n",
       "2022-12-27  0.002144  0.007132  0.012144  0.010276  0.003058  0.005882   \n",
       "2022-12-28  0.011283  0.015975  0.002415  0.027994  0.008980  0.012975   \n",
       "2022-12-29  0.009892  0.025020  0.001369  0.012657  0.002455  0.011607   \n",
       "2022-12-30  0.000735  0.013546  0.010168  0.011837  0.003822  0.001987   \n",
       "\n",
       "                 ABT      ACGL       ACN      ADBE  ...        WY      WYNN  \\\n",
       "Date                                                ...                       \n",
       "2013-01-02  0.007740  0.000000  0.021749  0.011076  ...  0.022807  0.014609   \n",
       "2013-01-03  0.011246  0.000452  0.000727  0.010225  ...  0.001030  0.006494   \n",
       "2013-01-04  0.007801  0.007222  0.003918  0.006600  ...  0.004786  0.007087   \n",
       "2013-01-07  0.009691  0.003383  0.004520  0.003438  ...  0.006143  0.003810   \n",
       "2013-01-08  0.001802  0.001584  0.007708  0.009529  ...  0.009867  0.000413   \n",
       "...              ...       ...       ...       ...  ...       ...       ...   \n",
       "2022-12-23  0.004737  0.007471  0.001129  0.010299  ...  0.014171  0.000124   \n",
       "2022-12-27  0.002030  0.003787  0.002294  0.008609  ...  0.003188  0.035359   \n",
       "2022-12-28  0.010915  0.016805  0.011199  0.020086  ...  0.024833  0.041068   \n",
       "2022-12-29  0.014345  0.005897  0.010505  0.020650  ...  0.015564  0.010068   \n",
       "2022-12-30  0.000091  0.000957  0.004896  0.010601  ...  0.000967  0.028689   \n",
       "\n",
       "                 XEL       XOM      XRAY       XYL       YUM       ZBH  \\\n",
       "Date                                                                     \n",
       "2013-01-02  0.012949  0.010480  0.007459  0.004705  0.005037  0.001479   \n",
       "2013-01-03  0.003286  0.001017  0.002222  0.003273  0.006703  0.013879   \n",
       "2013-01-04  0.002561  0.005198  0.005427  0.005089  0.013049  0.004366   \n",
       "2013-01-07  0.006232  0.004303  0.005161  0.006620  0.001471  0.006254   \n",
       "2013-01-08  0.003325  0.007515  0.005901  0.009283  0.009938  0.001735   \n",
       "...              ...       ...       ...       ...       ...       ...   \n",
       "2022-12-23  0.014155  0.016176  0.016608  0.001095  0.003660  0.005955   \n",
       "2022-12-27  0.008170  0.008420  0.004385  0.006637  0.004640  0.002205   \n",
       "2022-12-28  0.009961  0.013921  0.037589  0.016964  0.006759  0.011378   \n",
       "2022-12-29  0.002539  0.011205  0.039279  0.015833  0.003396  0.009237   \n",
       "2022-12-30  0.011142  0.015560  0.003755  0.002076  0.011805  0.002753   \n",
       "\n",
       "                ZBRA      ZION  \n",
       "Date                            \n",
       "2013-01-02  0.022977  0.005027  \n",
       "2013-01-03  0.005148  0.001364  \n",
       "2013-01-04  0.003950  0.028610  \n",
       "2013-01-07  0.008134  0.000888  \n",
       "2013-01-08  0.006888  0.018222  \n",
       "...              ...       ...  \n",
       "2022-12-23  0.005509  0.003521  \n",
       "2022-12-27  0.006617  0.003905  \n",
       "2022-12-28  0.014532  0.018416  \n",
       "2022-12-29  0.031978  0.021223  \n",
       "2022-12-30  0.008694  0.011315  \n",
       "\n",
       "[2518 rows x 463 columns]"
      ]
     },
     "execution_count": 16,
     "metadata": {},
     "output_type": "execute_result"
    }
   ],
   "source": [
    "df_real_returns_pct_change.abs()"
   ]
  },
  {
   "cell_type": "code",
   "execution_count": 17,
   "metadata": {},
   "outputs": [],
   "source": [
    "# Flattening dataframes to combine all the percentage changes for figures\n",
    "real_returns_pct_change_flattened = df_real_returns_pct_change.abs().dropna().values.flatten()\n",
    "real_returns_log_difference_abs_flattened = df_real_returns_log_difference_abs.values.flatten()"
   ]
  },
  {
   "cell_type": "code",
   "execution_count": 18,
   "metadata": {},
   "outputs": [],
   "source": [
    "sorted_non_log = sorted(real_returns_pct_change_flattened)\n",
    "sorted_log = sorted(real_returns_log_difference_abs_flattened)"
   ]
  },
  {
   "cell_type": "code",
   "execution_count": 19,
   "metadata": {},
   "outputs": [
    {
     "data": {
      "image/png": "[encoded data removed]",
      "text/plain": [
       "<Figure size 432x288 with 1 Axes>"
      ]
     },
     "metadata": {
      "needs_background": "light"
     },
     "output_type": "display_data"
    }
   ],
   "source": [
    "x = np.arange(0, len(sorted_non_log), 1)\n",
    "plt.scatter(x, sorted_non_log, label='non log returns')\n",
    "plt.scatter(x, sorted_log, label ='log returns')\n",
    "plt.title('Comparing log and non log absolute returns')\n",
    "plt.xlabel('datapoints on a 10**6 scale')\n",
    "plt.ylabel('returns in decimals')\n",
    "plt.legend()\n",
    "plt.show()"
   ]
  },
  {
   "cell_type": "code",
   "execution_count": 39,
   "metadata": {},
   "outputs": [],
   "source": [
    "real_returns_log_difference_abs_flattened = real_returns_log_difference_abs_flattened/10"
   ]
  },
  {
   "cell_type": "code",
   "execution_count": 37,
   "metadata": {},
   "outputs": [],
   "source": [
    "y_1_stoch = np.array(abs_returns_horizons)\n",
    "y_2_stoch = np.array(abs_returns)\n",
    "y_3_ABM = np.array(returns)\n",
    "\n",
    "return_datasets = [y_1_stoch, y_2_stoch, y_3_ABM, real_returns_pct_change_flattened*100, real_returns_log_difference_abs_flattened]\n",
    "labels = ['Stochastic model with time horizons', 'Stochastic model without time horizons', 'Agent based model', 'Real returns pct change', 'Real returns log difference']\n"
   ]
  },
  {
   "cell_type": "code",
   "execution_count": 40,
   "metadata": {},
   "outputs": [
    {
     "data": {
      "image/png": "[encoded data removed]",
      "text/plain": [
       "<Figure size 720x720 with 1 Axes>"
      ]
     },
     "metadata": {
      "needs_background": "light"
     },
     "output_type": "display_data"
    }
   ],
   "source": [
    "plt.figure(figsize=(10,10))\n",
    "plt.hist(real_returns_log_difference_abs_flattened, bins=10000, cumulative=-1, density=True, log=True, histtype='step')\n",
    "# for i in range(len(return_datasets)):\n",
    "#     plt.hist(return_datasets[i], bins=10000, cumulative=-1, density=True, log=True, histtype='step', label = labels[i])\n",
    "plt.gca().set_xscale(\"log\")\n",
    "plt.show()"
   ]
  },
  {
   "cell_type": "code",
   "execution_count": 38,
   "metadata": {},
   "outputs": [
    {
     "data": {
      "image/png": "[encoded data removed]",
      "text/plain": [
       "<Figure size 720x720 with 1 Axes>"
      ]
     },
     "metadata": {
      "needs_background": "light"
     },
     "output_type": "display_data"
    }
   ],
   "source": [
    "# non-log plot\n",
    "plt.figure(figsize=(10,10))\n",
    "for i in range(len(return_datasets)):\n",
    "    plt.hist(return_datasets[i], bins=10000, cumulative=-1, density=True, log=True, histtype='step', label = labels[i])\n",
    "plt.gca().set_xscale(\"log\")\n",
    "plt.legend()\n",
    "plt.show()"
   ]
  },
  {
   "cell_type": "code",
   "execution_count": 26,
   "metadata": {},
   "outputs": [],
   "source": [
    "# code for kolmogorov-smirnov test for similarity of distributions: reference: https://docs.scipy.org/doc/scipy/reference/generated/scipy.stats.kstest.html\n",
    "# assumed samples are independent\n",
    "\n",
    "# making a matrix in which ks test results will be visualised\n",
    "\n",
    "array_for_ks_test_results = np.zeros(((len(return_datasets), len(return_datasets))))\n",
    "for i in range(len(return_datasets)):\n",
    "    for j in range(len(return_datasets)):\n",
    "        # returning the 1st element of ks test result as this is the p-value of the ks test\n",
    "        # print(stats.kstest(return_datasets[i], return_datasets[j])[1])\n",
    "            array_for_ks_test_results[i,j] = stats.kstest(return_datasets[i], return_datasets[j])[1]"
   ]
  },
  {
   "cell_type": "code",
   "execution_count": 27,
   "metadata": {},
   "outputs": [
    {
     "data": {
      "text/html": [
       "<div>\n",
       "<style scoped>\n",
       "    .dataframe tbody tr th:only-of-type {\n",
       "        vertical-align: middle;\n",
       "    }\n",
       "\n",
       "    .dataframe tbody tr th {\n",
       "        vertical-align: top;\n",
       "    }\n",
       "\n",
       "    .dataframe thead th {\n",
       "        text-align: right;\n",
       "    }\n",
       "</style>\n",
       "<table border=\"1\" class=\"dataframe\">\n",
       "  <thead>\n",
       "    <tr style=\"text-align: right;\">\n",
       "      <th></th>\n",
       "      <th>0</th>\n",
       "      <th>1</th>\n",
       "      <th>2</th>\n",
       "      <th>3</th>\n",
       "      <th>4</th>\n",
       "    </tr>\n",
       "  </thead>\n",
       "  <tbody>\n",
       "    <tr>\n",
       "      <th>0</th>\n",
       "      <td>1.000000e+00</td>\n",
       "      <td>9.560579e-263</td>\n",
       "      <td>0.000000e+00</td>\n",
       "      <td>1.495857e-52</td>\n",
       "      <td>9.808338e-53</td>\n",
       "    </tr>\n",
       "    <tr>\n",
       "      <th>1</th>\n",
       "      <td>9.560579e-263</td>\n",
       "      <td>1.000000e+00</td>\n",
       "      <td>1.234992e-211</td>\n",
       "      <td>4.487861e-251</td>\n",
       "      <td>7.385038e-251</td>\n",
       "    </tr>\n",
       "    <tr>\n",
       "      <th>2</th>\n",
       "      <td>0.000000e+00</td>\n",
       "      <td>1.234992e-211</td>\n",
       "      <td>1.000000e+00</td>\n",
       "      <td>0.000000e+00</td>\n",
       "      <td>0.000000e+00</td>\n",
       "    </tr>\n",
       "    <tr>\n",
       "      <th>3</th>\n",
       "      <td>1.495857e-52</td>\n",
       "      <td>4.487861e-251</td>\n",
       "      <td>0.000000e+00</td>\n",
       "      <td>1.000000e+00</td>\n",
       "      <td>1.000000e+00</td>\n",
       "    </tr>\n",
       "    <tr>\n",
       "      <th>4</th>\n",
       "      <td>9.808338e-53</td>\n",
       "      <td>7.385038e-251</td>\n",
       "      <td>0.000000e+00</td>\n",
       "      <td>1.000000e+00</td>\n",
       "      <td>1.000000e+00</td>\n",
       "    </tr>\n",
       "  </tbody>\n",
       "</table>\n",
       "</div>"
      ],
      "text/plain": [
       "               0              1              2              3              4\n",
       "0   1.000000e+00  9.560579e-263   0.000000e+00   1.495857e-52   9.808338e-53\n",
       "1  9.560579e-263   1.000000e+00  1.234992e-211  4.487861e-251  7.385038e-251\n",
       "2   0.000000e+00  1.234992e-211   1.000000e+00   0.000000e+00   0.000000e+00\n",
       "3   1.495857e-52  4.487861e-251   0.000000e+00   1.000000e+00   1.000000e+00\n",
       "4   9.808338e-53  7.385038e-251   0.000000e+00   1.000000e+00   1.000000e+00"
      ]
     },
     "execution_count": 27,
     "metadata": {},
     "output_type": "execute_result"
    }
   ],
   "source": [
    "df_of_kstest_results = pd.DataFrame(array_for_ks_test_results)\n",
    "df_of_kstest_results"
   ]
  },
  {
   "cell_type": "code",
   "execution_count": 28,
   "metadata": {},
   "outputs": [
    {
     "data": {
      "image/png": "[encoded data removed]",
      "text/plain": [
       "<Figure size 432x288 with 1 Axes>"
      ]
     },
     "metadata": {
      "needs_background": "light"
     },
     "output_type": "display_data"
    }
   ],
   "source": [
    "color_matrix = np.where(array_for_ks_test_results < 0.05, 0,1)\n",
    "cmap = (mpl.colors.ListedColormap(['red', 'green']))\n",
    "plt.imshow(color_matrix, cmap=cmap, vmin=0, vmax=1)\n",
    "plt.xticks([0,1,2,3], ['Stochastic', 'Stochastic with time horizons', 'ABM', 'Real data'], rotation = 90)\n",
    "plt.yticks([0,1,2,3], ['Stochastic', 'Stochastic with time horizons', 'ABM', 'Real data'])\n",
    "plt.title(\"Visualisation of p-values of ks test for similarity of distributions\")\n",
    "plt.figtext(0.5, -0.5, \"p-values of ks test for similarity of distributions. Red: p < 0.05, Green: p > 0.05\", wrap=True, horizontalalignment='center', fontsize=12)\n",
    "plt.show()"
   ]
  },
  {
   "cell_type": "markdown",
   "metadata": {},
   "source": [
    "# Code below this is unfinished / not used yet"
   ]
  },
  {
   "cell_type": "code",
   "execution_count": null,
   "metadata": {},
   "outputs": [],
   "source": [
    "def Hill_estimator(data):\n",
    "    \"\"\"\n",
    "    Returns the Hill Estimators for some 1D data set.\n",
    "    \"\"\"    \n",
    "    # sort data in such way that the smallest value is first and the largest value comes last:\n",
    "    Y = np.sort(data)\n",
    "    n = int(len(Y)*0.01)\n",
    "\n",
    "    Hill_est = np.zeros(n-1)\n",
    "\n",
    "    for k in range(0, n-1):    # k = 0,...,n-2\n",
    "        summ = 0\n",
    "\n",
    "        for i in range(0,k+1):   # i = 0, ..., k\n",
    "            summ += np.log(Y[n-1-i]) - np.log(Y[n-2-k])\n",
    "        \n",
    "        Hill_est[k] = (1 / (k+1)) * summ      # add 1 to k because of Python syntax\n",
    "  \n",
    "    kappa = 1. / Hill_est\n",
    "    return kappa\n",
    "\n",
    "n = int(len(sorted_log)*0.01)\n",
    "data = np.array(sorted_log)\n",
    "\n",
    "Hill_estimator(data)"
   ]
  },
  {
   "cell_type": "code",
   "execution_count": 29,
   "metadata": {},
   "outputs": [],
   "source": [
    "def regression(data_x, data_y, alpha, beta, learning_rate, iterations):\n",
    "    rmse = math.sqrt(np.mean([((alpha + beta * data_x[i]) - data_y[i])**2 for i in range(len(data_y))]))\n",
    "\n",
    "    for i in range(iterations):\n",
    "        # find differentials of the parametres\n",
    "        diff_alpha = 2 * np.mean([(data_x[i] * beta) for i in range(len(data_y))])\n",
    "        diff_beta = 2 * np.mean([(data_x[i] * beta) * data_x[i] for i in range(len(data_y))])\n",
    "\n",
    "        alpha_new = alpha - (learning_rate * diff_alpha)\n",
    "        beta_new = beta - (learning_rate * diff_beta)\n",
    "\n",
    "        rmse_zero_new = math.sqrt(np.mean([((alpha + beta * data_x[i]) - data_y[i])**2 for i in range(len(data_y))]))\n",
    "\n",
    "        # keep new parametres if they lead to smaller rmse\n",
    "        if rmse_zero_new < rmse_zero[-1]:\n",
    "            alpha = alpha_new\n",
    "            beta = beta_new\n",
    "            rmse_zero = rmse_zero_new\n",
    "\n",
    "    return alpha, beta, rmse"
   ]
  },
  {
   "cell_type": "code",
   "execution_count": 30,
   "metadata": {},
   "outputs": [],
   "source": [
    "def r_squared(data, alpha, beta, x_range):\n",
    "    \"\"\"\n",
    "    Goodness of fit test for regression\n",
    "    \"\"\"\n",
    "    ss_res = []\n",
    "    ss_total = []\n",
    "    mean = np.mean(data)\n",
    "\n",
    "    for i in range(x_range):\n",
    "        prediction = alpha + beta * x_range[i]\n",
    "        value = data[i]\n",
    "\n",
    "        residual = (value - prediction) ** 2\n",
    "        total = (value - mean) ** 2\n",
    "\n",
    "        ss_res.append(residual)\n",
    "        ss_total.append(total)\n",
    "\n",
    "    return 1 - (ss_res / ss_total)\n"
   ]
  },
  {
   "cell_type": "code",
   "execution_count": 31,
   "metadata": {},
   "outputs": [
    {
     "ename": "TypeError",
     "evalue": "__init__() missing 1 required positional argument: 'omega'",
     "output_type": "error",
     "traceback": [
      "\u001b[1;31m---------------------------------------------------------------------------\u001b[0m",
      "\u001b[1;31mTypeError\u001b[0m                                 Traceback (most recent call last)",
      "\u001b[1;32m~\\AppData\\Local\\Temp/ipykernel_28900/4099762211.py\u001b[0m in \u001b[0;36m<module>\u001b[1;34m\u001b[0m\n\u001b[0;32m      5\u001b[0m \u001b[1;32mfor\u001b[0m \u001b[0mi\u001b[0m \u001b[1;32min\u001b[0m \u001b[0mk_range\u001b[0m\u001b[1;33m:\u001b[0m\u001b[1;33m\u001b[0m\u001b[1;33m\u001b[0m\u001b[0m\n\u001b[0;32m      6\u001b[0m     \u001b[0mk\u001b[0m \u001b[1;33m=\u001b[0m \u001b[0mi\u001b[0m\u001b[1;33m\u001b[0m\u001b[1;33m\u001b[0m\u001b[0m\n\u001b[1;32m----> 7\u001b[1;33m     \u001b[0mk_test\u001b[0m \u001b[1;33m=\u001b[0m \u001b[0mModel\u001b[0m\u001b[1;33m(\u001b[0m\u001b[0mp\u001b[0m\u001b[1;33m,\u001b[0m \u001b[0mn\u001b[0m\u001b[1;33m,\u001b[0m \u001b[0mk\u001b[0m\u001b[1;33m,\u001b[0m \u001b[0momega\u001b[0m\u001b[1;33m)\u001b[0m\u001b[1;33m\u001b[0m\u001b[1;33m\u001b[0m\u001b[0m\n\u001b[0m\u001b[0;32m      8\u001b[0m     \u001b[1;32mfor\u001b[0m \u001b[0mstep\u001b[0m \u001b[1;32min\u001b[0m \u001b[0mrange\u001b[0m\u001b[1;33m(\u001b[0m\u001b[0mt\u001b[0m\u001b[1;33m)\u001b[0m\u001b[1;33m:\u001b[0m\u001b[1;33m\u001b[0m\u001b[1;33m\u001b[0m\u001b[0m\n\u001b[0;32m      9\u001b[0m         \u001b[0mk_test\u001b[0m\u001b[1;33m.\u001b[0m\u001b[0mstep\u001b[0m\u001b[1;33m(\u001b[0m\u001b[1;33m)\u001b[0m\u001b[1;33m\u001b[0m\u001b[1;33m\u001b[0m\u001b[0m\n",
      "\u001b[1;31mTypeError\u001b[0m: __init__() missing 1 required positional argument: 'omega'"
     ]
    }
   ],
   "source": [
    "# k_test - think about ways to fit a power law\n",
    "k_range = [i*0.1 for i in range(1, 51)]\n",
    "variances = []\n",
    "\n",
    "for i in k_range:\n",
    "    k = i\n",
    "    k_test = Model(p, n, k, omega)\n",
    "    for step in range(t):\n",
    "        k_test.step()\n",
    "\n",
    "    variance = np.std(k_test) ** 2\n",
    "    variances.append(variance)"
   ]
  },
  {
   "cell_type": "code",
   "execution_count": 44,
   "metadata": {},
   "outputs": [
    {
     "ename": "TypeError",
     "evalue": "regression() missing 1 required positional argument: 'iterations'",
     "output_type": "error",
     "traceback": [
      "\u001b[1;31m---------------------------------------------------------------------------\u001b[0m",
      "\u001b[1;31mTypeError\u001b[0m                                 Traceback (most recent call last)",
      "\u001b[1;32m~\\AppData\\Local\\Temp/ipykernel_28900/2862870185.py\u001b[0m in \u001b[0;36m<module>\u001b[1;34m\u001b[0m\n\u001b[0;32m      1\u001b[0m \u001b[1;31m# k - regression (if beta > 0, there is a relationship)\u001b[0m\u001b[1;33m\u001b[0m\u001b[1;33m\u001b[0m\u001b[0m\n\u001b[1;32m----> 2\u001b[1;33m \u001b[0mk_r\u001b[0m \u001b[1;33m=\u001b[0m \u001b[0mregression\u001b[0m\u001b[1;33m(\u001b[0m\u001b[0mk_range\u001b[0m\u001b[1;33m,\u001b[0m \u001b[0mvariances\u001b[0m\u001b[1;33m,\u001b[0m \u001b[1;36m0\u001b[0m\u001b[1;33m,\u001b[0m \u001b[1;36m10\u001b[0m\u001b[1;33m,\u001b[0m \u001b[1;36m1000\u001b[0m\u001b[1;33m)\u001b[0m\u001b[1;33m\u001b[0m\u001b[1;33m\u001b[0m\u001b[0m\n\u001b[0m\u001b[0;32m      3\u001b[0m \u001b[0mk_test\u001b[0m \u001b[1;33m=\u001b[0m \u001b[0mr_squared\u001b[0m\u001b[1;33m(\u001b[0m\u001b[0mvariances\u001b[0m\u001b[1;33m,\u001b[0m \u001b[0mk_r\u001b[0m\u001b[1;33m[\u001b[0m\u001b[1;36m0\u001b[0m\u001b[1;33m]\u001b[0m\u001b[1;33m,\u001b[0m \u001b[0mk_r\u001b[0m\u001b[1;33m[\u001b[0m\u001b[1;36m1\u001b[0m\u001b[1;33m]\u001b[0m\u001b[1;33m,\u001b[0m \u001b[0mk_range\u001b[0m\u001b[1;33m)\u001b[0m\u001b[1;33m\u001b[0m\u001b[1;33m\u001b[0m\u001b[0m\n",
      "\u001b[1;31mTypeError\u001b[0m: regression() missing 1 required positional argument: 'iterations'"
     ]
    }
   ],
   "source": [
    "# k - regression (if beta > 0, there is a relationship)\n",
    "k_r = regression(k_range, variances, 0, 10, 1000)\n",
    "k_test = r_squared(variances, k_r[0], k_r[1], k_range)\n"
   ]
  },
  {
   "cell_type": "code",
   "execution_count": 45,
   "metadata": {},
   "outputs": [
    {
     "ename": "TypeError",
     "evalue": "__init__() missing 1 required positional argument: 'omega'",
     "output_type": "error",
     "traceback": [
      "\u001b[1;31m---------------------------------------------------------------------------\u001b[0m",
      "\u001b[1;31mTypeError\u001b[0m                                 Traceback (most recent call last)",
      "\u001b[1;32m~\\AppData\\Local\\Temp/ipykernel_28900/4285943554.py\u001b[0m in \u001b[0;36m<module>\u001b[1;34m\u001b[0m\n\u001b[0;32m      5\u001b[0m \u001b[1;32mfor\u001b[0m \u001b[0mi\u001b[0m \u001b[1;32min\u001b[0m \u001b[0momega_range\u001b[0m\u001b[1;33m:\u001b[0m\u001b[1;33m\u001b[0m\u001b[1;33m\u001b[0m\u001b[0m\n\u001b[0;32m      6\u001b[0m     \u001b[0momega\u001b[0m \u001b[1;33m=\u001b[0m \u001b[0mi\u001b[0m\u001b[1;33m\u001b[0m\u001b[1;33m\u001b[0m\u001b[0m\n\u001b[1;32m----> 7\u001b[1;33m     \u001b[0momega_test\u001b[0m \u001b[1;33m=\u001b[0m \u001b[0mModel\u001b[0m\u001b[1;33m(\u001b[0m\u001b[0mp\u001b[0m\u001b[1;33m,\u001b[0m \u001b[0mn\u001b[0m\u001b[1;33m,\u001b[0m \u001b[0mk\u001b[0m\u001b[1;33m,\u001b[0m \u001b[0momega\u001b[0m\u001b[1;33m)\u001b[0m\u001b[1;33m\u001b[0m\u001b[1;33m\u001b[0m\u001b[0m\n\u001b[0m\u001b[0;32m      8\u001b[0m     \u001b[1;32mfor\u001b[0m \u001b[0mstep\u001b[0m \u001b[1;32min\u001b[0m \u001b[0mrange\u001b[0m\u001b[1;33m(\u001b[0m\u001b[0mt\u001b[0m\u001b[1;33m)\u001b[0m\u001b[1;33m:\u001b[0m\u001b[1;33m\u001b[0m\u001b[1;33m\u001b[0m\u001b[0m\n\u001b[0;32m      9\u001b[0m         \u001b[0momega_test\u001b[0m\u001b[1;33m.\u001b[0m\u001b[0mstep\u001b[0m\u001b[1;33m(\u001b[0m\u001b[1;33m)\u001b[0m\u001b[1;33m\u001b[0m\u001b[1;33m\u001b[0m\u001b[0m\n",
      "\u001b[1;31mTypeError\u001b[0m: __init__() missing 1 required positional argument: 'omega'"
     ]
    }
   ],
   "source": [
    "# omega_test - think about ways to fit a power law\n",
    "omega_range = [i*0.1 for i in range(1, 51)]\n",
    "variances = []\n",
    "\n",
    "for i in omega_range:\n",
    "    omega = i\n",
    "    omega_test = Model(p, n, k, omega)\n",
    "    for step in range(t):\n",
    "        omega_test.step()\n",
    "\n",
    "    variance = np.std(omega_test) ** 2\n",
    "    variances.append(variance)"
   ]
  },
  {
   "cell_type": "code",
   "execution_count": 46,
   "metadata": {},
   "outputs": [
    {
     "ename": "TypeError",
     "evalue": "regression() missing 2 required positional arguments: 'learning_rate' and 'iterations'",
     "output_type": "error",
     "traceback": [
      "\u001b[1;31m---------------------------------------------------------------------------\u001b[0m",
      "\u001b[1;31mTypeError\u001b[0m                                 Traceback (most recent call last)",
      "\u001b[1;32m~\\AppData\\Local\\Temp/ipykernel_28900/3262243715.py\u001b[0m in \u001b[0;36m<module>\u001b[1;34m\u001b[0m\n\u001b[0;32m      1\u001b[0m \u001b[1;31m# omega - calculate regression of power law exponent and variances\u001b[0m\u001b[1;33m\u001b[0m\u001b[1;33m\u001b[0m\u001b[0m\n\u001b[1;32m----> 2\u001b[1;33m \u001b[0momega_r\u001b[0m \u001b[1;33m=\u001b[0m \u001b[0mregression\u001b[0m\u001b[1;33m(\u001b[0m\u001b[0momega_range\u001b[0m\u001b[1;33m,\u001b[0m \u001b[0mvariances\u001b[0m\u001b[1;33m,\u001b[0m \u001b[1;36m3\u001b[0m\u001b[1;33m,\u001b[0m \u001b[1;36m2\u001b[0m\u001b[1;33m)\u001b[0m\u001b[1;33m\u001b[0m\u001b[1;33m\u001b[0m\u001b[0m\n\u001b[0m\u001b[0;32m      3\u001b[0m \u001b[0momega_test\u001b[0m \u001b[1;33m=\u001b[0m \u001b[0mr_squared\u001b[0m\u001b[1;33m(\u001b[0m\u001b[0mvariances\u001b[0m\u001b[1;33m,\u001b[0m \u001b[0momega_r\u001b[0m\u001b[1;33m[\u001b[0m\u001b[1;36m0\u001b[0m\u001b[1;33m]\u001b[0m\u001b[1;33m,\u001b[0m \u001b[0momega_r\u001b[0m\u001b[1;33m[\u001b[0m\u001b[1;36m1\u001b[0m\u001b[1;33m]\u001b[0m\u001b[1;33m,\u001b[0m \u001b[0momega_range\u001b[0m\u001b[1;33m)\u001b[0m\u001b[1;33m\u001b[0m\u001b[1;33m\u001b[0m\u001b[0m\n",
      "\u001b[1;31mTypeError\u001b[0m: regression() missing 2 required positional arguments: 'learning_rate' and 'iterations'"
     ]
    }
   ],
   "source": [
    "# omega - calculate regression of power law exponent and variances\n",
    "omega_r = regression(omega_range, variances, 3, 2)\n",
    "omega_test = r_squared(variances, omega_r[0], omega_r[1], omega_range)\n"
   ]
  },
  {
   "cell_type": "code",
   "execution_count": null,
   "metadata": {},
   "outputs": [],
   "source": [
    "# p_test - variances; mean number of zeros\n",
    "p_range = [i*0.01 for i in range(1, 101)]\n",
    "variances = []\n",
    "zeros = []\n",
    "\n",
    "for i in p_range:\n",
    "    p = i\n",
    "    p_test = Model(p, n, 1, k, omega)\n",
    "    for step in range(t):\n",
    "        p_test.step()\n",
    "\n",
    "    variance = np.std(p_test) ** 2\n",
    "    variances.append(variance)\n",
    "\n",
    "    for i in p_test.daily_returns:\n",
    "        zero = []\n",
    "        if -0.5 < i < 0.5:\n",
    "            zero.append(i)\n",
    "        \n",
    "        zero_add = sum(zero) / len(p_test.daily_returns)\n",
    "        zeros.append(zero_add)"
   ]
  },
  {
   "cell_type": "code",
   "execution_count": null,
   "metadata": {},
   "outputs": [],
   "source": [
    "p_zeros_r = regression(p_range, zeros, 5, 5, 1, 1000)\n",
    "p_variances_r = regression(p_range, variances, 5, 5, 1, 1000)\n",
    "\n",
    "p_test_zeros = r_squared(zeros, p_zeros_r[0], p_zeros_r[1], p_range)\n",
    "p_test_variances = r_squared(variances, p_variances_r[0], p_variances_r[1], p_range)\n",
    "\n"
   ]
  },
  {
   "cell_type": "code",
   "execution_count": null,
   "metadata": {},
   "outputs": [],
   "source": [
    "# Example of parameter generation\n",
    "parameters = np.arange(0, 10, 1)\n",
    "print(\"parameters to test:\", parameters)\n",
    "\n",
    "\n",
    "def gridsearch(real, abm_or_stoch, parameters):\n",
    "    best_param = 0\n",
    "    best_loss = 1000000000\n",
    "    for param in parameters:\n",
    "        if abm_or_stoch == 'abm':\n",
    "            model_test = Model(p, n, size, k, omega) # change the parameter to test to \"param\"\n",
    "            for i in range(t):\n",
    "                model_test.step()\n",
    "            abs_returns = [abs(day) for day in model_test.daily_returns]\n",
    "            result = np.array(abs_returns)\n",
    "        else:\n",
    "            stochastic = Stochastic_Model(n, p, 10, time_horizon=False, M=10, d=1.12)\n",
    "            stochastic_horizons = Stochastic_Model(n, p, 10, time_horizon=True, M=10, d=1.12)\n",
    "            for i in range(t):\n",
    "                stochastic.step()\n",
    "                stochastic_horizons.step()\n",
    "            abs_returns = [abs(i) for i in stochastic.returns]\n",
    "            result = np.array(abs_returns)\n",
    "        rmse = np.sqrt(mean_squared_error(real, result))\n",
    "        if rmse < best_loss:\n",
    "            best_param = current_param\n",
    "            best_loss = rmse\n",
    "    return best_param, best_loss\n",
    "\n",
    "# Implementation from https://archive.lib.msu.edu/crcmath/math/math/l/l142.html\n",
    "def exp_lsq(x, y):\n",
    "    n = len(bin) # sample size?\n",
    "    ln_y = np.log(y, where= y != 0)\n",
    "    sum_ln_y = np.sum(ln_y)\n",
    "    sum_x = np.sum(x)\n",
    "    sum_x_ln_y = np.sum(x * ln_y)\n",
    "    print('sum_ln_y', sum_ln_y, 'sum_x', sum_x)\n",
    "    a = (sum_ln_y * sum_x**2 - sum_x*sum_x_ln_y) / (n * np.sum(x**2) - sum_x**2)\n",
    "    b = (n * sum_x_ln_y - sum_x*sum_ln_y)/(n * np.sum(x**2) - sum_x**2)\n",
    "    return a, b"
   ]
  },
  {
   "cell_type": "code",
   "execution_count": null,
   "metadata": {},
   "outputs": [],
   "source": [
    "a, b = exp_lsq(bin, real_bins)\n",
    "print(a,b)\n",
    "x = np.arange(0, len(bin), 1)\n",
    "y = np.exp(a)*math.e**(b*x)\n",
    "plt.scatter(x,y)"
   ]
  }
 ],
 "metadata": {
  "kernelspec": {
   "display_name": "Python 3 (ipykernel)",
   "language": "python",
   "name": "python3"
  },
  "language_info": {
   "codemirror_mode": {
    "name": "ipython",
    "version": 3
   },
   "file_extension": ".py",
   "mimetype": "text/x-python",
   "name": "python",
   "nbconvert_exporter": "python",
   "pygments_lexer": "ipython3",
   "version": "3.9.7"
  },
  "vscode": {
   "interpreter": {
    "hash": "737aa38b06dd7377e5ea1c9d3b7bcdaf28b38271e4ca822a92a99e2a0a35e98e"
   }
  }
 },
 "nbformat": 4,
 "nbformat_minor": 2
}
