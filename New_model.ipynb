{
 "cells": [
  {
   "cell_type": "code",
   "execution_count": 1,
   "id": "2032c4f9",
   "metadata": {},
   "outputs": [
    {
     "data": {
      "text/html": [
       "        <script type=\"text/javascript\">\n",
       "        window.PlotlyConfig = {MathJaxConfig: 'local'};\n",
       "        if (window.MathJax && window.MathJax.Hub && window.MathJax.Hub.Config) {window.MathJax.Hub.Config({SVG: {font: \"STIX-Web\"}});}\n",
       "        if (typeof require !== 'undefined') {\n",
       "        require.undef(\"plotly\");\n",
       "        requirejs.config({\n",
       "            paths: {\n",
       "                'plotly': ['https://cdn.plot.ly/plotly-2.12.1.min']\n",
       "            }\n",
       "        });\n",
       "        require(['plotly'], function(Plotly) {\n",
       "            window._Plotly = Plotly;\n",
       "        });\n",
       "        }\n",
       "        </script>\n",
       "        "
      ]
     },
     "metadata": {},
     "output_type": "display_data"
    }
   ],
   "source": [
    "import numpy as np\n",
    "import random as rnd\n",
    "import matplotlib.pyplot as plt\n",
    "import math\n",
    "from scipy import stats\n",
    "import pandas as pd\n",
    "import matplotlib as mpl\n",
    "import datetime as dt\n",
    "from pandas_datareader import data as pdr\n",
    "import plotly.offline as plotly\n",
    "import plotly.graph_objects as go\n",
    "from plotly.subplots import make_subplots\n",
    "import yfinance as yf\n",
    "yf.pdr_override()\n",
    "import os\n",
    "plotly.init_notebook_mode(connected=True)\n",
    "pd.options.plotting.backend = 'plotly'\n",
    "import wrds\n",
    "from sklearn.preprocessing import StandardScaler\n",
    "from sklearn.linear_model import LinearRegression\n",
    "\n",
    "# plt.style.use(['science', 'notebook'])"
   ]
  },
  {
   "cell_type": "code",
   "execution_count": 2,
   "id": "eb172732",
   "metadata": {},
   "outputs": [],
   "source": [
    "df_close_clean = pd.read_csv('data/df_close_clean.csv')\n",
    "df_open_clean = pd.read_csv('data/df_open_clean.csv')\n",
    "df_volume_clean = pd.read_csv('data/df_volume_clean.csv')\n",
    "df_shares_outstanding_clean = pd.read_csv('data/df_shares_outstanding_clean.csv')\n",
    "df_volume_clean_wrds = pd.read_csv('data/df_volume_clean_WRDS.csv')\n",
    "\n",
    "# change index to datetime\n",
    "df_close_clean.index = pd.to_datetime(df_close_clean['Date'])\n",
    "df_open_clean.index = pd.to_datetime(df_open_clean['Date'])\n",
    "df_volume_clean.index = pd.to_datetime(df_volume_clean['Date'])\n",
    "df_shares_outstanding_clean.index = pd.to_datetime(df_shares_outstanding_clean['Date'])\n",
    "df_volume_clean_wrds.index = pd.to_datetime(df_volume_clean_wrds['Date'])\n",
    "\n",
    "# Remove the \"Date\" column as it no longer has any use\n",
    "df_close_clean = df_close_clean.drop(columns=['Date'])\n",
    "df_open_clean = df_open_clean.drop(columns=['Date'])\n",
    "df_volume_clean = df_volume_clean.drop(columns=['Date'])\n",
    "df_shares_outstanding_clean = df_shares_outstanding_clean.drop(columns=['Date'])\n",
    "df_volume_clean_wrds = df_volume_clean_wrds.drop(columns=['Date'])\n",
    "\n",
    "# testing if the index is datetime and the \"Date\" column is removed\n",
    "assert 'Date' not in df_close_clean.columns\n",
    "assert 'Date' not in df_open_clean.columns\n",
    "assert 'Date' not in df_volume_clean.columns\n",
    "assert 'Date' not in df_shares_outstanding_clean.columns\n",
    "assert 'Date' not in df_volume_clean_wrds.columns\n",
    "assert df_close_clean.index.dtype == 'datetime64[ns]'\n",
    "assert df_open_clean.index.dtype == 'datetime64[ns]'\n",
    "assert df_volume_clean.index.dtype == 'datetime64[ns]'\n",
    "assert df_shares_outstanding_clean.index.dtype == 'datetime64[ns]'\n",
    "assert df_volume_clean_wrds.index.dtype == 'datetime64[ns]'"
   ]
  },
  {
   "cell_type": "code",
   "execution_count": 3,
   "id": "3650b6d1",
   "metadata": {},
   "outputs": [
    {
     "data": {
      "text/plain": [
       "0"
      ]
     },
     "execution_count": 3,
     "metadata": {},
     "output_type": "execute_result"
    }
   ],
   "source": [
    "flat_vol = np.sort(df_volume_clean.values.flatten())\n",
    "np.count_nonzero(flat_vol == 2)"
   ]
  },
  {
   "cell_type": "code",
   "execution_count": 4,
   "id": "5a6b1ad4",
   "metadata": {},
   "outputs": [
    {
     "name": "stdout",
     "output_type": "stream",
     "text": [
      "5364467.902905552\n",
      "[1.86411778e-05 1.86411778e-05 1.86411778e-05 1.86411778e-05\n",
      " 1.86411778e-05 1.86411778e-05 1.86411778e-05 1.86411778e-05\n",
      " 1.86411778e-05 1.86411778e-05 1.86411778e-05 1.86411778e-05\n",
      " 1.86411778e-05 1.86411778e-05 1.86411778e-05 1.86411778e-05\n",
      " 1.86411778e-05 1.86411778e-05 1.86411778e-05 1.86411778e-05\n",
      " 1.86411778e-05 1.86411778e-05 1.86411778e-05 1.86411778e-05\n",
      " 1.86411778e-05 1.86411778e-05 1.86411778e-05 1.86411778e-05\n",
      " 1.86411778e-05 1.86411778e-05 1.86411778e-05 1.86411778e-05\n",
      " 1.86411778e-05 1.86411778e-05 1.86411778e-05 1.86411778e-05\n",
      " 1.86411778e-05 1.86411778e-05 1.86411778e-05 1.86411778e-05\n",
      " 1.86411778e-05 1.86411778e-05 1.86411778e-05 1.86411778e-05\n",
      " 1.86411778e-05 1.86411778e-05 1.86411778e-05 1.86411778e-05\n",
      " 1.86411778e-05 1.86411778e-05]\n",
      "[108.63250756 109.01006597 109.22022661 109.48903239 110.34399137\n",
      " 110.67386566 110.79078312 111.51376256 112.06069472 112.44433016\n",
      " 113.00229789 113.53468993 113.57592422 114.94532378 118.02818312\n",
      " 118.52195064 119.01154253 119.36438275 120.04187771 120.94865917\n",
      " 123.82186118 124.20601858 124.22081967 124.80000107 126.48068966\n",
      " 128.77415104 128.91090272 130.35827833 131.3421597  131.602055\n",
      " 135.40149986 136.86494416 138.24550979 138.54041322 140.99672394\n",
      " 141.55834535 141.65647251 142.06568364 142.43679221 146.42973249\n",
      " 160.59553633 163.44070202 164.40422722 167.52759384 170.39565089\n",
      " 176.1695693  180.75440427 198.62607425 225.19034914 272.32009333]\n"
     ]
    }
   ],
   "source": [
    "volume_flat = df_volume_clean.values.flatten()\n",
    "volume_flat = volume_flat[np.where(volume_flat != 0)]\n",
    "vol_mean = np.mean(volume_flat)\n",
    "print(vol_mean)\n",
    "vol_sum = np.sum(volume_flat)\n",
    "normalized_vol = volume_flat/vol_mean\n",
    "sorted_vol = np.sort(normalized_vol)\n",
    "print(sorted_vol[0:50])\n",
    "print(sorted_vol[len(sorted_vol)-50:len(sorted_vol)])"
   ]
  },
  {
   "cell_type": "code",
   "execution_count": 5,
   "id": "1975caa9",
   "metadata": {},
   "outputs": [
    {
     "data": {
      "image/png": "[encoded data removed]",
      "text/plain": [
       "<Figure size 432x288 with 1 Axes>"
      ]
     },
     "metadata": {
      "needs_background": "light"
     },
     "output_type": "display_data"
    },
    {
     "name": "stderr",
     "output_type": "stream",
     "text": [
      "No handles with labels found to put in legend.\n"
     ]
    },
    {
     "data": {
      "image/png": "[encoded data removed]",
      "text/plain": [
       "<Figure size 720x720 with 1 Axes>"
      ]
     },
     "metadata": {
      "needs_background": "light"
     },
     "output_type": "display_data"
    }
   ],
   "source": [
    "x = np.arange(0, len(sorted_vol), 1)\n",
    "plt.scatter(x, sorted_vol)\n",
    "plt.show()\n",
    "# non-log plot\n",
    "plt.figure(figsize=(10,10))\n",
    "plt.hist(sorted_vol, bins=10000, cumulative=-1, density=True, log=True, histtype='step')\n",
    "plt.gca().set_xscale(\"log\")\n",
    "plt.legend()\n",
    "plt.show()"
   ]
  },
  {
   "cell_type": "code",
   "execution_count": 6,
   "id": "8b465814",
   "metadata": {},
   "outputs": [
    {
     "name": "stdout",
     "output_type": "stream",
     "text": [
      "start [1.86609619e-05 1.86609619e-05 1.86609619e-05 1.86609619e-05\n",
      " 1.86609619e-05 1.86609619e-05 1.86609619e-05 1.86609619e-05\n",
      " 1.86609619e-05 1.86609619e-05 1.86609619e-05 1.86609619e-05\n",
      " 1.86609619e-05 1.86609619e-05 1.86609619e-05 1.86609619e-05\n",
      " 1.86609619e-05 1.86609619e-05 1.86609619e-05 1.86609619e-05\n",
      " 1.86609619e-05 1.86609619e-05 1.86609619e-05 1.86609619e-05\n",
      " 1.86609619e-05 1.86609619e-05 1.86609619e-05 1.86609619e-05\n",
      " 1.86609619e-05 1.86609619e-05 1.86609619e-05 1.86609619e-05\n",
      " 1.86609619e-05 1.86609619e-05 1.86609619e-05 1.86609619e-05\n",
      " 1.86609619e-05 1.86609619e-05 1.86609619e-05 1.86609619e-05\n",
      " 1.86609619e-05 1.86609619e-05 1.86609619e-05 1.86609619e-05\n",
      " 1.86609619e-05 1.86609619e-05 1.86609619e-05 1.86609619e-05\n",
      " 1.86609619e-05 1.86609619e-05]\n",
      "end [108.74780037 109.12575949 109.33614318 109.60523425 110.4611006\n",
      " 110.79132498 110.90836654 111.63211328 112.1796259  112.5636685\n",
      " 113.12222841 113.65518548 113.69646353 115.06731645 118.15344766\n",
      " 118.64773922 119.13785073 119.49106541 120.16927941 121.07702324\n",
      " 123.95327462 124.33783972 124.35265652 124.93245261 126.61492493\n",
      " 128.91082039 129.04771721 130.49662893 131.4815545  131.74172563\n",
      " 135.54520288 137.01020036 138.39223119 138.68744761 141.14636523\n",
      " 141.70858269 141.806814   142.21645943 142.58796186 146.5851399\n",
      " 160.76597805 163.61416334 164.57871114 167.70539262 170.57649357\n",
      " 176.3565399  180.9462408  198.83687817 225.429346   272.60910949]\n"
     ]
    }
   ],
   "source": [
    "vol_mean = np.mean(df_volume_clean.values.flatten())\n",
    "df_vol_sum = df_volume_clean.sum().sum()\n",
    "df_normalized_vol = df_volume_clean/vol_mean\n",
    "sorted_vol = np.sort(df_normalized_vol.values.flatten())\n",
    "sorted_vol = sorted_vol[np.where(sorted_vol != 0)]\n",
    "print('start', sorted_vol[0:50])\n",
    "print('end', sorted_vol[len(sorted_vol)-50:len(sorted_vol)])"
   ]
  },
  {
   "cell_type": "markdown",
   "id": "e0ca9710",
   "metadata": {},
   "source": [
    "### Velocity calculation\n",
    "\n",
    "We do the velocity calculation on the real data a fashion similar as Feng et. al's 2012 paper, in the following steps:\n",
    "1. Divide the total number of shares traded on the market(volume) by the number of outstanding shares of each stock every day\n",
    "2. Resample the dataframe into a yearly timeframe\n",
    "3. Sum up the yearly velocity per stock and divide it by the amount of years used in the dataframe which results in the mean velocity per stock\n",
    "4. Take the mean of all the mean of the different stocks"
   ]
  },
  {
   "cell_type": "code",
   "execution_count": 7,
   "id": "a4fed27f",
   "metadata": {},
   "outputs": [],
   "source": [
    "# Step 1\n",
    "velocity_df_daily = df_volume_clean_wrds/df_shares_outstanding_clean\n",
    "\n",
    "# Step 2\n",
    "velocity_yearly_df = velocity_df_daily.resample('Y').sum()\n",
    "\n",
    "# Step 3 + 4\n",
    "sum_velocity_yearly_df = velocity_yearly_df.apply(lambda x: x.sum())/velocity_yearly_df.shape[0] # .shape[0] = amount of rows \n",
    "V = sum_velocity_yearly_df.mean()"
   ]
  },
  {
   "cell_type": "code",
   "execution_count": 8,
   "id": "8c2deea2",
   "metadata": {},
   "outputs": [],
   "source": [
    "def probability_of_trading(V_f:float, V:float) -> float:\n",
    "    \"\"\"returns the probability of trading for a given velocity of fundamental traders and total market velocity V\"\"\"\n",
    "    # V is total market velocity, V_f is the velocity of fundamental traders, V_c is the velocity of technical traders\n",
    "    # We assume that the proportion of shares held by fundamental traders is the same as in the period 1997-2006, namely 83% on average. \n",
    "    # This might be a bit strong, but we continue with this assumption for now.\n",
    "    # thus the velocity of technical traders is V_C is given by:\n",
    "    V_c = (V - 0.83*V_f)/(1-0.83)\n",
    "    # because there are around 250 trading days in a year, we arrive at probability of trading p as follows:\n",
    "    p = V_c/(250*2)\n",
    "    return p\n"
   ]
  },
  {
   "cell_type": "code",
   "execution_count": 9,
   "id": "eb43268a",
   "metadata": {},
   "outputs": [
    {
     "name": "stdout",
     "output_type": "stream",
     "text": [
      "The V value is 2.183549851113631\n",
      "V_f: 0.2 gives a p value of 0.02373588060133683\n",
      "V_f: 0.4 gives a p value of 0.02178293942486624\n",
      "V_f: 0.6 gives a p value of 0.019829998248395653\n",
      "V_f: 0.8 gives a p value of 0.01787705707192506\n"
     ]
    }
   ],
   "source": [
    "# multiple choices of V_F, in the paper they chose V_f = 0.4 as an arbirtrary choice which achieved best fit\n",
    "V_f_list = [0.2, 0.4, 0.6, 0.8]\n",
    "\n",
    "print(\"The V value is\", V)\n",
    "for V_f in V_f_list:\n",
    "    p = probability_of_trading(V_f, V)\n",
    "    print('V_f: ' + str(V_f), 'gives a p value of', p)\n"
   ]
  },
  {
   "cell_type": "markdown",
   "id": "0fcda6e4",
   "metadata": {},
   "source": [
    "# Model parameters"
   ]
  },
  {
   "cell_type": "code",
   "execution_count": 27,
   "id": "9d6c8b5e",
   "metadata": {},
   "outputs": [],
   "source": [
    "# other parameters\n",
    "n = 2**10\n",
    "t = 10000\n",
    "p = 0.02178\n",
    "omega = 1\n",
    "b = 1.5\n",
    "size = 1\n",
    "k = 1\n",
    "M = 500\n",
    "d = 1.12"
   ]
  },
  {
   "cell_type": "markdown",
   "id": "5a763962",
   "metadata": {},
   "source": [
    "# Model definition: ABM"
   ]
  },
  {
   "cell_type": "code",
   "execution_count": 28,
   "id": "e6f47926",
   "metadata": {},
   "outputs": [],
   "source": [
    "# agent behaviors for buying, selling and holding based on the probability of trading p\n",
    "def buy_sell_hold(p, amount_times):\n",
    "    assert p <= 0.5, \"p should be smaller than 0.5\"\n",
    "    psis = np.zeros(amount_times)\n",
    "    dice_rolls = np.random.uniform(0, 1, amount_times)\n",
    "    indices = np.nonzero(dice_rolls <= 2*p)\n",
    "    for index in indices[0]:\n",
    "        if np.random.randint(0,2) == 0:\n",
    "            psis[index] = 1\n",
    "        else:\n",
    "            psis[index] = -1\n",
    "    return psis"
   ]
  },
  {
   "cell_type": "code",
   "execution_count": 41,
   "id": "008e0205",
   "metadata": {},
   "outputs": [],
   "source": [
    "class Model:\n",
    "    def __init__(self, p: float, n: int, size: int, k: int, omega: int, t: int) -> None:\n",
    "        self.n = n\n",
    "        self.p = p\n",
    "        self.daily_return = []\n",
    "        self.trading_volume = 0\n",
    "        self.k = k\n",
    "        self.omega = omega\n",
    "        self.daily_returns = []\n",
    "        self.count = 0\n",
    "\n",
    "        self.daily_trading_volumes = []\n",
    "\n",
    "        \n",
    "    def distribute_opinion_groups(self) -> None:\n",
    "\n",
    "        # number of opinion groups\n",
    "        if sum(self.daily_return) != 0:\n",
    "            self.c = (self.n // abs(sum(self.daily_return))) ** self.omega\n",
    "        else:\n",
    "            self.c = self.n\n",
    "                \n",
    "        return self.c\n",
    "\n",
    "    def step(self):\n",
    "        self.count += 1\n",
    "        c = int(self.distribute_opinion_groups())\n",
    "        psis = buy_sell_hold(self.p, c) \n",
    "        daily_return = psis * (n/c)\n",
    "        trading_volume = np.sum(np.abs(daily_return))\n",
    "        self.daily_returns.append(np.sum(daily_return * k))\n",
    "        self.daily_trading_volumes.append(trading_volume)\n",
    "        return self.count"
   ]
  },
  {
   "cell_type": "code",
   "execution_count": 63,
   "id": "d7bf2dc8",
   "metadata": {},
   "outputs": [
    {
     "name": "stdout",
     "output_type": "stream",
     "text": [
      " "
     ]
    }
   ],
   "source": [
    "# ABM simulation\n",
    "\n",
    "model_test = Model(p, n, size, k, omega, t)\n",
    "def stepper(t):\n",
    "    for i in range(t):\n",
    "        model_test.step()\n",
    "%prun stepper(t)"
   ]
  },
  {
   "cell_type": "code",
   "execution_count": null,
   "id": "000cb10b",
   "metadata": {},
   "outputs": [],
   "source": [
    "#          776269 function calls in 1.174 seconds\n",
    "\n",
    "#    Ordered by: internal time\n",
    "\n",
    "#    ncalls  tottime  percall  cumtime  percall filename:lineno(function)\n",
    "#    446265    0.733    0.000    0.733    0.000 {method 'randint' of 'numpy.random.mtrand.RandomState' objects}\n",
    "#     10000    0.179    0.000    1.025    0.000 3703988537.py:2(buy_sell_hold)\n",
    "#     10000    0.076    0.000    0.076    0.000 {method 'uniform' of 'numpy.random.mtrand.RandomState' objects}\n",
    "#     10000    0.051    0.000    1.171    0.000 847086491.py:25(step)\n",
    "#     20000    0.032    0.000    0.032    0.000 {method 'reduce' of 'numpy.ufunc' objects}\n",
    "#     20000    0.016    0.000    0.055    0.000 fromnumeric.py:70(_wrapreduction)\n",
    "#     20000    0.015    0.000    0.071    0.000 fromnumeric.py:2111(sum)\n",
    "#     10000    0.012    0.000    0.012    0.000 {method 'nonzero' of 'numpy.ndarray' objects}\n",
    "#     30000    0.010    0.000    0.101    0.000 {built-in method numpy.core._multiarray_umath.implement_array_function}\n",
    "#     10000    0.008    0.000    0.008    0.000 {built-in method numpy.zeros}\n",
    "#     20000    0.008    0.000    0.088    0.000 <__array_function__ internals>:2(sum)\n",
    "#     20000    0.005    0.000    0.005    0.000 fromnumeric.py:71(<dictcomp>)\n",
    "#     10000    0.004    0.000    0.028    0.000 <__array_function__ internals>:2(nonzero)\n",
    "#     10000    0.004    0.000    0.017    0.000 fromnumeric.py:52(_wrapfunc)\n",
    "#         1    0.004    0.004    1.174    1.174 1149585652.py:4(stepper)\n",
    "#     10000    0.003    0.000    0.005    0.000 847086491.py:15(distribute_opinion_groups)\n",
    "#     10000    0.003    0.000    0.020    0.000 fromnumeric.py:1827(nonzero)\n",
    "#     20000    0.002    0.000    0.002    0.000 {built-in method builtins.isinstance}\n",
    "#     20000    0.002    0.000    0.002    0.000 fromnumeric.py:2106(_sum_dispatcher)\n",
    "#     20000    0.002    0.000    0.002    0.000 {method 'append' of 'list' objects}\n",
    "#     10000    0.002    0.000    0.002    0.000 {built-in method builtins.sum}\n",
    "#     20000    0.002    0.000    0.002    0.000 {method 'items' of 'dict' objects}\n",
    "#     10000    0.001    0.000    0.001    0.000 {built-in method builtins.getattr}\n",
    "#     10000    0.001    0.000    0.001    0.000 fromnumeric.py:1823(_nonzero_dispatcher)\n",
    "#         1    0.000    0.000    1.174    1.174 {built-in method builtins.exec}\n",
    "#         1    0.000    0.000    1.174    1.174 <string>:1(<module>)\n",
    "#         1    0.000    0.000    0.000    0.000 {method 'disable' of '_lsprof.Profiler' objects}"
   ]
  },
  {
   "cell_type": "code",
   "execution_count": 62,
   "id": "b679b5b6",
   "metadata": {},
   "outputs": [
    {
     "data": {
      "image/png": "[encoded data removed]",
      "text/plain": [
       "<Figure size 432x288 with 1 Axes>"
      ]
     },
     "metadata": {
      "needs_background": "light"
     },
     "output_type": "display_data"
    },
    {
     "data": {
      "image/png": "[encoded data removed]",
      "text/plain": [
       "<Figure size 432x288 with 1 Axes>"
      ]
     },
     "metadata": {
      "needs_background": "light"
     },
     "output_type": "display_data"
    }
   ],
   "source": [
    "# logarithmic bins\n",
    "bin=np.logspace(start=0, stop=np.log(5), num=t)\n",
    "\n",
    "# normalised returns\n",
    "returns = [abs(day) for day in model_test.daily_returns]\n",
    "plt.plot(np.abs(model_test.daily_returns))\n",
    "plt.show()\n",
    "\n",
    "plt.figure(1)\n",
    "plt.hist(returns, bin, cumulative=-1, density=True, log=True, histtype='step')\n",
    "plt.title(\"Probability distribution of absolute returns (log-log)\")\n",
    "plt.xlabel(\"Absolute daily returns\")\n",
    "plt.ylabel(\"P(|absolute returns| > x)\")\n",
    "plt.gca().set_xscale(\"log\")\n",
    "plt.show()"
   ]
  },
  {
   "cell_type": "code",
   "execution_count": null,
   "id": "8fffe03c",
   "metadata": {},
   "outputs": [],
   "source": []
  }
 ],
 "metadata": {
  "kernelspec": {
   "display_name": "Python 3 (ipykernel)",
   "language": "python",
   "name": "python3"
  },
  "language_info": {
   "codemirror_mode": {
    "name": "ipython",
    "version": 3
   },
   "file_extension": ".py",
   "mimetype": "text/x-python",
   "name": "python",
   "nbconvert_exporter": "python",
   "pygments_lexer": "ipython3",
   "version": "3.9.7"
  }
 },
 "nbformat": 4,
 "nbformat_minor": 5
}
