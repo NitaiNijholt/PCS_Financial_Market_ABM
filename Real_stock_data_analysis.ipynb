{
 "cells": [
  {
   "cell_type": "code",
   "execution_count": 115,
   "metadata": {},
   "outputs": [
    {
     "data": {
      "text/html": [
       "        <script type=\"text/javascript\">\n",
       "        window.PlotlyConfig = {MathJaxConfig: 'local'};\n",
       "        if (window.MathJax && window.MathJax.Hub && window.MathJax.Hub.Config) {window.MathJax.Hub.Config({SVG: {font: \"STIX-Web\"}});}\n",
       "        if (typeof require !== 'undefined') {\n",
       "        require.undef(\"plotly\");\n",
       "        requirejs.config({\n",
       "            paths: {\n",
       "                'plotly': ['https://cdn.plot.ly/plotly-2.16.1.min']\n",
       "            }\n",
       "        });\n",
       "        require(['plotly'], function(Plotly) {\n",
       "            window._Plotly = Plotly;\n",
       "        });\n",
       "        }\n",
       "        </script>\n",
       "        "
      ]
     },
     "metadata": {},
     "output_type": "display_data"
    }
   ],
   "source": [
    "import datetime as dt\n",
    "import pandas as pd\n",
    "from pandas_datareader import data as pdr\n",
    "import plotly.offline as plotly\n",
    "import plotly.graph_objects as go\n",
    "from plotly.subplots import make_subplots\n",
    "import yfinance as yf\n",
    "yf.pdr_override()\n",
    "import os\n",
    "plotly.init_notebook_mode(connected=True)\n",
    "pd.options.plotting.backend = 'plotly'\n",
    "import wrds\n",
    "import numpy as np"
   ]
  },
  {
   "cell_type": "code",
   "execution_count": 116,
   "metadata": {},
   "outputs": [],
   "source": [
    "df_adj_close_clean = pd.read_csv('data/df_adj_close_clean.csv')\n",
    "df_open_clean = pd.read_csv('data/df_open_clean.csv')\n",
    "df_volume_clean = pd.read_csv('data/df_volume_clean.csv')\n",
    "df_shares_outstanding_clean = pd.read_csv('data/df_shares_outstanding_clean.csv')\n",
    "df_volume_clean_wrds = pd.read_csv('data/df_volume_clean_WRDS.csv')"
   ]
  },
  {
   "cell_type": "code",
   "execution_count": 117,
   "metadata": {},
   "outputs": [],
   "source": [
    "# change index to datetime\n",
    "df_adj_close_clean.index = pd.to_datetime(df_adj_close_clean['Date'])\n",
    "df_open_clean.index = pd.to_datetime(df_open_clean['Date'])\n",
    "df_volume_clean.index = pd.to_datetime(df_volume_clean['Date'])\n",
    "df_shares_outstanding_clean.index = pd.to_datetime(df_shares_outstanding_clean['Date'])\n",
    "df_volume_clean_wrds.index = pd.to_datetime(df_volume_clean_wrds['Date'])\n"
   ]
  },
  {
   "cell_type": "code",
   "execution_count": 118,
   "metadata": {},
   "outputs": [],
   "source": [
    "df_adj_close_clean = df_adj_close_clean.drop(columns=['Date'])\n",
    "df_open_clean = df_open_clean.drop(columns=['Date'])\n",
    "df_volume_clean = df_volume_clean.drop(columns=['Date'])\n",
    "df_shares_outstanding_clean = df_shares_outstanding_clean.drop(columns=['Date'])\n",
    "df_volume_clean_wrds = df_volume_clean_wrds.drop(columns=['Date'])"
   ]
  },
  {
   "attachments": {},
   "cell_type": "markdown",
   "metadata": {},
   "source": [
    "# Velocity caculation"
   ]
  },
  {
   "attachments": {},
   "cell_type": "markdown",
   "metadata": {},
   "source": [
    "We do the velocity calculation in a fashion similar as Feng et. al's 2012 paper, in the following steps:\n",
    "1. sum volume across stocks for each day\n",
    "2. take the mean of shares outstanding across stocks for each day\n",
    "3. sum 1. across 1-year intervals, to get total trading volume across stocks each year sum.\n",
    "4. sum 2. across 1-year intervals, to get mean shares outstanding across stocks each year.\n",
    "5. To obtain velocity: devide 3. by 4., so devide total volume across stocks each year by mean shares outstanding across stocks each year"
   ]
  },
  {
   "cell_type": "code",
   "execution_count": 119,
   "metadata": {},
   "outputs": [
    {
     "data": {
      "text/html": [
       "<div>\n",
       "<style scoped>\n",
       "    .dataframe tbody tr th:only-of-type {\n",
       "        vertical-align: middle;\n",
       "    }\n",
       "\n",
       "    .dataframe tbody tr th {\n",
       "        vertical-align: top;\n",
       "    }\n",
       "\n",
       "    .dataframe thead th {\n",
       "        text-align: right;\n",
       "    }\n",
       "</style>\n",
       "<table border=\"1\" class=\"dataframe\">\n",
       "  <thead>\n",
       "    <tr style=\"text-align: right;\">\n",
       "      <th></th>\n",
       "      <th>A</th>\n",
       "      <th>AAL</th>\n",
       "      <th>AAP</th>\n",
       "      <th>AAPL</th>\n",
       "      <th>ABBV</th>\n",
       "      <th>ABC</th>\n",
       "      <th>ABT</th>\n",
       "      <th>ACGL</th>\n",
       "      <th>ACN</th>\n",
       "      <th>ADBE</th>\n",
       "      <th>...</th>\n",
       "      <th>WY</th>\n",
       "      <th>WYNN</th>\n",
       "      <th>XEL</th>\n",
       "      <th>XOM</th>\n",
       "      <th>XRAY</th>\n",
       "      <th>XYL</th>\n",
       "      <th>YUM</th>\n",
       "      <th>ZBH</th>\n",
       "      <th>ZBRA</th>\n",
       "      <th>ZION</th>\n",
       "    </tr>\n",
       "    <tr>\n",
       "      <th>Date</th>\n",
       "      <th></th>\n",
       "      <th></th>\n",
       "      <th></th>\n",
       "      <th></th>\n",
       "      <th></th>\n",
       "      <th></th>\n",
       "      <th></th>\n",
       "      <th></th>\n",
       "      <th></th>\n",
       "      <th></th>\n",
       "      <th></th>\n",
       "      <th></th>\n",
       "      <th></th>\n",
       "      <th></th>\n",
       "      <th></th>\n",
       "      <th></th>\n",
       "      <th></th>\n",
       "      <th></th>\n",
       "      <th></th>\n",
       "      <th></th>\n",
       "      <th></th>\n",
       "    </tr>\n",
       "  </thead>\n",
       "  <tbody>\n",
       "    <tr>\n",
       "      <th>2013-01-02</th>\n",
       "      <td>6290038.0</td>\n",
       "      <td>43167060.0</td>\n",
       "      <td>800421.0</td>\n",
       "      <td>19986670.0</td>\n",
       "      <td>13767660.0</td>\n",
       "      <td>1972401.0</td>\n",
       "      <td>20266410.0</td>\n",
       "      <td>977536.0</td>\n",
       "      <td>4039095.0</td>\n",
       "      <td>6483720.0</td>\n",
       "      <td>...</td>\n",
       "      <td>6594952.0</td>\n",
       "      <td>2486815.0</td>\n",
       "      <td>2702053.0</td>\n",
       "      <td>16144970.0</td>\n",
       "      <td>856539.0</td>\n",
       "      <td>927252.0</td>\n",
       "      <td>4376855.0</td>\n",
       "      <td>1397462.0</td>\n",
       "      <td>213748.0</td>\n",
       "      <td>2551059.0</td>\n",
       "    </tr>\n",
       "    <tr>\n",
       "      <th>2013-01-03</th>\n",
       "      <td>4114289.0</td>\n",
       "      <td>43167060.0</td>\n",
       "      <td>520539.0</td>\n",
       "      <td>12579170.0</td>\n",
       "      <td>16739210.0</td>\n",
       "      <td>2027242.0</td>\n",
       "      <td>22148090.0</td>\n",
       "      <td>655362.0</td>\n",
       "      <td>3340674.0</td>\n",
       "      <td>3905904.0</td>\n",
       "      <td>...</td>\n",
       "      <td>3967047.0</td>\n",
       "      <td>1731879.0</td>\n",
       "      <td>2403510.0</td>\n",
       "      <td>13268470.0</td>\n",
       "      <td>525445.0</td>\n",
       "      <td>610706.0</td>\n",
       "      <td>2627253.0</td>\n",
       "      <td>1574966.0</td>\n",
       "      <td>99849.0</td>\n",
       "      <td>2267804.0</td>\n",
       "    </tr>\n",
       "    <tr>\n",
       "      <th>2013-01-04</th>\n",
       "      <td>4601506.0</td>\n",
       "      <td>43167060.0</td>\n",
       "      <td>614933.0</td>\n",
       "      <td>21196320.0</td>\n",
       "      <td>21372200.0</td>\n",
       "      <td>2462183.0</td>\n",
       "      <td>15819140.0</td>\n",
       "      <td>530563.0</td>\n",
       "      <td>3145680.0</td>\n",
       "      <td>3809146.0</td>\n",
       "      <td>...</td>\n",
       "      <td>3624749.0</td>\n",
       "      <td>2129025.0</td>\n",
       "      <td>1743995.0</td>\n",
       "      <td>11427870.0</td>\n",
       "      <td>660389.0</td>\n",
       "      <td>563325.0</td>\n",
       "      <td>2719375.0</td>\n",
       "      <td>1189537.0</td>\n",
       "      <td>145944.0</td>\n",
       "      <td>3577660.0</td>\n",
       "    </tr>\n",
       "    <tr>\n",
       "      <th>2013-01-07</th>\n",
       "      <td>2567557.0</td>\n",
       "      <td>43167060.0</td>\n",
       "      <td>1051969.0</td>\n",
       "      <td>17262620.0</td>\n",
       "      <td>17896920.0</td>\n",
       "      <td>1803504.0</td>\n",
       "      <td>13121470.0</td>\n",
       "      <td>423123.0</td>\n",
       "      <td>2262426.0</td>\n",
       "      <td>3632022.0</td>\n",
       "      <td>...</td>\n",
       "      <td>2450680.0</td>\n",
       "      <td>1500928.0</td>\n",
       "      <td>2853210.0</td>\n",
       "      <td>11799780.0</td>\n",
       "      <td>554059.0</td>\n",
       "      <td>481287.0</td>\n",
       "      <td>3729703.0</td>\n",
       "      <td>954238.0</td>\n",
       "      <td>90581.0</td>\n",
       "      <td>2285917.0</td>\n",
       "    </tr>\n",
       "    <tr>\n",
       "      <th>2013-01-08</th>\n",
       "      <td>2787813.0</td>\n",
       "      <td>43167060.0</td>\n",
       "      <td>840003.0</td>\n",
       "      <td>16350190.0</td>\n",
       "      <td>17863000.0</td>\n",
       "      <td>1533163.0</td>\n",
       "      <td>15053860.0</td>\n",
       "      <td>580903.0</td>\n",
       "      <td>2468876.0</td>\n",
       "      <td>3080868.0</td>\n",
       "      <td>...</td>\n",
       "      <td>5203250.0</td>\n",
       "      <td>975921.0</td>\n",
       "      <td>3762904.0</td>\n",
       "      <td>14228400.0</td>\n",
       "      <td>698803.0</td>\n",
       "      <td>1084482.0</td>\n",
       "      <td>12406140.0</td>\n",
       "      <td>905965.0</td>\n",
       "      <td>112590.0</td>\n",
       "      <td>3758558.0</td>\n",
       "    </tr>\n",
       "    <tr>\n",
       "      <th>...</th>\n",
       "      <td>...</td>\n",
       "      <td>...</td>\n",
       "      <td>...</td>\n",
       "      <td>...</td>\n",
       "      <td>...</td>\n",
       "      <td>...</td>\n",
       "      <td>...</td>\n",
       "      <td>...</td>\n",
       "      <td>...</td>\n",
       "      <td>...</td>\n",
       "      <td>...</td>\n",
       "      <td>...</td>\n",
       "      <td>...</td>\n",
       "      <td>...</td>\n",
       "      <td>...</td>\n",
       "      <td>...</td>\n",
       "      <td>...</td>\n",
       "      <td>...</td>\n",
       "      <td>...</td>\n",
       "      <td>...</td>\n",
       "      <td>...</td>\n",
       "    </tr>\n",
       "    <tr>\n",
       "      <th>2022-12-23</th>\n",
       "      <td>779426.0</td>\n",
       "      <td>17160810.0</td>\n",
       "      <td>524534.0</td>\n",
       "      <td>63755280.0</td>\n",
       "      <td>2684724.0</td>\n",
       "      <td>528005.0</td>\n",
       "      <td>2618369.0</td>\n",
       "      <td>890265.0</td>\n",
       "      <td>1213251.0</td>\n",
       "      <td>1627915.0</td>\n",
       "      <td>...</td>\n",
       "      <td>1932785.0</td>\n",
       "      <td>1134475.0</td>\n",
       "      <td>1201346.0</td>\n",
       "      <td>11534290.0</td>\n",
       "      <td>1264320.0</td>\n",
       "      <td>321094.0</td>\n",
       "      <td>699735.0</td>\n",
       "      <td>789770.0</td>\n",
       "      <td>180932.0</td>\n",
       "      <td>1263345.0</td>\n",
       "    </tr>\n",
       "    <tr>\n",
       "      <th>2022-12-27</th>\n",
       "      <td>879543.0</td>\n",
       "      <td>18836880.0</td>\n",
       "      <td>717073.0</td>\n",
       "      <td>68887690.0</td>\n",
       "      <td>2669090.0</td>\n",
       "      <td>740310.0</td>\n",
       "      <td>2927352.0</td>\n",
       "      <td>666705.0</td>\n",
       "      <td>1009563.0</td>\n",
       "      <td>1463215.0</td>\n",
       "      <td>...</td>\n",
       "      <td>2265992.0</td>\n",
       "      <td>4024281.0</td>\n",
       "      <td>1580610.0</td>\n",
       "      <td>11874640.0</td>\n",
       "      <td>998778.0</td>\n",
       "      <td>468173.0</td>\n",
       "      <td>1299183.0</td>\n",
       "      <td>742499.0</td>\n",
       "      <td>252510.0</td>\n",
       "      <td>704184.0</td>\n",
       "    </tr>\n",
       "    <tr>\n",
       "      <th>2022-12-28</th>\n",
       "      <td>784312.0</td>\n",
       "      <td>20388570.0</td>\n",
       "      <td>685513.0</td>\n",
       "      <td>85247210.0</td>\n",
       "      <td>2944327.0</td>\n",
       "      <td>804725.0</td>\n",
       "      <td>3264409.0</td>\n",
       "      <td>1107929.0</td>\n",
       "      <td>1386969.0</td>\n",
       "      <td>1668511.0</td>\n",
       "      <td>...</td>\n",
       "      <td>2244112.0</td>\n",
       "      <td>2131050.0</td>\n",
       "      <td>1513689.0</td>\n",
       "      <td>10675270.0</td>\n",
       "      <td>1430535.0</td>\n",
       "      <td>480378.0</td>\n",
       "      <td>964755.0</td>\n",
       "      <td>750108.0</td>\n",
       "      <td>241209.0</td>\n",
       "      <td>679957.0</td>\n",
       "    </tr>\n",
       "    <tr>\n",
       "      <th>2022-12-29</th>\n",
       "      <td>854026.0</td>\n",
       "      <td>19652320.0</td>\n",
       "      <td>719051.0</td>\n",
       "      <td>75569790.0</td>\n",
       "      <td>3112518.0</td>\n",
       "      <td>1478972.0</td>\n",
       "      <td>3047818.0</td>\n",
       "      <td>1063408.0</td>\n",
       "      <td>1516779.0</td>\n",
       "      <td>1789922.0</td>\n",
       "      <td>...</td>\n",
       "      <td>1845747.0</td>\n",
       "      <td>1431045.0</td>\n",
       "      <td>1398037.0</td>\n",
       "      <td>10526150.0</td>\n",
       "      <td>1139467.0</td>\n",
       "      <td>516306.0</td>\n",
       "      <td>875749.0</td>\n",
       "      <td>686569.0</td>\n",
       "      <td>274913.0</td>\n",
       "      <td>685349.0</td>\n",
       "    </tr>\n",
       "    <tr>\n",
       "      <th>2022-12-30</th>\n",
       "      <td>699759.0</td>\n",
       "      <td>18959260.0</td>\n",
       "      <td>1004707.0</td>\n",
       "      <td>76904350.0</td>\n",
       "      <td>3679799.0</td>\n",
       "      <td>1209747.0</td>\n",
       "      <td>3469261.0</td>\n",
       "      <td>1116087.0</td>\n",
       "      <td>1339468.0</td>\n",
       "      <td>1740237.0</td>\n",
       "      <td>...</td>\n",
       "      <td>3166563.0</td>\n",
       "      <td>1613718.0</td>\n",
       "      <td>1597003.0</td>\n",
       "      <td>11790980.0</td>\n",
       "      <td>1352751.0</td>\n",
       "      <td>548889.0</td>\n",
       "      <td>1401328.0</td>\n",
       "      <td>785116.0</td>\n",
       "      <td>228188.0</td>\n",
       "      <td>609715.0</td>\n",
       "    </tr>\n",
       "  </tbody>\n",
       "</table>\n",
       "<p>2518 rows × 463 columns</p>\n",
       "</div>"
      ],
      "text/plain": [
       "                    A         AAL        AAP        AAPL        ABBV  \\\n",
       "Date                                                                   \n",
       "2013-01-02  6290038.0  43167060.0   800421.0  19986670.0  13767660.0   \n",
       "2013-01-03  4114289.0  43167060.0   520539.0  12579170.0  16739210.0   \n",
       "2013-01-04  4601506.0  43167060.0   614933.0  21196320.0  21372200.0   \n",
       "2013-01-07  2567557.0  43167060.0  1051969.0  17262620.0  17896920.0   \n",
       "2013-01-08  2787813.0  43167060.0   840003.0  16350190.0  17863000.0   \n",
       "...               ...         ...        ...         ...         ...   \n",
       "2022-12-23   779426.0  17160810.0   524534.0  63755280.0   2684724.0   \n",
       "2022-12-27   879543.0  18836880.0   717073.0  68887690.0   2669090.0   \n",
       "2022-12-28   784312.0  20388570.0   685513.0  85247210.0   2944327.0   \n",
       "2022-12-29   854026.0  19652320.0   719051.0  75569790.0   3112518.0   \n",
       "2022-12-30   699759.0  18959260.0  1004707.0  76904350.0   3679799.0   \n",
       "\n",
       "                  ABC         ABT       ACGL        ACN       ADBE  ...  \\\n",
       "Date                                                                ...   \n",
       "2013-01-02  1972401.0  20266410.0   977536.0  4039095.0  6483720.0  ...   \n",
       "2013-01-03  2027242.0  22148090.0   655362.0  3340674.0  3905904.0  ...   \n",
       "2013-01-04  2462183.0  15819140.0   530563.0  3145680.0  3809146.0  ...   \n",
       "2013-01-07  1803504.0  13121470.0   423123.0  2262426.0  3632022.0  ...   \n",
       "2013-01-08  1533163.0  15053860.0   580903.0  2468876.0  3080868.0  ...   \n",
       "...               ...         ...        ...        ...        ...  ...   \n",
       "2022-12-23   528005.0   2618369.0   890265.0  1213251.0  1627915.0  ...   \n",
       "2022-12-27   740310.0   2927352.0   666705.0  1009563.0  1463215.0  ...   \n",
       "2022-12-28   804725.0   3264409.0  1107929.0  1386969.0  1668511.0  ...   \n",
       "2022-12-29  1478972.0   3047818.0  1063408.0  1516779.0  1789922.0  ...   \n",
       "2022-12-30  1209747.0   3469261.0  1116087.0  1339468.0  1740237.0  ...   \n",
       "\n",
       "                   WY       WYNN        XEL         XOM       XRAY        XYL  \\\n",
       "Date                                                                            \n",
       "2013-01-02  6594952.0  2486815.0  2702053.0  16144970.0   856539.0   927252.0   \n",
       "2013-01-03  3967047.0  1731879.0  2403510.0  13268470.0   525445.0   610706.0   \n",
       "2013-01-04  3624749.0  2129025.0  1743995.0  11427870.0   660389.0   563325.0   \n",
       "2013-01-07  2450680.0  1500928.0  2853210.0  11799780.0   554059.0   481287.0   \n",
       "2013-01-08  5203250.0   975921.0  3762904.0  14228400.0   698803.0  1084482.0   \n",
       "...               ...        ...        ...         ...        ...        ...   \n",
       "2022-12-23  1932785.0  1134475.0  1201346.0  11534290.0  1264320.0   321094.0   \n",
       "2022-12-27  2265992.0  4024281.0  1580610.0  11874640.0   998778.0   468173.0   \n",
       "2022-12-28  2244112.0  2131050.0  1513689.0  10675270.0  1430535.0   480378.0   \n",
       "2022-12-29  1845747.0  1431045.0  1398037.0  10526150.0  1139467.0   516306.0   \n",
       "2022-12-30  3166563.0  1613718.0  1597003.0  11790980.0  1352751.0   548889.0   \n",
       "\n",
       "                   YUM        ZBH      ZBRA       ZION  \n",
       "Date                                                    \n",
       "2013-01-02   4376855.0  1397462.0  213748.0  2551059.0  \n",
       "2013-01-03   2627253.0  1574966.0   99849.0  2267804.0  \n",
       "2013-01-04   2719375.0  1189537.0  145944.0  3577660.0  \n",
       "2013-01-07   3729703.0   954238.0   90581.0  2285917.0  \n",
       "2013-01-08  12406140.0   905965.0  112590.0  3758558.0  \n",
       "...                ...        ...       ...        ...  \n",
       "2022-12-23    699735.0   789770.0  180932.0  1263345.0  \n",
       "2022-12-27   1299183.0   742499.0  252510.0   704184.0  \n",
       "2022-12-28    964755.0   750108.0  241209.0   679957.0  \n",
       "2022-12-29    875749.0   686569.0  274913.0   685349.0  \n",
       "2022-12-30   1401328.0   785116.0  228188.0   609715.0  \n",
       "\n",
       "[2518 rows x 463 columns]"
      ]
     },
     "execution_count": 119,
     "metadata": {},
     "output_type": "execute_result"
    }
   ],
   "source": [
    "df_volume_clean_wrds = df_volume_clean_wrds\n",
    "df_volume_clean_wrds"
   ]
  },
  {
   "cell_type": "code",
   "execution_count": 120,
   "metadata": {},
   "outputs": [
    {
     "data": {
      "text/plain": [
       "Date\n",
       "2013-01-02    2.928939e+09\n",
       "2013-01-03    2.675400e+09\n",
       "2013-01-04    2.386758e+09\n",
       "2013-01-07    2.391197e+09\n",
       "2013-01-08    2.469629e+09\n",
       "                  ...     \n",
       "2022-12-23    1.497168e+09\n",
       "2022-12-27    1.663919e+09\n",
       "2022-12-28    1.655365e+09\n",
       "2022-12-29    1.639356e+09\n",
       "2022-12-30    1.615183e+09\n",
       "Length: 2518, dtype: float64"
      ]
     },
     "execution_count": 120,
     "metadata": {},
     "output_type": "execute_result"
    }
   ],
   "source": [
    "# summing the volume of all stocks per year\n",
    "df_volume_clean_wrds_summed_across_stocks = df_volume_clean_wrds.sum(axis=1)\n",
    "df_volume_clean_wrds_summed_across_stocks"
   ]
  },
  {
   "cell_type": "code",
   "execution_count": 121,
   "metadata": {},
   "outputs": [
    {
     "data": {
      "text/plain": [
       "Date\n",
       "2013-01-02    5.845212e+08\n",
       "2013-01-03    5.845228e+08\n",
       "2013-01-04    5.845230e+08\n",
       "2013-01-07    5.845230e+08\n",
       "2013-01-08    5.845270e+08\n",
       "                  ...     \n",
       "2022-12-23    6.830501e+08\n",
       "2022-12-27    6.830501e+08\n",
       "2022-12-28    6.830461e+08\n",
       "2022-12-29    6.830609e+08\n",
       "2022-12-30    6.830640e+08\n",
       "Length: 2518, dtype: float64"
      ]
     },
     "execution_count": 121,
     "metadata": {},
     "output_type": "execute_result"
    }
   ],
   "source": [
    "# summing the shares outstanding of all stocks per year\n",
    "df_shares_outstanding_clean_mean_across_stocks = df_shares_outstanding_clean.mean(axis=1)\n",
    "df_shares_outstanding_clean_mean_across_stocks"
   ]
  },
  {
   "cell_type": "code",
   "execution_count": 122,
   "metadata": {},
   "outputs": [
    {
     "data": {
      "text/plain": [
       "Date\n",
       "2013-01-02    5.010834\n",
       "2013-01-03    4.577068\n",
       "2013-01-04    4.083258\n",
       "2013-01-07    4.090852\n",
       "2013-01-08    4.225004\n",
       "                ...   \n",
       "2022-12-23    2.191887\n",
       "2022-12-27    2.436013\n",
       "2022-12-28    2.423505\n",
       "2022-12-29    2.400015\n",
       "2022-12-30    2.364615\n",
       "Length: 2518, dtype: float64"
      ]
     },
     "execution_count": 122,
     "metadata": {},
     "output_type": "execute_result"
    }
   ],
   "source": [
    "df_velocity_daily = df_volume_clean_wrds_summed_across_stocks / df_shares_outstanding_clean_mean_across_stocks\n",
    "df_velocity_daily"
   ]
  },
  {
   "cell_type": "code",
   "execution_count": 123,
   "metadata": {},
   "outputs": [],
   "source": [
    "# resample volume clean wrds and shares outstanding clean dataframes to yearly frequency\n",
    "df_volume_across_stocks_yearly = df_volume_clean_wrds_summed_across_stocks.resample('Y').sum()\n",
    "df_shares_outstanding_yearly = df_shares_outstanding_clean_mean_across_stocks.resample('Y').sum()"
   ]
  },
  {
   "cell_type": "code",
   "execution_count": 124,
   "metadata": {},
   "outputs": [
    {
     "data": {
      "text/plain": [
       "Date\n",
       "2013-12-31    5.729787e+11\n",
       "2014-12-31    5.245225e+11\n",
       "2015-12-31    5.503212e+11\n",
       "2016-12-31    5.753032e+11\n",
       "2017-12-31    5.098813e+11\n",
       "2018-12-31    5.771541e+11\n",
       "2019-12-31    4.835171e+11\n",
       "2020-12-31    6.458376e+11\n",
       "2021-12-31    5.184856e+11\n",
       "2022-12-31    5.902643e+11\n",
       "Freq: A-DEC, dtype: float64"
      ]
     },
     "execution_count": 124,
     "metadata": {},
     "output_type": "execute_result"
    }
   ],
   "source": [
    "df_volume_across_stocks_yearly"
   ]
  },
  {
   "cell_type": "code",
   "execution_count": 125,
   "metadata": {},
   "outputs": [
    {
     "data": {
      "text/plain": [
       "Date\n",
       "2013-12-31    1.479610e+11\n",
       "2014-12-31    1.500665e+11\n",
       "2015-12-31    1.523661e+11\n",
       "2016-12-31    1.523036e+11\n",
       "2017-12-31    1.526511e+11\n",
       "2018-12-31    1.525540e+11\n",
       "2019-12-31    1.514214e+11\n",
       "2020-12-31    1.547089e+11\n",
       "2021-12-31    1.608621e+11\n",
       "2022-12-31    1.653258e+11\n",
       "Freq: A-DEC, dtype: float64"
      ]
     },
     "execution_count": 125,
     "metadata": {},
     "output_type": "execute_result"
    }
   ],
   "source": [
    "df_shares_outstanding_yearly"
   ]
  },
  {
   "cell_type": "code",
   "execution_count": 126,
   "metadata": {},
   "outputs": [],
   "source": [
    "# we device both dataframes to get the velocity\n",
    "df_velocity_yearly = df_volume_across_stocks_yearly / df_shares_outstanding_yearly"
   ]
  },
  {
   "cell_type": "code",
   "execution_count": 127,
   "metadata": {},
   "outputs": [
    {
     "data": {
      "text/plain": [
       "Date\n",
       "2013-12-31    3.872497\n",
       "2014-12-31    3.495268\n",
       "2015-12-31    3.611835\n",
       "2016-12-31    3.777345\n",
       "2017-12-31    3.340175\n",
       "2018-12-31    3.783277\n",
       "2019-12-31    3.193189\n",
       "2020-12-31    4.174533\n",
       "2021-12-31    3.223168\n",
       "2022-12-31    3.570309\n",
       "Freq: A-DEC, dtype: float64"
      ]
     },
     "execution_count": 127,
     "metadata": {},
     "output_type": "execute_result"
    }
   ],
   "source": [
    "df_velocity_yearly"
   ]
  },
  {
   "cell_type": "code",
   "execution_count": 128,
   "metadata": {},
   "outputs": [
    {
     "data": {
      "text/plain": [
       "3.6041594549117897"
      ]
     },
     "execution_count": 128,
     "metadata": {},
     "output_type": "execute_result"
    }
   ],
   "source": [
    "df_average_yearly_trading_velocity = df_velocity_yearly.mean(axis=0)\n",
    "df_average_yearly_trading_velocity"
   ]
  },
  {
   "attachments": {},
   "cell_type": "markdown",
   "metadata": {},
   "source": [
    "# Make return calculation"
   ]
  },
  {
   "cell_type": "code",
   "execution_count": null,
   "metadata": {},
   "outputs": [],
   "source": []
  }
 ],
 "metadata": {
  "kernelspec": {
   "display_name": "Python 3",
   "language": "python",
   "name": "python3"
  },
  "language_info": {
   "codemirror_mode": {
    "name": "ipython",
    "version": 3
   },
   "file_extension": ".py",
   "mimetype": "text/x-python",
   "name": "python",
   "nbconvert_exporter": "python",
   "pygments_lexer": "ipython3",
   "version": "3.10.9"
  },
  "orig_nbformat": 4,
  "vscode": {
   "interpreter": {
    "hash": "737aa38b06dd7377e5ea1c9d3b7bcdaf28b38271e4ca822a92a99e2a0a35e98e"
   }
  }
 },
 "nbformat": 4,
 "nbformat_minor": 2
}
