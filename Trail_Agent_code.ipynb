{
 "cells": [
  {
   "attachments": {},
   "cell_type": "markdown",
   "metadata": {},
   "source": [
    "# Project Computational Science\n",
    "## Agent Based modeling of financial market bubbles"
   ]
  },
  {
   "cell_type": "code",
   "execution_count": null,
   "metadata": {},
   "outputs": [],
   "source": [
    "import numpy as np\n",
    "import pandas as pd\n",
    "import matplotlib.pyplot as plt\n",
    "import seaborn as sns\n"
   ]
  },
  {
   "cell_type": "code",
   "execution_count": 4,
   "metadata": {},
   "outputs": [
    {
     "ename": "IndentationError",
     "evalue": "expected an indented block after function definition on line 10 (352706336.py, line 12)",
     "output_type": "error",
     "traceback": [
      "\u001b[1;36m  Cell \u001b[1;32mIn[4], line 12\u001b[1;36m\u001b[0m\n\u001b[1;33m    action = random.choice([\"buy\", \"sell\"])\u001b[0m\n\u001b[1;37m    ^\u001b[0m\n\u001b[1;31mIndentationError\u001b[0m\u001b[1;31m:\u001b[0m expected an indented block after function definition on line 10\n"
     ]
    }
   ],
   "source": [
    "# defining agent classes\n",
    "import random\n",
    "\n",
    "class Agent:\n",
    "    def __init__(self, name, stock, budget, belief):\n",
    "        self.name = name\n",
    "        self.stock = stock\n",
    "        self.budget = budget\n",
    "         self.belief = belief\n",
    "    \n",
    "    def step(self):\n",
    "    # The agent will decide to buy or sell the stock at each step\n",
    "        # The decision is based on the agent's belief and a random probability\n",
    "        prob = np.random.normal(self.belief, 0.5)\n",
    "        if prob > 0:\n",
    "            action = \"buy\"\n",
    "        else:\n",
    "            action = \"sell\"\n",
    "            if action == \"buy\":\n",
    "                # Check if the budget is high enough to buy a stock\n",
    "                if self.budget >= self.stock.price:\n",
    "                    self.budget -= self.stock.price\n",
    "                    self.stock.quantity += 1\n",
    "                    print(self.name + \" bought a stock for \" + str(self.stock.price))\n",
    "                else:\n",
    "                    print(self.name + \" does not have enough budget to buy a stock\")\n",
    "            else:\n",
    "                self.budget += self.stock.price\n",
    "                self.stock.quantity -= 1\n",
    "                print(self.name + \" sold a stock for \" + str(self.stock.price))\n",
    "\n",
    "        class Stock:\n",
    "            def __init__(self, name, price):\n",
    "                self.name = name\n",
    "                self.price = price\n",
    "                self.quantity = 0\n",
    "\n",
    "# Create a stock\n",
    "stock = Stock(\"Tech Company\", 100)\n",
    "\n",
    "# Create a list of agents\n",
    "agents = [Agent(\"Agent 1\", stock, 1000), Agent(\"Agent 2\", stock, 1000), Agent(\"Agent 3\", stock, 1000)]\n",
    "\n",
    "# Run the simulation for 10 steps\n",
    "for i in range(10):\n",
    "    print(\"Step:\", i)\n",
    "    for agent in agents:\n",
    "        agent.step()\n",
    "\n",
    "# Print the final quantities of the stock\n",
    "print(\"Stock quantity:\", stock.quantity)\n",
    "\n",
    "\n",
    "    "
   ]
  },
  {
   "cell_type": "code",
   "execution_count": null,
   "metadata": {},
   "outputs": [],
   "source": [
    "# running a simulation\n",
    "\n",
    "# Create a stock\n",
    "stock = Stock(\"Tech Company\", 100)\n",
    "\n",
    "# Create a list of agents\n",
    "agents = [Agent(\"Agent 1\", stock, 1000), Agent(\"Agent 2\", stock, 1000), Agent(\"Agent 3\", stock, 1000)]\n",
    "\n",
    "# Run the simulation for 10 steps\n",
    "for i in range(10):\n",
    "    print(\"Step:\", i)\n",
    "    for agent in agents:\n",
    "        agent.step()\n",
    "\n",
    "# Print the final quantities of the stock\n",
    "print(\"Stock quantity:\", stock.quantity)\n"
   ]
  }
 ],
 "metadata": {
  "kernelspec": {
   "display_name": "Python 3",
   "language": "python",
   "name": "python3"
  },
  "language_info": {
   "codemirror_mode": {
    "name": "ipython",
    "version": 3
   },
   "file_extension": ".py",
   "mimetype": "text/x-python",
   "name": "python",
   "nbconvert_exporter": "python",
   "pygments_lexer": "ipython3",
   "version": "3.10.9"
  },
  "orig_nbformat": 4,
  "vscode": {
   "interpreter": {
    "hash": "737aa38b06dd7377e5ea1c9d3b7bcdaf28b38271e4ca822a92a99e2a0a35e98e"
   }
  }
 },
 "nbformat": 4,
 "nbformat_minor": 2
}
