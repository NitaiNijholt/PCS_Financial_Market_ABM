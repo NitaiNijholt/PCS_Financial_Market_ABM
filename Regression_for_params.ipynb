{
 "cells": [
  {
   "cell_type": "code",
   "execution_count": null,
   "metadata": {},
   "outputs": [],
   "source": [
    "# regression for parameters of ABM model"
   ]
  },
  {
   "cell_type": "code",
   "execution_count": 2,
   "metadata": {},
   "outputs": [
    {
     "ename": "NameError",
     "evalue": "name 'np' is not defined",
     "output_type": "error",
     "traceback": [
      "\u001b[1;31m---------------------------------------------------------------------------\u001b[0m",
      "\u001b[1;31mNameError\u001b[0m                                 Traceback (most recent call last)",
      "Cell \u001b[1;32mIn[2], line 2\u001b[0m\n\u001b[0;32m      1\u001b[0m \u001b[39m# regress the Hill estimator of abs returns on log V_f\u001b[39;00m\n\u001b[1;32m----> 2\u001b[0m X \u001b[39m=\u001b[39m np\u001b[39m.\u001b[39marray(V_f_list)\u001b[39m.\u001b[39mreshape(\u001b[39m-\u001b[39m\u001b[39m1\u001b[39m,\u001b[39m1\u001b[39m)\n\u001b[0;32m      3\u001b[0m y \u001b[39m=\u001b[39m df_ABM_abs_return_results_for_different_V_F\u001b[39m.\u001b[39mloc[\u001b[39m'\u001b[39m\u001b[39mmean\u001b[39m\u001b[39m'\u001b[39m]\u001b[39m.\u001b[39mvalues\n\u001b[0;32m      4\u001b[0m reg \u001b[39m=\u001b[39m LinearRegression()\u001b[39m.\u001b[39mfit(X, y)\n",
      "\u001b[1;31mNameError\u001b[0m: name 'np' is not defined"
     ]
    }
   ],
   "source": [
    "# regress the Hill estimator of abs returns on log V_f\n",
    "X = np.array(V_f_list).reshape(-1,1)\n",
    "y = df_ABM_abs_return_results_for_different_V_F.loc['mean'].values\n",
    "reg = LinearRegression().fit(X, y)\n",
    "plt.scatter(X, y)\n",
    "plt.plot(X, reg.predict(X), color='red')\n",
    "plt.title('Hill estimator of returns on log of V_f')\n",
    "plt.xlabel('V_f')\n",
    "plt.ylabel('Hill estimator of abs returns')\n",
    "plt.show()\n",
    "print(f'R^2: {str(reg.score(X, y))})')\n",
    "print(f'intercept: {str(reg.intercept_)}')\n",
    "print(f'coefficient: {str(reg.coef_)}')\n",
    "\n",
    "# getting p value from LinearRegression library, using the implementation by Rakesh Racharla found on:\n",
    "# https://www.cluzters.ai/forums/topic/395/find-p-value-significance-in-scikit-learn-linear-regression?c=1597\n",
    "\n",
    "parameters = np.append(reg.intercept_,reg.coef_)\n",
    "predictions = reg.predict(X)\n",
    "\n",
    "NewX = np.append(np.ones(len(X),1), X, axis = 1)\n",
    "MSE = (sum((y-predictions)**2))/(len(NewX)-len(NewX[0]))\n",
    "\n",
    "var = MSE*(np.linalg.inv(np.dot(NewX.T,NewX)).diagonal())\n",
    "sd = np.sqrt(var)\n",
    "ts = parameters/sd\n",
    "\n",
    "p_value = [2*(1-stats.t.cdf(np.abs(element),(len(NewX)-len(NewX[0])))) for element in ts]\n",
    "\n",
    "\n",
    "\n",
    "# # Get the p-value of the regression coefficients\n",
    "# p_value = model.pvalues[0]\n",
    "\n",
    "print('Null hypothesis: the coefficient is zero')\n",
    "print('Alternative hypothesis: the coefficient is not zero')\n",
    "print('If p value is less than 0.05, we reject the null hypothesis')\n",
    "print(f'p value: {str(p_value)}')\n",
    "if p_value < 0.05:\n",
    "    print('Thus, we reject the null hypothesis in favor of the alternative hypothesis')\n",
    "    print(f'However, the sample size is {len(X)} so the results are not very reliable')\n",
    "else:\n",
    "    print('Thus, we fail to reject the null hypothesis')"
   ]
  }
 ],
 "metadata": {
  "kernelspec": {
   "display_name": "Python 3",
   "language": "python",
   "name": "python3"
  },
  "language_info": {
   "codemirror_mode": {
    "name": "ipython",
    "version": 3
   },
   "file_extension": ".py",
   "mimetype": "text/x-python",
   "name": "python",
   "nbconvert_exporter": "python",
   "pygments_lexer": "ipython3",
   "version": "3.10.9"
  },
  "orig_nbformat": 4,
  "vscode": {
   "interpreter": {
    "hash": "737aa38b06dd7377e5ea1c9d3b7bcdaf28b38271e4ca822a92a99e2a0a35e98e"
   }
  }
 },
 "nbformat": 4,
 "nbformat_minor": 2
}
