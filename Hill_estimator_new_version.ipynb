{
 "cells": [
  {
   "cell_type": "code",
   "execution_count": null,
   "metadata": {},
   "outputs": [],
   "source": [
    "def Hill_estimator(data, tail_percentage):\n",
    "    \"\"\"\n",
    "    Returns the Hill Estimators for some 1D data set.\n",
    "    \"\"\"  \n",
    "    # sort data in such way that the smallest value is first and the largest value comes last:\n",
    "    Y = np.sort(data)\n",
    "    n = len(Y)\n",
    "    k = np.round((tail_percentage * n)/100)\n",
    "    k = int(k)\n",
    "    log_x_n_minus_k = np.log(Y[n-k-1])\n",
    "    log_x_n_minus_j_plus_1 = np.log(Y[-k:])\n",
    "\n",
    "    alpha_est = k *(np.sum(log_x_n_minus_j_plus_1 - log_x_n_minus_k))**(-1)\n",
    "\n",
    "    return alpha_est"
   ]
  }
 ],
 "metadata": {
  "kernelspec": {
   "display_name": "Python 3",
   "language": "python",
   "name": "python3"
  },
  "language_info": {
   "name": "python",
   "version": "3.10.9 (tags/v3.10.9:1dd9be6, Dec  6 2022, 20:01:21) [MSC v.1934 64 bit (AMD64)]"
  },
  "orig_nbformat": 4,
  "vscode": {
   "interpreter": {
    "hash": "737aa38b06dd7377e5ea1c9d3b7bcdaf28b38271e4ca822a92a99e2a0a35e98e"
   }
  }
 },
 "nbformat": 4,
 "nbformat_minor": 2
}
