{
 "cells": [
  {
   "cell_type": "code",
   "execution_count": 22,
   "metadata": {},
   "outputs": [],
   "source": [
    "import numpy as np\n",
    "import random as rnd\n",
    "import matplotlib.pyplot as plt\n",
    "import math\n",
    "import datetime as dt\n",
    "import pandas as pd\n",
    "import os\n",
    "from numpy import inf\n",
    "import numpy as np"
   ]
  },
  {
   "cell_type": "code",
   "execution_count": 2,
   "metadata": {},
   "outputs": [],
   "source": [
    "n = 2**10\n",
    "t = 10**4\n",
    "p = 0.0217\n",
    "omega = 1\n",
    "size = 1\n",
    "k = 1"
   ]
  },
  {
   "cell_type": "code",
   "execution_count": 3,
   "metadata": {},
   "outputs": [],
   "source": [
    "def buy_sell_hold(p):\n",
    "    assert p <= 0.5, \"p should be smaller than 0.5\"\n",
    "    p_b = p # buy/sell\n",
    "    p_s = p\n",
    "    p_h = 1 - 2*p # hold\n",
    "    dice = rnd.uniform(0, 1)\n",
    "    # if the dice rolls below p, roll a 50/50 dice to decide buy or sell\n",
    "    if dice <= 2*p:\n",
    "        if rnd.choice([0, 1]) == 0:\n",
    "            psi = 1\n",
    "        else:\n",
    "            psi = -1\n",
    "    else:\n",
    "        psi = 0\n",
    "    return psi"
   ]
  },
  {
   "cell_type": "code",
   "execution_count": 13,
   "metadata": {},
   "outputs": [],
   "source": [
    "class Agent:\n",
    "    def __init__(self, size) -> None:\n",
    "        self.size = size\n",
    "\n",
    "class Model:\n",
    "    def __init__(self, p: float, n: int, size: int, k: int, omega: int) -> None:\n",
    "        self.n = n\n",
    "        self.p = p\n",
    "        self.agents = [Agent(size) for i in range(n)]\n",
    "        self.daily_return = []\n",
    "        self.trading_volume = 0\n",
    "        self.k = k\n",
    "        self.omega = omega\n",
    "        self.daily_returns = []\n",
    "        self.count = 0\n",
    "\n",
    "        self.daily_trading_volumes = []\n",
    "\n",
    "        \n",
    "    def distribute_opinion_groups(self) -> None:\n",
    "\n",
    "        # number of opinion groups\n",
    "        if sum(self.daily_return) != 0:\n",
    "            c = (self.n // abs(sum(self.daily_return))) ** self.omega\n",
    "        else:\n",
    "            c = self.n\n",
    "            \n",
    "        \n",
    "        opinion_groups = [[] for i in range(c)]\n",
    "        opinion_agents = self.agents.copy()\n",
    "\n",
    "        # distribute agents evenly\n",
    "        for opinion_group in opinion_groups:\n",
    "            for i in range(round(self.n / c)):\n",
    "                if len(opinion_agents) > 0:\n",
    "                    i = rnd.choice([i for i in range(len(opinion_agents))])\n",
    "\n",
    "                    opinion_group.append(opinion_agents[i])\n",
    "                    del opinion_agents[i]\n",
    "                else:\n",
    "                    break\n",
    "                \n",
    "        return opinion_groups\n",
    "\n",
    "    def step(self):\n",
    "        self.count += 1\n",
    "        opinion_groups = self.distribute_opinion_groups()\n",
    "        self.daily_return = []\n",
    "        self.trading_volume = 0\n",
    "\n",
    "        for opinion_group in opinion_groups:\n",
    "            psi = buy_sell_hold(self.p)\n",
    "            self.daily_return.append(psi * len(opinion_group))\n",
    "            self.trading_volume += abs(psi * len(opinion_group))\n",
    "    \n",
    "        self.daily_returns.append(sum(self.daily_return) * k)\n",
    "        self.daily_trading_volumes.append(self.trading_volume)\n",
    "\n",
    "        return self.count"
   ]
  },
  {
   "cell_type": "code",
   "execution_count": 14,
   "metadata": {},
   "outputs": [],
   "source": [
    "# ABM\n",
    "\n",
    "model_test = Model(p, n, size, k, omega)\n",
    "for i in range(t):\n",
    "    model_test.step()\n"
   ]
  },
  {
   "cell_type": "code",
   "execution_count": 15,
   "metadata": {},
   "outputs": [
    {
     "data": {
      "image/png": "[encoded data removed]",
      "text/plain": [
       "<Figure size 432x288 with 1 Axes>"
      ]
     },
     "metadata": {
      "needs_background": "light"
     },
     "output_type": "display_data"
    },
    {
     "data": {
      "image/png": "[encoded data removed]",
      "text/plain": [
       "<Figure size 432x288 with 1 Axes>"
      ]
     },
     "metadata": {
      "needs_background": "light"
     },
     "output_type": "display_data"
    }
   ],
   "source": [
    "# logarithmic bins\n",
    "bin=np.logspace(start=0, stop=np.log(5), num=t)\n",
    "\n",
    "# normalised returns\n",
    "returns = [(abs(day) - np.mean(model_test.daily_returns)) / np.std(model_test.daily_returns) for day in model_test.daily_returns]\n",
    "\n",
    "plt.plot(model_test.daily_returns)\n",
    "plt.show()\n",
    "\n",
    "plt.figure(1)\n",
    "plt.hist(returns, bin, cumulative=-1, density=True, log=True, histtype='step')\n",
    "plt.title(\"Probability distribution of absolute returns (log-log)\")\n",
    "plt.xlabel(\"Absolute daily returns\")\n",
    "plt.ylabel(\"P(|absolute returns| > x)\")\n",
    "plt.gca().set_xscale(\"log\")\n",
    "plt.show()\n"
   ]
  },
  {
   "cell_type": "code",
   "execution_count": 7,
   "metadata": {},
   "outputs": [],
   "source": [
    "# class Stochastic_Model:\n",
    "#     def __init__(self, n: int, p: float, init: int, time_horizon: bool, M, d):\n",
    "#         self.returns = [init]\n",
    "#         self.n = n\n",
    "#         self.p = p\n",
    "#         self.time_horizon = time_horizon\n",
    "#         self.M = M\n",
    "#         self.d = d\n",
    "\n",
    "#     def time_horizons(self):\n",
    "#         time_horizons = []\n",
    "#         alpha = []\n",
    "\n",
    "#         # distribution of agents in different time horizons\n",
    "#         # agents are allocated to each time horizon (with exponential decay as we go back in time), until we reach the limit M\n",
    "#         # or until we reach the beginning of the simulation (if current timestep t < M)\n",
    "#         for i in range(1, self.M + 1):\n",
    "#             if len(self.returns) == 1:\n",
    "#                 value = (i ** -self.d) * abs(self.returns[-1])\n",
    "#                 alpha_val = (i ** -self.d)\n",
    "#                 time_horizons.append(value)\n",
    "#                 alpha.append(alpha_val)\n",
    "\n",
    "#             elif i >= len(self.returns):\n",
    "#                 value = (i ** -self.d) * abs(self.returns[-1] - self.returns[0])\n",
    "#                 alpha_val = (i ** -self.d)\n",
    "#                 time_horizons.append(value)\n",
    "#                 alpha.append(alpha_val)\n",
    "\n",
    "#             else:\n",
    "#                 value = (i ** -self.d) * abs(self.returns[-1] - self.returns[-1-i])\n",
    "#                 alpha_val = (i ** -self.d)\n",
    "#                 time_horizons.append(value)\n",
    "#                 alpha.append(alpha_val)\n",
    "\n",
    "#         return sum(time_horizons) * (sum(alpha) ** -1)\n",
    "\n",
    "#     def step(self):\n",
    "\n",
    "#         # Agents only factor in the returns at the previous timestep\n",
    "#         if self.time_horizon == False:\n",
    "#             variance  = 2 * p * n * abs(self.returns[-1])\n",
    "#             std = math.sqrt(variance)\n",
    "#             value = std * np.random.normal(0.0, 1.0)\n",
    "#             self.returns.append(value)\n",
    "        \n",
    "#         # Agents look back M timesteps\n",
    "#         if self.time_horizon == True:\n",
    "#             horizons = self.time_horizons()\n",
    "#             variance  = 2 * p * n * horizons\n",
    "#             std = math.sqrt(variance)\n",
    "#             value = std * np.random.normal(0.0, 1.0)\n",
    "#             self.returns.append(value)  "
   ]
  },
  {
   "cell_type": "code",
   "execution_count": 8,
   "metadata": {},
   "outputs": [],
   "source": [
    "# # Stochastic simulation\n",
    "\n",
    "# stochastic = Stochastic_Model(n, p, 10, time_horizon=False, M=10, d=1.12)\n",
    "# stochastic_horizons = Stochastic_Model(n, p, 10, time_horizon=True, M=10, d=1.12)\n",
    "\n",
    "# for i in range(t):\n",
    "#     stochastic.step()\n",
    "#     stochastic_horizons.step()"
   ]
  },
  {
   "cell_type": "code",
   "execution_count": 9,
   "metadata": {},
   "outputs": [
    {
     "data": {
      "image/png": "[encoded data removed]",
      "text/plain": [
       "<Figure size 432x288 with 1 Axes>"
      ]
     },
     "metadata": {
      "needs_background": "light"
     },
     "output_type": "display_data"
    },
    {
     "data": {
      "image/png": "[encoded data removed]",
      "text/plain": [
       "<Figure size 432x288 with 1 Axes>"
      ]
     },
     "metadata": {
      "needs_background": "light"
     },
     "output_type": "display_data"
    },
    {
     "data": {
      "image/png": "[encoded data removed]",
      "text/plain": [
       "<Figure size 432x288 with 1 Axes>"
      ]
     },
     "metadata": {
      "needs_background": "light"
     },
     "output_type": "display_data"
    }
   ],
   "source": [
    "# plt.plot(range(t + 1), stochastic.returns)\n",
    "# plt.show()\n",
    "\n",
    "# plt.plot(range(t+1), stochastic_horizons.returns, color='orange')\n",
    "# plt.show()\n",
    "\n",
    "# abs_returns = [(abs(i) - np.mean(stochastic.returns)) / (np.std(stochastic.returns)) for i in stochastic.returns]\n",
    "# abs_returns_horizons = [(abs(i) - np.mean(stochastic_horizons.returns)) / (np.std(stochastic.returns)) for i in stochastic_horizons.returns]\n",
    "# bin=np.logspace(start=0, stop=np.log(10), num=200)\n",
    "\n",
    "# plt.hist(abs_returns, bins=bin, cumulative=-1, density=True, log=True, histtype='step')\n",
    "# plt.hist(abs_returns_horizons, bin, cumulative=-1, density=True, log=True, histtype='step', color = 'orange')\n",
    "# plt.gca().set_xscale(\"log\")\n",
    "# plt.show()"
   ]
  },
  {
   "cell_type": "code",
   "execution_count": 10,
   "metadata": {},
   "outputs": [],
   "source": [
    "# def regression(data_x, data_y, alpha, beta, learning_rate, iterations):\n",
    "#     rmse = math.sqrt(np.mean([((alpha + beta * data_x[i]) - data_y[i])**2 for i in range(len(data_y))]))\n",
    "\n",
    "#     for i in range(iterations):\n",
    "#         # find differentials of the parametres\n",
    "#         diff_alpha = 2 * np.mean([(data_x[i] * beta) for i in range(len(data_y))])\n",
    "#         diff_beta = 2 * np.mean([(data_x[i] * beta) * data_x[i] for i in range(len(data_y))])\n",
    "\n",
    "#         alpha_new = alpha - (learning_rate * diff_alpha)\n",
    "#         beta_new = beta - (learning_rate * diff_beta)\n",
    "\n",
    "#         rmse_zero_new = math.sqrt(np.mean([((alpha + beta * data_x[i]) - data_y[i])**2 for i in range(len(data_y))]))\n",
    "\n",
    "#         # keep new parametres if they lead to smaller rmse\n",
    "#         if rmse_zero_new < rmse_zero[-1]:\n",
    "#             alpha = alpha_new\n",
    "#             beta = beta_new\n",
    "#             rmse_zero = rmse_zero_new\n",
    "\n",
    "#     return alpha, beta, rmse"
   ]
  },
  {
   "cell_type": "code",
   "execution_count": 11,
   "metadata": {},
   "outputs": [],
   "source": [
    "# def r_squared(data, alpha, beta, x_range):\n",
    "#     \"\"\"\n",
    "#     Goodness of fit test for regression\n",
    "#     \"\"\"\n",
    "#     ss_res = []\n",
    "#     ss_total = []\n",
    "#     mean = np.mean(data)\n",
    "\n",
    "#     for i in range(x_range):\n",
    "#         prediction = alpha + beta * x_range[i]\n",
    "#         value = data[i]\n",
    "\n",
    "#         residual = (value - prediction) ** 2\n",
    "#         total = (value - mean) ** 2\n",
    "\n",
    "#         ss_res.append(residual)\n",
    "#         ss_total.append(total)\n",
    "\n",
    "#     return 1 - (ss_res / ss_total)\n"
   ]
  },
  {
   "cell_type": "code",
   "execution_count": 12,
   "metadata": {},
   "outputs": [
    {
     "name": "stdout",
     "output_type": "stream",
     "text": [
      "<__main__.Model object at 0x000002AE9C813280>\n"
     ]
    },
    {
     "ename": "AttributeError",
     "evalue": "'Model' object has no attribute 'dtype'",
     "output_type": "error",
     "traceback": [
      "\u001b[1;31m---------------------------------------------------------------------------\u001b[0m",
      "\u001b[1;31mAttributeError\u001b[0m                            Traceback (most recent call last)",
      "\u001b[1;32m~\\AppData\\Local\\Temp/ipykernel_14320/4079114773.py\u001b[0m in \u001b[0;36m<module>\u001b[1;34m\u001b[0m\n\u001b[0;32m      9\u001b[0m         \u001b[0mk_test\u001b[0m\u001b[1;33m.\u001b[0m\u001b[0mstep\u001b[0m\u001b[1;33m(\u001b[0m\u001b[1;33m)\u001b[0m\u001b[1;33m\u001b[0m\u001b[1;33m\u001b[0m\u001b[0m\n\u001b[0;32m     10\u001b[0m     \u001b[0mprint\u001b[0m\u001b[1;33m(\u001b[0m\u001b[0mk_test\u001b[0m\u001b[1;33m)\u001b[0m\u001b[1;33m\u001b[0m\u001b[1;33m\u001b[0m\u001b[0m\n\u001b[1;32m---> 11\u001b[1;33m     \u001b[0mvariance\u001b[0m \u001b[1;33m=\u001b[0m \u001b[0mnp\u001b[0m\u001b[1;33m.\u001b[0m\u001b[0mstd\u001b[0m\u001b[1;33m(\u001b[0m\u001b[0mk_test\u001b[0m\u001b[1;33m)\u001b[0m \u001b[1;33m**\u001b[0m \u001b[1;36m2\u001b[0m\u001b[1;33m\u001b[0m\u001b[1;33m\u001b[0m\u001b[0m\n\u001b[0m\u001b[0;32m     12\u001b[0m     \u001b[0mvariances\u001b[0m\u001b[1;33m.\u001b[0m\u001b[0mappend\u001b[0m\u001b[1;33m(\u001b[0m\u001b[0mvariance\u001b[0m\u001b[1;33m)\u001b[0m\u001b[1;33m\u001b[0m\u001b[1;33m\u001b[0m\u001b[0m\n",
      "\u001b[1;32m<__array_function__ internals>\u001b[0m in \u001b[0;36mstd\u001b[1;34m(*args, **kwargs)\u001b[0m\n",
      "\u001b[1;32mC:\\Anaconda\\lib\\site-packages\\numpy\\core\\fromnumeric.py\u001b[0m in \u001b[0;36mstd\u001b[1;34m(a, axis, dtype, out, ddof, keepdims, where)\u001b[0m\n\u001b[0;32m   3558\u001b[0m             \u001b[1;32mreturn\u001b[0m \u001b[0mstd\u001b[0m\u001b[1;33m(\u001b[0m\u001b[0maxis\u001b[0m\u001b[1;33m=\u001b[0m\u001b[0maxis\u001b[0m\u001b[1;33m,\u001b[0m \u001b[0mdtype\u001b[0m\u001b[1;33m=\u001b[0m\u001b[0mdtype\u001b[0m\u001b[1;33m,\u001b[0m \u001b[0mout\u001b[0m\u001b[1;33m=\u001b[0m\u001b[0mout\u001b[0m\u001b[1;33m,\u001b[0m \u001b[0mddof\u001b[0m\u001b[1;33m=\u001b[0m\u001b[0mddof\u001b[0m\u001b[1;33m,\u001b[0m \u001b[1;33m**\u001b[0m\u001b[0mkwargs\u001b[0m\u001b[1;33m)\u001b[0m\u001b[1;33m\u001b[0m\u001b[1;33m\u001b[0m\u001b[0m\n\u001b[0;32m   3559\u001b[0m \u001b[1;33m\u001b[0m\u001b[0m\n\u001b[1;32m-> 3560\u001b[1;33m     return _methods._std(a, axis=axis, dtype=dtype, out=out, ddof=ddof,\n\u001b[0m\u001b[0;32m   3561\u001b[0m                          **kwargs)\n\u001b[0;32m   3562\u001b[0m \u001b[1;33m\u001b[0m\u001b[0m\n",
      "\u001b[1;32mC:\\Anaconda\\lib\\site-packages\\numpy\\core\\_methods.py\u001b[0m in \u001b[0;36m_std\u001b[1;34m(a, axis, dtype, out, ddof, keepdims, where)\u001b[0m\n\u001b[0;32m    259\u001b[0m def _std(a, axis=None, dtype=None, out=None, ddof=0, keepdims=False, *,\n\u001b[0;32m    260\u001b[0m          where=True):\n\u001b[1;32m--> 261\u001b[1;33m     ret = _var(a, axis=axis, dtype=dtype, out=out, ddof=ddof,\n\u001b[0m\u001b[0;32m    262\u001b[0m                keepdims=keepdims, where=where)\n\u001b[0;32m    263\u001b[0m \u001b[1;33m\u001b[0m\u001b[0m\n",
      "\u001b[1;32mC:\\Anaconda\\lib\\site-packages\\numpy\\core\\_methods.py\u001b[0m in \u001b[0;36m_var\u001b[1;34m(a, axis, dtype, out, ddof, keepdims, where)\u001b[0m\n\u001b[0;32m    222\u001b[0m                                  subok=False)\n\u001b[0;32m    223\u001b[0m     \u001b[1;32melse\u001b[0m\u001b[1;33m:\u001b[0m\u001b[1;33m\u001b[0m\u001b[1;33m\u001b[0m\u001b[0m\n\u001b[1;32m--> 224\u001b[1;33m         \u001b[0marrmean\u001b[0m \u001b[1;33m=\u001b[0m \u001b[0marrmean\u001b[0m\u001b[1;33m.\u001b[0m\u001b[0mdtype\u001b[0m\u001b[1;33m.\u001b[0m\u001b[0mtype\u001b[0m\u001b[1;33m(\u001b[0m\u001b[0marrmean\u001b[0m \u001b[1;33m/\u001b[0m \u001b[0mrcount\u001b[0m\u001b[1;33m)\u001b[0m\u001b[1;33m\u001b[0m\u001b[1;33m\u001b[0m\u001b[0m\n\u001b[0m\u001b[0;32m    225\u001b[0m \u001b[1;33m\u001b[0m\u001b[0m\n\u001b[0;32m    226\u001b[0m     \u001b[1;31m# Compute sum of squared deviations from mean\u001b[0m\u001b[1;33m\u001b[0m\u001b[1;33m\u001b[0m\u001b[0m\n",
      "\u001b[1;31mAttributeError\u001b[0m: 'Model' object has no attribute 'dtype'"
     ]
    }
   ],
   "source": [
    "# # k_test - think about ways to fit a power law\n",
    "# k_range = [i*0.1 for i in range(1, 51)]\n",
    "# variances = []\n",
    "\n",
    "# for i in k_range:\n",
    "#     k = i\n",
    "#     k_test = Model(p, n, size, k=i, omega=1)\n",
    "#     for step in range(t):\n",
    "#         k_test.step()\n",
    "#     print(k_test)\n",
    "#     variance = np.std(k_test) ** 2\n",
    "#     variances.append(variance)"
   ]
  },
  {
   "cell_type": "code",
   "execution_count": null,
   "metadata": {},
   "outputs": [],
   "source": [
    "# # k - regression (if beta > 0, there is a relationship)\n",
    "# def regression(data_x, data_y, alpha, beta, learning_rate, iterations):\n",
    "# k_r = regression(k_range, variances, 0, 10, 1000)\n",
    "# k_test = r_squared(variances, k_r[0], k_r[1], k_range)\n"
   ]
  },
  {
   "cell_type": "code",
   "execution_count": null,
   "metadata": {},
   "outputs": [],
   "source": [
    "# # omega_test - think about ways to fit a power law\n",
    "# omega_range = [i*0.1 for i in range(1, 51)]\n",
    "# variances = []\n",
    "\n",
    "# for i in omega_range:\n",
    "#     omega = i\n",
    "#     omega_test = Model(p, n, k, omega)\n",
    "#     for step in range(t):\n",
    "#         omega_test.step()\n",
    "\n",
    "#     variance = np.std(omega_test) ** 2\n",
    "#     variances.append(variance)"
   ]
  },
  {
   "cell_type": "code",
   "execution_count": null,
   "metadata": {},
   "outputs": [],
   "source": [
    "# # omega - calculate regression of power law exponent and variances\n",
    "# omega_r = regression(omega_range, variances, 3, 2)\n",
    "# omega_test = r_squared(variances, omega_r[0], omega_r[1], omega_range)\n"
   ]
  },
  {
   "cell_type": "code",
   "execution_count": null,
   "metadata": {},
   "outputs": [],
   "source": [
    "# # p_test - variances; mean number of zeros\n",
    "# p_range = [i*0.01 for i in range(1, 101)]\n",
    "# variances = []\n",
    "# zeros = []\n",
    "\n",
    "# for i in p_range:\n",
    "#     p = i\n",
    "#     p_test = Model(p, n, 1, k, omega)\n",
    "#     for step in range(t):\n",
    "#         p_test.step()\n",
    "\n",
    "#     variance = np.std(p_test) ** 2\n",
    "#     variances.append(variance)\n",
    "\n",
    "#     for i in p_test.daily_returns:\n",
    "#         zero = []\n",
    "#         if -0.5 < i < 0.5:\n",
    "#             zero.append(i)\n",
    "        \n",
    "#         zero_add = sum(zero) / len(p_test.daily_returns)\n",
    "#         zeros.append(zero_add)"
   ]
  },
  {
   "cell_type": "code",
   "execution_count": null,
   "metadata": {},
   "outputs": [],
   "source": [
    "# p_zeros_r = regression(p_range, zeros, 5, 5, 1, 1000)\n",
    "# p_variances_r = regression(p_range, variances, 5, 5, 1, 1000)\n",
    "\n",
    "# p_test_zeros = r_squared(zeros, p_zeros_r[0], p_zeros_r[1], p_range)\n",
    "# p_test_variances = r_squared(variances, p_variances_r[0], p_variances_r[1], p_range)\n",
    "\n"
   ]
  },
  {
   "cell_type": "markdown",
   "metadata": {},
   "source": [
    "### Real data"
   ]
  },
  {
   "cell_type": "code",
   "execution_count": 23,
   "metadata": {},
   "outputs": [],
   "source": [
    "# importing data\n",
    "df_clean_daily_returns = pd.read_csv('data/df_clean_daily_returns.csv')\n",
    "df_volume_clean = pd.read_csv('data/df_volume_clean.csv')\n",
    "\n",
    "# plottings daily return distribution\n",
    "\n",
    "# removing date time index and date column\n",
    "df_clean_daily_returns.reset_index(drop=True, inplace=True)\n",
    "df_clean_daily_returns.drop(columns=['Date'], inplace=True)\n",
    "# flattening the 2D dataframe into 1D array\n",
    "flattened_returns = df_clean_daily_returns.to_numpy().flatten()\n",
    "\n",
    "flattened_returns\n",
    "abs_returns = abs(flattened_returns)"
   ]
  },
  {
   "cell_type": "code",
   "execution_count": 28,
   "metadata": {},
   "outputs": [
    {
     "data": {
      "image/png": "[encoded data removed]",
      "text/plain": [
       "<Figure size 432x288 with 1 Axes>"
      ]
     },
     "metadata": {
      "needs_background": "light"
     },
     "output_type": "display_data"
    },
    {
     "data": {
      "image/png": "[encoded data removed]",
      "text/plain": [
       "<Figure size 432x288 with 1 Axes>"
      ]
     },
     "metadata": {
      "needs_background": "light"
     },
     "output_type": "display_data"
    }
   ],
   "source": [
    "# Plotting cumulative histogram of daily returns across all stocks by \n",
    "bins = 5000\n",
    "plt.hist(flattened_returns, bins, cumulative = True)\n",
    "plt.title('Cumulative Histogram of Daily Returns across all stocks')\n",
    "plt.xlabel('Daily return percent (in decimal)')\n",
    "plt.ylabel('count')\n",
    "plt.figtext(0.5, 0.01, f'bins = {bins}', ha='center', va='center')\n",
    "plt.show()\n",
    "# Plotting regular histogram of daily returns across all stocks by \n",
    "bins = 5000\n",
    "plt.hist(abs_returns, bins)\n",
    "plt.title('Regular Histogram of Daily Returns across all stocks')\n",
    "plt.xlabel('Daily return percent (in decimal)')\n",
    "plt.ylabel('count')\n",
    "plt.figtext(0.5, 0.01, f'bins = {bins}', ha='center', va='center')\n",
    "plt.show()"
   ]
  },
  {
   "cell_type": "markdown",
   "metadata": {},
   "source": [
    "### Grid Search & LSQ"
   ]
  },
  {
   "cell_type": "code",
   "execution_count": 36,
   "metadata": {},
   "outputs": [
    {
     "data": {
      "image/png": "[encoded data removed]",
      "text/plain": [
       "<Figure size 432x288 with 1 Axes>"
      ]
     },
     "metadata": {
      "needs_background": "light"
     },
     "output_type": "display_data"
    }
   ],
   "source": [
    "(n, real_bins, patches) = plt.hist(abs_returns, len(bin)-1)"
   ]
  },
  {
   "cell_type": "code",
   "execution_count": 71,
   "metadata": {},
   "outputs": [
    {
     "name": "stdout",
     "output_type": "stream",
     "text": [
      "parameters to test: [0 1 2 3 4 5 6 7 8 9]\n"
     ]
    }
   ],
   "source": [
    "# Example of parameter generation\n",
    "parameters = np.arange(0, 10, 1)\n",
    "print(\"parameters to test:\", parameters)\n",
    "\n",
    "\n",
    "def gridsearch(real, abm_or_stoch, parameters):\n",
    "    best_param = 0\n",
    "    best_loss = 1000000000\n",
    "    for param in parameters:\n",
    "        if abm_or_stoch == 'abm':\n",
    "            model_test = Model(p, n, size, k, omega) # change the parameter to test to \"param\"\n",
    "            for i in range(t):\n",
    "                model_test.step()\n",
    "            abs_returns = [abs(day) for day in model_test.daily_returns]\n",
    "            result = np.array(abs_returns)\n",
    "        else:\n",
    "            stochastic = Stochastic_Model(n, p, 10, time_horizon=False, M=10, d=1.12)\n",
    "            stochastic_horizons = Stochastic_Model(n, p, 10, time_horizon=True, M=10, d=1.12)\n",
    "            for i in range(t):\n",
    "                stochastic.step()\n",
    "                stochastic_horizons.step()\n",
    "            abs_returns = [abs(i) for i in stochastic.returns]\n",
    "            result = np.array(abs_returns)\n",
    "        rmse = np.sqrt(mean_squared_error(real, result))\n",
    "        if rmse < best_loss:\n",
    "            best_param = current_param\n",
    "            best_loss = rmse\n",
    "    return best_param, best_loss\n",
    "\n",
    "# Implementation from https://archive.lib.msu.edu/crcmath/math/math/l/l142.html\n",
    "def exp_lsq(x, y):\n",
    "    n = len(bin) # sample size?\n",
    "    ln_y = np.log(y, where= y != 0)\n",
    "    sum_ln_y = np.sum(ln_y)\n",
    "    sum_x = np.sum(x)\n",
    "    sum_x_ln_y = np.sum(x * ln_y)\n",
    "    print('sum_ln_y', sum_ln_y, 'sum_x', sum_x)\n",
    "    a = (sum_ln_y * sum_x**2 - sum_x*sum_x_ln_y) / (n * np.sum(x**2) - sum_x**2)\n",
    "    b = (n * sum_x_ln_y - sum_x*sum_ln_y)/(n * np.sum(x**2) - sum_x**2)\n",
    "    return a, b"
   ]
  },
  {
   "cell_type": "code",
   "execution_count": 72,
   "metadata": {},
   "outputs": [
    {
     "name": "stdout",
     "output_type": "stream",
     "text": [
      "sum_ln_y -12924.385249249372 sum_x 107097.97320858309\n",
      "-13654.60835452523 0.06345309008177295\n"
     ]
    },
    {
     "data": {
      "text/plain": [
       "<matplotlib.collections.PathCollection at 0x2aeab793520>"
      ]
     },
     "execution_count": 72,
     "metadata": {},
     "output_type": "execute_result"
    },
    {
     "data": {
      "image/png": "[encoded data removed]",
      "text/plain": [
       "<Figure size 432x288 with 1 Axes>"
      ]
     },
     "metadata": {
      "needs_background": "light"
     },
     "output_type": "display_data"
    }
   ],
   "source": [
    "a, b = exp_lsq(bin, real_bins)\n",
    "print(a,b)\n",
    "x = np.arange(0, len(bin), 1)\n",
    "y = np.exp(a)*math.e**(b*x)\n",
    "plt.scatter(x,y)"
   ]
  },
  {
   "cell_type": "code",
   "execution_count": null,
   "metadata": {},
   "outputs": [],
   "source": []
  },
  {
   "cell_type": "code",
   "execution_count": null,
   "metadata": {},
   "outputs": [],
   "source": []
  }
 ],
 "metadata": {
  "kernelspec": {
   "display_name": "Python 3 (ipykernel)",
   "language": "python",
   "name": "python3"
  },
  "language_info": {
   "codemirror_mode": {
    "name": "ipython",
    "version": 3
   },
   "file_extension": ".py",
   "mimetype": "text/x-python",
   "name": "python",
   "nbconvert_exporter": "python",
   "pygments_lexer": "ipython3",
   "version": "3.9.7"
  },
  "vscode": {
   "interpreter": {
    "hash": "aee8b7b246df8f9039afb4144a1f6fd8d2ca17a180786b69acc140d282b71a49"
   }
  }
 },
 "nbformat": 4,
 "nbformat_minor": 2
}
