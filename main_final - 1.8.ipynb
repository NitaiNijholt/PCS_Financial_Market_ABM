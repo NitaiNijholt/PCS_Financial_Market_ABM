{
 "cells": [
  {
   "cell_type": "code",
   "execution_count": 2,
   "metadata": {},
   "outputs": [
    {
     "data": {
      "text/html": [
       "        <script type=\"text/javascript\">\n",
       "        window.PlotlyConfig = {MathJaxConfig: 'local'};\n",
       "        if (window.MathJax && window.MathJax.Hub && window.MathJax.Hub.Config) {window.MathJax.Hub.Config({SVG: {font: \"STIX-Web\"}});}\n",
       "        if (typeof require !== 'undefined') {\n",
       "        require.undef(\"plotly\");\n",
       "        requirejs.config({\n",
       "            paths: {\n",
       "                'plotly': ['https://cdn.plot.ly/plotly-2.12.1.min']\n",
       "            }\n",
       "        });\n",
       "        require(['plotly'], function(Plotly) {\n",
       "            window._Plotly = Plotly;\n",
       "        });\n",
       "        }\n",
       "        </script>\n",
       "        "
      ]
     },
     "metadata": {},
     "output_type": "display_data"
    }
   ],
   "source": [
    "import numpy as np\n",
    "import random as rnd\n",
    "import matplotlib.pyplot as plt\n",
    "import math\n",
    "from scipy import stats\n",
    "import pandas as pd\n",
    "import matplotlib as mpl\n",
    "import datetime as dt\n",
    "from pandas_datareader import data as pdr\n",
    "import plotly.offline as plotly\n",
    "import plotly.graph_objects as go\n",
    "from plotly.subplots import make_subplots\n",
    "import yfinance as yf\n",
    "yf.pdr_override()\n",
    "import os\n",
    "plotly.init_notebook_mode(connected=True)\n",
    "pd.options.plotting.backend = 'plotly'\n",
    "import wrds\n",
    "from sklearn.preprocessing import StandardScaler\n",
    "\n",
    "# plt.style.use(['science', 'notebook'])"
   ]
  },
  {
   "cell_type": "markdown",
   "metadata": {},
   "source": [
    "### Importing DataFrames & changing index to date time"
   ]
  },
  {
   "cell_type": "code",
   "execution_count": 3,
   "metadata": {},
   "outputs": [],
   "source": [
    "df_close_clean = pd.read_csv('data/df_close_clean.csv')\n",
    "df_open_clean = pd.read_csv('data/df_open_clean.csv')\n",
    "df_volume_clean = pd.read_csv('data/df_volume_clean.csv')\n",
    "df_shares_outstanding_clean = pd.read_csv('data/df_shares_outstanding_clean.csv')\n",
    "df_volume_clean_wrds = pd.read_csv('data/df_volume_clean_WRDS.csv')\n",
    "\n",
    "# change index to datetime\n",
    "df_close_clean.index = pd.to_datetime(df_close_clean['Date'])\n",
    "df_open_clean.index = pd.to_datetime(df_open_clean['Date'])\n",
    "df_volume_clean.index = pd.to_datetime(df_volume_clean['Date'])\n",
    "df_shares_outstanding_clean.index = pd.to_datetime(df_shares_outstanding_clean['Date'])\n",
    "df_volume_clean_wrds.index = pd.to_datetime(df_volume_clean_wrds['Date'])\n",
    "\n",
    "# Remove the \"Date\" column as it no longer has any use\n",
    "df_close_clean = df_close_clean.drop(columns=['Date'])\n",
    "df_open_clean = df_open_clean.drop(columns=['Date'])\n",
    "df_volume_clean = df_volume_clean.drop(columns=['Date'])\n",
    "df_shares_outstanding_clean = df_shares_outstanding_clean.drop(columns=['Date'])\n",
    "df_volume_clean_wrds = df_volume_clean_wrds.drop(columns=['Date'])\n",
    "\n",
    "# testing if the index is datetime and the \"Date\" column is removed\n",
    "assert 'Date' not in df_close_clean.columns\n",
    "assert 'Date' not in df_open_clean.columns\n",
    "assert 'Date' not in df_volume_clean.columns\n",
    "assert 'Date' not in df_shares_outstanding_clean.columns\n",
    "assert 'Date' not in df_volume_clean_wrds.columns\n",
    "assert df_close_clean.index.dtype == 'datetime64[ns]'\n",
    "assert df_open_clean.index.dtype == 'datetime64[ns]'\n",
    "assert df_volume_clean.index.dtype == 'datetime64[ns]'\n",
    "assert df_shares_outstanding_clean.index.dtype == 'datetime64[ns]'\n",
    "assert df_volume_clean_wrds.index.dtype == 'datetime64[ns]'"
   ]
  },
  {
   "cell_type": "code",
   "execution_count": 36,
   "metadata": {},
   "outputs": [
    {
     "data": {
      "text/plain": [
       "0"
      ]
     },
     "execution_count": 36,
     "metadata": {},
     "output_type": "execute_result"
    }
   ],
   "source": [
    "flat_vol = np.sort(df_volume_clean.values.flatten())\n",
    "np.count_nonzero(flat_vol == 2)"
   ]
  },
  {
   "cell_type": "code",
   "execution_count": 52,
   "metadata": {},
   "outputs": [
    {
     "name": "stdout",
     "output_type": "stream",
     "text": [
      "5364467.902905552\n",
      "[1.86411778e-05 1.86411778e-05 1.86411778e-05 1.86411778e-05\n",
      " 1.86411778e-05 1.86411778e-05 1.86411778e-05 1.86411778e-05\n",
      " 1.86411778e-05 1.86411778e-05 1.86411778e-05 1.86411778e-05\n",
      " 1.86411778e-05 1.86411778e-05 1.86411778e-05 1.86411778e-05\n",
      " 1.86411778e-05 1.86411778e-05 1.86411778e-05 1.86411778e-05\n",
      " 1.86411778e-05 1.86411778e-05 1.86411778e-05 1.86411778e-05\n",
      " 1.86411778e-05 1.86411778e-05 1.86411778e-05 1.86411778e-05\n",
      " 1.86411778e-05 1.86411778e-05 1.86411778e-05 1.86411778e-05\n",
      " 1.86411778e-05 1.86411778e-05 1.86411778e-05 1.86411778e-05\n",
      " 1.86411778e-05 1.86411778e-05 1.86411778e-05 1.86411778e-05\n",
      " 1.86411778e-05 1.86411778e-05 1.86411778e-05 1.86411778e-05\n",
      " 1.86411778e-05 1.86411778e-05 1.86411778e-05 1.86411778e-05\n",
      " 1.86411778e-05 1.86411778e-05]\n",
      "[108.63250756 109.01006597 109.22022661 109.48903239 110.34399137\n",
      " 110.67386566 110.79078312 111.51376256 112.06069472 112.44433016\n",
      " 113.00229789 113.53468993 113.57592422 114.94532378 118.02818312\n",
      " 118.52195064 119.01154253 119.36438275 120.04187771 120.94865917\n",
      " 123.82186118 124.20601858 124.22081967 124.80000107 126.48068966\n",
      " 128.77415104 128.91090272 130.35827833 131.3421597  131.602055\n",
      " 135.40149986 136.86494416 138.24550979 138.54041322 140.99672394\n",
      " 141.55834535 141.65647251 142.06568364 142.43679221 146.42973249\n",
      " 160.59553633 163.44070202 164.40422722 167.52759384 170.39565089\n",
      " 176.1695693  180.75440427 198.62607425 225.19034914 272.32009333]\n"
     ]
    }
   ],
   "source": [
    "volume_flat = df_volume_clean.values.flatten()\n",
    "volume_flat = volume_flat[np.where(volume_flat != 0)]\n",
    "vol_mean = np.mean(volume_flat)\n",
    "print(vol_mean)\n",
    "vol_sum = np.sum(volume_flat)\n",
    "normalized_vol = volume_flat/vol_mean\n",
    "sorted_vol = np.sort(normalized_vol)\n",
    "print(sorted_vol[0:50])\n",
    "print(sorted_vol[len(sorted_vol)-50:len(sorted_vol)])"
   ]
  },
  {
   "cell_type": "code",
   "execution_count": 51,
   "metadata": {},
   "outputs": [
    {
     "name": "stderr",
     "output_type": "stream",
     "text": [
      "No handles with labels found to put in legend.\n"
     ]
    },
    {
     "data": {
      "image/png": "[encoded data removed]",
      "text/plain": [
       "<Figure size 720x720 with 1 Axes>"
      ]
     },
     "metadata": {
      "needs_background": "light"
     },
     "output_type": "display_data"
    }
   ],
   "source": [
    "x = np.arange(0, len(sorted_vol), 1)\n",
    "plt.scatter(x, sorted_vol)\n",
    "plt.show()\n",
    "# non-log plot\n",
    "plt.figure(figsize=(10,10))\n",
    "plt.hist(sorted_vol, bins=10000, cumulative=-1, density=True, log=True, histtype='step')\n",
    "plt.gca().set_xscale(\"log\")\n",
    "plt.legend()\n",
    "plt.show()"
   ]
  },
  {
   "cell_type": "code",
   "execution_count": 49,
   "metadata": {},
   "outputs": [
    {
     "name": "stdout",
     "output_type": "stream",
     "text": [
      "start [1.86609619e-05 1.86609619e-05 1.86609619e-05 1.86609619e-05\n",
      " 1.86609619e-05 1.86609619e-05 1.86609619e-05 1.86609619e-05\n",
      " 1.86609619e-05 1.86609619e-05 1.86609619e-05 1.86609619e-05\n",
      " 1.86609619e-05 1.86609619e-05 1.86609619e-05 1.86609619e-05\n",
      " 1.86609619e-05 1.86609619e-05 1.86609619e-05 1.86609619e-05\n",
      " 1.86609619e-05 1.86609619e-05 1.86609619e-05 1.86609619e-05\n",
      " 1.86609619e-05 1.86609619e-05 1.86609619e-05 1.86609619e-05\n",
      " 1.86609619e-05 1.86609619e-05 1.86609619e-05 1.86609619e-05\n",
      " 1.86609619e-05 1.86609619e-05 1.86609619e-05 1.86609619e-05\n",
      " 1.86609619e-05 1.86609619e-05 1.86609619e-05 1.86609619e-05\n",
      " 1.86609619e-05 1.86609619e-05 1.86609619e-05 1.86609619e-05\n",
      " 1.86609619e-05 1.86609619e-05 1.86609619e-05 1.86609619e-05\n",
      " 1.86609619e-05 1.86609619e-05]\n",
      "end [108.74780037 109.12575949 109.33614318 109.60523425 110.4611006\n",
      " 110.79132498 110.90836654 111.63211328 112.1796259  112.5636685\n",
      " 113.12222841 113.65518548 113.69646353 115.06731645 118.15344766\n",
      " 118.64773922 119.13785073 119.49106541 120.16927941 121.07702324\n",
      " 123.95327462 124.33783972 124.35265652 124.93245261 126.61492493\n",
      " 128.91082039 129.04771721 130.49662893 131.4815545  131.74172563\n",
      " 135.54520288 137.01020036 138.39223119 138.68744761 141.14636523\n",
      " 141.70858269 141.806814   142.21645943 142.58796186 146.5851399\n",
      " 160.76597805 163.61416334 164.57871114 167.70539262 170.57649357\n",
      " 176.3565399  180.9462408  198.83687817 225.429346   272.60910949]\n"
     ]
    }
   ],
   "source": [
    "vol_mean = np.mean(df_volume_clean.values.flatten())\n",
    "df_vol_sum = df_volume_clean.sum().sum()\n",
    "df_normalized_vol = df_volume_clean/vol_mean\n",
    "sorted_vol = np.sort(df_normalized_vol.values.flatten())\n",
    "sorted_vol = sorted_vol[np.where(sorted_vol != 0)]\n",
    "print('start', sorted_vol[0:50])\n",
    "print('end', sorted_vol[len(sorted_vol)-50:len(sorted_vol)])"
   ]
  },
  {
   "cell_type": "code",
   "execution_count": 6,
   "metadata": {},
   "outputs": [
    {
     "data": {
      "text/plain": [
       "6247448590788"
      ]
     },
     "execution_count": 6,
     "metadata": {},
     "output_type": "execute_result"
    }
   ],
   "source": [
    "df_volume_clean.sum().sum()"
   ]
  },
  {
   "cell_type": "markdown",
   "metadata": {},
   "source": [
    "### Velocity calculation\n",
    "\n",
    "We do the velocity calculation on the real data a fashion similar as Feng et. al's 2012 paper, in the following steps:\n",
    "1. Divide the total number of shares traded on the market(volume) by the number of outstanding shares of each stock every day\n",
    "2. Resample the dataframe into a yearly timeframe\n",
    "3. Sum up the yearly velocity per stock and divide it by the amount of years used in the dataframe which results in the mean velocity per stock\n",
    "4. Take the mean of all the mean of the different stocks"
   ]
  },
  {
   "cell_type": "code",
   "execution_count": 4,
   "metadata": {},
   "outputs": [],
   "source": [
    "# Step 1\n",
    "velocity_df_daily = df_volume_clean_wrds/df_shares_outstanding_clean\n",
    "\n",
    "# Step 2\n",
    "velocity_yearly_df = velocity_df_daily.resample('Y').sum()\n",
    "\n",
    "# Step 3 + 4\n",
    "sum_velocity_yearly_df = velocity_yearly_df.apply(lambda x: x.sum())/velocity_yearly_df.shape[0] # .shape[0] = amount of rows \n",
    "V = sum_velocity_yearly_df.mean()"
   ]
  },
  {
   "cell_type": "code",
   "execution_count": 5,
   "metadata": {},
   "outputs": [],
   "source": [
    "def probability_of_trading(V_f:float, V:float) -> float:\n",
    "    \"\"\"returns the probability of trading for a given velocity of fundamental traders and total market velocity V\"\"\"\n",
    "    # V is total market velocity, V_f is the velocity of fundamental traders, V_c is the velocity of technical traders\n",
    "    # We assume that the proportion of shares held by fundamental traders is the same as in the period 1997-2006, namely 83% on average. \n",
    "    # This might be a bit strong, but we continue with this assumption for now.\n",
    "    # thus the velocity of technical traders is V_C is given by:\n",
    "    V_c = (V - 0.83*V_f)/(1-0.83)\n",
    "    # because there are around 250 trading days in a year, we arrive at probability of trading p as follows:\n",
    "    p = V_c/(250*2)\n",
    "    return p\n"
   ]
  },
  {
   "cell_type": "code",
   "execution_count": 6,
   "metadata": {},
   "outputs": [
    {
     "name": "stdout",
     "output_type": "stream",
     "text": [
      "The V value is 2.1835498511136326\n",
      "V_f: 0.2 gives a p value of 0.02373588060133685\n",
      "V_f: 0.4 gives a p value of 0.02178293942486626\n",
      "V_f: 0.6 gives a p value of 0.019829998248395674\n",
      "V_f: 0.8 gives a p value of 0.017877057071925082\n"
     ]
    }
   ],
   "source": [
    "# multiple choices of V_F, in the paper they chose V_f = 0.4 as an arbirtrary choice which achieved best fit\n",
    "V_f_list = [0.2, 0.4, 0.6, 0.8]\n",
    "\n",
    "print(\"The V value is\", V)\n",
    "for V_f in V_f_list:\n",
    "    p = probability_of_trading(V_f, V)\n",
    "    print('V_f: ' + str(V_f), 'gives a p value of', p)\n"
   ]
  },
  {
   "cell_type": "markdown",
   "metadata": {},
   "source": [
    "# Model parameters"
   ]
  },
  {
   "cell_type": "code",
   "execution_count": 7,
   "metadata": {},
   "outputs": [],
   "source": [
    "# other parameters\n",
    "n = 2**10\n",
    "t = 10000\n",
    "p = 0.02178\n",
    "omega = 1\n",
    "b = 1.5\n",
    "size = 1\n",
    "k = 1\n",
    "M = 500\n",
    "d = 1.12"
   ]
  },
  {
   "cell_type": "markdown",
   "metadata": {},
   "source": [
    "# Model definition: ABM"
   ]
  },
  {
   "cell_type": "code",
   "execution_count": 8,
   "metadata": {},
   "outputs": [],
   "source": [
    "# agent behaviors for buying, selling and holding based on the probability of trading p\n",
    "def buy_sell_hold(p):\n",
    "    assert p <= 0.5, \"p should be smaller than 0.5\"\n",
    "    p_b = p # buy/sell\n",
    "    p_s = p\n",
    "    p_h = 1 - 2*p # hold\n",
    "    dice = rnd.uniform(0, 1)\n",
    "    # if the dice rolls below p, roll a 50/50 dice to decide buy or sell\n",
    "    if dice <= 2*p:\n",
    "        if rnd.choice([0, 1]) == 0:\n",
    "            psi = 1\n",
    "        else:\n",
    "            psi = -1\n",
    "    else:\n",
    "        psi = 0\n",
    "    return psi"
   ]
  },
  {
   "cell_type": "code",
   "execution_count": 9,
   "metadata": {},
   "outputs": [],
   "source": [
    "class Agent:\n",
    "    def __init__(self, size) -> None:\n",
    "        self.size = size\n",
    "\n",
    "class Model:\n",
    "    def __init__(self, p: float, n: int, size: int, k: int, omega: int) -> None:\n",
    "        self.n = n\n",
    "        self.p = p\n",
    "        self.agents = [Agent(size) for i in range(n)]\n",
    "        self.daily_return = []\n",
    "        self.trading_volume = 0\n",
    "        self.k = k\n",
    "        self.omega = omega\n",
    "        self.daily_returns = []\n",
    "        self.count = 0\n",
    "\n",
    "        self.daily_trading_volumes = []\n",
    "\n",
    "        \n",
    "    def distribute_opinion_groups(self) -> None:\n",
    "\n",
    "        # number of opinion groups\n",
    "        if sum(self.daily_return) != 0:\n",
    "            c = (self.n // abs(sum(self.daily_return))) ** self.omega\n",
    "        else:\n",
    "            c = self.n\n",
    "            \n",
    "        # rounding down c to the nearest integer\n",
    "        c = math.floor(c)\n",
    "        \n",
    "        opinion_groups = [[] for i in range(c)]\n",
    "        opinion_agents = self.agents.copy()\n",
    "\n",
    "        # distribute agents evenly\n",
    "        for opinion_group in opinion_groups:\n",
    "            for i in range(round(self.n / c)):\n",
    "                if len(opinion_agents) > 0:\n",
    "                    i = rnd.choice([i for i in range(len(opinion_agents))])\n",
    "\n",
    "                    opinion_group.append(opinion_agents[i])\n",
    "                    del opinion_agents[i]\n",
    "                else:\n",
    "                    break\n",
    "                \n",
    "        return opinion_groups\n",
    "    \n",
    "\n",
    "    def step(self):\n",
    "        self.count += 1\n",
    "        opinion_groups = self.distribute_opinion_groups()\n",
    "        self.daily_return = []\n",
    "        self.trading_volume = 0\n",
    "\n",
    "        for opinion_group in opinion_groups:\n",
    "            psi = buy_sell_hold(self.p)\n",
    "            self.daily_return.append(psi * len(opinion_group))\n",
    "            self.trading_volume += abs(psi * len(opinion_group))\n",
    "    \n",
    "        self.daily_returns.append(sum(self.daily_return) * k)\n",
    "        self.daily_trading_volumes.append(self.trading_volume)\n",
    "\n",
    "        return self.count"
   ]
  },
  {
   "cell_type": "code",
   "execution_count": 10,
   "metadata": {},
   "outputs": [],
   "source": [
    "# model w noise\n",
    "class Model:\n",
    "    def __init__(self, p: float, n: int, size: int, k: int, omega: int, b: int) -> None:\n",
    "        self.n = n\n",
    "        self.p = p\n",
    "        self.agents = [Agent(size) for i in range(n)]\n",
    "        self.daily_return = []\n",
    "        self.trading_volume = 0\n",
    "        self.k = k\n",
    "        self.omega = omega\n",
    "        self.daily_returns = []\n",
    "        self.count = 0\n",
    "        self.b = b\n",
    "\n",
    "        self.daily_trading_volumes = []\n",
    "\n",
    "        \n",
    "    def distribute_opinion_groups(self) -> None:\n",
    "        if self.b == 0:\n",
    "        \n",
    "            # number of opinion groups\n",
    "            if sum(self.daily_return) != 0:\n",
    "                c = (self.n // abs(sum(self.daily_return))) ** self.omega\n",
    "            else:\n",
    "                c = self.n\n",
    "\n",
    "             # rounding down c to the nearest integer\n",
    "            c = math.floor(c)\n",
    "            \n",
    "        \n",
    "            opinion_groups = [[] for i in range(round(c))]\n",
    "            opinion_agents = self.agents.copy()\n",
    "\n",
    "            # distribute agents evenly\n",
    "            for opinion_group in opinion_groups:\n",
    "                for i in range(round(self.n / c)):\n",
    "                    if len(opinion_agents) > 0:\n",
    "                        i = rnd.choice([i for i in range(len(opinion_agents))])\n",
    "\n",
    "                        opinion_group.append(opinion_agents[i])\n",
    "                        del opinion_agents[i]\n",
    "                    else:\n",
    "                        break\n",
    "\n",
    "        else:\n",
    "            if sum(self.daily_return) != 0:\n",
    "                mean = (self.n // abs(sum(self.daily_return))) ** self.omega\n",
    "            else:\n",
    "                mean = self.n\n",
    "                \n",
    "            \n",
    "            c = np.random.normal(loc = mean, scale = mean * self.b)\n",
    "\n",
    "             # rounding down c to the nearest integer\n",
    "            c = math.floor(c)\n",
    "\n",
    "            opinion_groups = [[] for i in range(round(c))]\n",
    "            opinion_agents = self.agents.copy()\n",
    "\n",
    "            # distribute agents evenly\n",
    "            for opinion_group in opinion_groups:\n",
    "                for i in range(round(self.n / c)):\n",
    "                    if len(opinion_agents) > 0:\n",
    "                        i = rnd.choice([i for i in range(len(opinion_agents))])\n",
    "\n",
    "                        opinion_group.append(opinion_agents[i])\n",
    "                        del opinion_agents[i]\n",
    "                    else:\n",
    "                        break            \n",
    "                \n",
    "        return opinion_groups\n",
    "\n",
    "    def step(self):\n",
    "        self.count += 1\n",
    "        opinion_groups = self.distribute_opinion_groups()\n",
    "        self.daily_return = []\n",
    "        self.trading_volume = 0\n",
    "\n",
    "        for opinion_group in opinion_groups:\n",
    "            psi = buy_sell_hold(self.p)\n",
    "            self.daily_return.append(psi * len(opinion_group))\n",
    "            self.trading_volume += abs(psi * len(opinion_group))\n",
    "    \n",
    "        self.daily_returns.append(sum(self.daily_return) * k)\n",
    "        self.daily_trading_volumes.append(self.trading_volume)\n",
    "\n",
    "        return self.count"
   ]
  },
  {
   "cell_type": "markdown",
   "metadata": {},
   "source": [
    "# ABM test run"
   ]
  },
  {
   "cell_type": "code",
   "execution_count": 11,
   "metadata": {},
   "outputs": [],
   "source": [
    "# ABM simulation\n",
    "model_test = Model(p, n, size, k, omega, b)\n",
    "for i in range(t):\n",
    "    model_test.step()\n"
   ]
  },
  {
   "cell_type": "code",
   "execution_count": 12,
   "metadata": {},
   "outputs": [
    {
     "data": {
      "text/plain": [
       "(array([1.000e+00, 0.000e+00, 0.000e+00, 0.000e+00, 0.000e+00, 0.000e+00,\n",
       "        0.000e+00, 0.000e+00, 0.000e+00, 0.000e+00, 0.000e+00, 0.000e+00,\n",
       "        0.000e+00, 0.000e+00, 0.000e+00, 0.000e+00, 0.000e+00, 0.000e+00,\n",
       "        0.000e+00, 0.000e+00, 0.000e+00, 0.000e+00, 2.000e+00, 0.000e+00,\n",
       "        0.000e+00, 0.000e+00, 0.000e+00, 0.000e+00, 0.000e+00, 0.000e+00,\n",
       "        0.000e+00, 0.000e+00, 0.000e+00, 0.000e+00, 0.000e+00, 0.000e+00,\n",
       "        0.000e+00, 0.000e+00, 0.000e+00, 0.000e+00, 1.000e+00, 0.000e+00,\n",
       "        0.000e+00, 1.000e+00, 4.000e+00, 1.000e+00, 1.000e+00, 3.000e+00,\n",
       "        1.000e+00, 0.000e+00, 6.000e+00, 5.000e+00, 3.000e+00, 3.000e+00,\n",
       "        9.000e+00, 6.000e+00, 8.000e+00, 2.200e+01, 1.900e+01, 3.400e+01,\n",
       "        5.300e+01, 6.700e+01, 7.600e+01, 2.040e+02, 4.020e+02, 8.830e+02,\n",
       "        5.953e+03, 1.177e+03, 4.180e+02, 2.790e+02, 1.410e+02, 4.700e+01,\n",
       "        4.700e+01, 3.400e+01, 1.900e+01, 2.100e+01, 1.400e+01, 7.000e+00,\n",
       "        4.000e+00, 6.000e+00, 1.000e+00, 3.000e+00, 0.000e+00, 5.000e+00,\n",
       "        1.000e+00, 2.000e+00, 0.000e+00, 0.000e+00, 2.000e+00, 0.000e+00,\n",
       "        0.000e+00, 0.000e+00, 0.000e+00, 3.000e+00, 0.000e+00, 0.000e+00,\n",
       "        0.000e+00, 0.000e+00, 0.000e+00, 1.000e+00]),\n",
       " array([-512.  , -504.32, -496.64, -488.96, -481.28, -473.6 , -465.92,\n",
       "        -458.24, -450.56, -442.88, -435.2 , -427.52, -419.84, -412.16,\n",
       "        -404.48, -396.8 , -389.12, -381.44, -373.76, -366.08, -358.4 ,\n",
       "        -350.72, -343.04, -335.36, -327.68, -320.  , -312.32, -304.64,\n",
       "        -296.96, -289.28, -281.6 , -273.92, -266.24, -258.56, -250.88,\n",
       "        -243.2 , -235.52, -227.84, -220.16, -212.48, -204.8 , -197.12,\n",
       "        -189.44, -181.76, -174.08, -166.4 , -158.72, -151.04, -143.36,\n",
       "        -135.68, -128.  , -120.32, -112.64, -104.96,  -97.28,  -89.6 ,\n",
       "         -81.92,  -74.24,  -66.56,  -58.88,  -51.2 ,  -43.52,  -35.84,\n",
       "         -28.16,  -20.48,  -12.8 ,   -5.12,    2.56,   10.24,   17.92,\n",
       "          25.6 ,   33.28,   40.96,   48.64,   56.32,   64.  ,   71.68,\n",
       "          79.36,   87.04,   94.72,  102.4 ,  110.08,  117.76,  125.44,\n",
       "         133.12,  140.8 ,  148.48,  156.16,  163.84,  171.52,  179.2 ,\n",
       "         186.88,  194.56,  202.24,  209.92,  217.6 ,  225.28,  232.96,\n",
       "         240.64,  248.32,  256.  ]),\n",
       " <BarContainer object of 100 artists>)"
      ]
     },
     "execution_count": 12,
     "metadata": {},
     "output_type": "execute_result"
    },
    {
     "data": {
      "image/png": "[encoded data removed]",
      "text/plain": [
       "<Figure size 640x480 with 1 Axes>"
      ]
     },
     "metadata": {},
     "output_type": "display_data"
    }
   ],
   "source": [
    "plt.hist(model_test.daily_returns, bins = 100)"
   ]
  },
  {
   "cell_type": "code",
   "execution_count": 13,
   "metadata": {},
   "outputs": [],
   "source": [
    "# Nitai's variabe transformations:\n",
    "# converting data to array, taking asolute value, and normalizing with standard scaler to zero mean and unit variance, using sklearn StandardScaler. reference: https://scikit-learn.org/stable/modules/generated/sklearn.preprocessing.StandardScaler.html\n",
    "array_AMB_returns = np.array(model_test.daily_returns)\n",
    "abs_AMB_returns = np.abs(array_AMB_returns)\n",
    "# checking if abs transformation worked\n",
    "assert abs_AMB_returns.min() == 0\n",
    "scaler = StandardScaler()\n",
    "scaled_abs_ABM_returns = scaler.fit_transform(abs_AMB_returns.reshape(-1, 1))\n",
    "# checking if standard scaling worked\n",
    "assert abs_AMB_returns.max() > scaled_abs_ABM_returns.max()"
   ]
  },
  {
   "cell_type": "code",
   "execution_count": 14,
   "metadata": {},
   "outputs": [
    {
     "name": "stderr",
     "output_type": "stream",
     "text": [
      "C:\\Users\\Nitai Nijholt\\AppData\\Local\\Temp\\ipykernel_24044\\1685117646.py:1: RuntimeWarning:\n",
      "\n",
      "invalid value encountered in log\n",
      "\n"
     ]
    }
   ],
   "source": [
    "log_scaled_abs_AMB_returns = np.log(scaled_abs_ABM_returns)"
   ]
  },
  {
   "cell_type": "code",
   "execution_count": 15,
   "metadata": {},
   "outputs": [
    {
     "data": {
      "image/png": "[encoded data removed]",
      "text/plain": [
       "<Figure size 640x480 with 1 Axes>"
      ]
     },
     "metadata": {},
     "output_type": "display_data"
    },
    {
     "data": {
      "image/png": "[encoded data removed]",
      "text/plain": [
       "<Figure size 640x480 with 1 Axes>"
      ]
     },
     "metadata": {},
     "output_type": "display_data"
    }
   ],
   "source": [
    "# logarithmic bins\n",
    "bin=np.logspace(start=0, stop=np.log(5), num=t)\n",
    "\n",
    "#Yonas' code: normalising returns\n",
    "# returns = [(abs(day) - np.mean(model_test.daily_returns)) / np.std(model_test.daily_returns) for day in model_test.daily_returns]\n",
    "\n",
    "# Nitai's code: normalised returns\n",
    "returns = scaled_abs_ABM_returns\n",
    "\n",
    "\n",
    "plt.plot(model_test.daily_returns)\n",
    "plt.show()\n",
    "\n",
    "plt.figure(1)\n",
    "plt.hist(returns, bin, cumulative=-1, density=True, log=True, histtype='step')\n",
    "plt.title(\"Probability distribution of absolute returns (log-log)\")\n",
    "plt.xlabel(\"Absolute daily returns\")\n",
    "plt.ylabel(\"P(|absolute returns| > x)\")\n",
    "plt.gca().set_xscale(\"log\")\n",
    "plt.show()\n"
   ]
  },
  {
   "cell_type": "markdown",
   "metadata": {},
   "source": [
    "# Model definition: Stochastic model"
   ]
  },
  {
   "cell_type": "code",
   "execution_count": 16,
   "metadata": {},
   "outputs": [],
   "source": [
    "class Stochastic_Model:\n",
    "    def __init__(self, n: int, p: float, init: int, time_horizon: bool, M, d):\n",
    "        self.returns = [init]\n",
    "        self.n = n\n",
    "        self.p = p\n",
    "        self.time_horizon = time_horizon\n",
    "        self.M = M\n",
    "        self.d = d\n",
    "\n",
    "    def time_horizons(self):\n",
    "        time_horizons = []\n",
    "        alpha = []\n",
    "\n",
    "        # distribution of agents in different time horizons\n",
    "        # agents are allocated to each time horizon (with exponential decay as we go back in time), until we reach the limit M\n",
    "        # or until we reach the beginning of the simulation (if current timestep t < M)\n",
    "        for i in range(1, self.M + 1):\n",
    "            if len(self.returns) == 1:\n",
    "                value = (i ** -self.d) * abs(self.returns[-1])\n",
    "                alpha_val = (i ** -self.d)\n",
    "                time_horizons.append(value)\n",
    "                alpha.append(alpha_val)\n",
    "\n",
    "            elif i >= len(self.returns):\n",
    "                value = (i ** -self.d) * abs(self.returns[-1] - self.returns[0])\n",
    "                alpha_val = (i ** -self.d)\n",
    "                time_horizons.append(value)\n",
    "                alpha.append(alpha_val)\n",
    "\n",
    "            else:\n",
    "                value = (i ** -self.d) * abs(self.returns[-1] - self.returns[-1-i])\n",
    "                alpha_val = (i ** -self.d)\n",
    "                time_horizons.append(value)\n",
    "                alpha.append(alpha_val)\n",
    "\n",
    "        return sum(time_horizons) * (sum(alpha) ** -1)\n",
    "\n",
    "    def step(self):\n",
    "\n",
    "        # Agents only factor in the returns at the previous timestep\n",
    "        if self.time_horizon == False:\n",
    "            variance  = 2 * p * n * abs(self.returns[-1])\n",
    "            std = math.sqrt(variance)\n",
    "            value = std * np.random.normal(0.0, 1.0)\n",
    "            self.returns.append(value)\n",
    "        \n",
    "        # Agents look back M timesteps\n",
    "        if self.time_horizon == True:\n",
    "            horizons = self.time_horizons()\n",
    "            variance  = 2 * p * n * horizons\n",
    "            std = math.sqrt(variance)\n",
    "            value = std * np.random.normal(0.0, 1.0)\n",
    "            self.returns.append(value)  "
   ]
  },
  {
   "cell_type": "markdown",
   "metadata": {},
   "source": [
    "# Stochastic model test run"
   ]
  },
  {
   "cell_type": "code",
   "execution_count": 17,
   "metadata": {},
   "outputs": [],
   "source": [
    "# Stochastic simulation\n",
    "\n",
    "stochastic = Stochastic_Model(n, p, 10, time_horizon=False, M=10, d=1.12)\n",
    "stochastic_horizons = Stochastic_Model(n, p, 10, time_horizon=True, M=10, d=1.12)\n",
    "\n",
    "for i in range(t):\n",
    "    stochastic.step()\n",
    "    stochastic_horizons.step()"
   ]
  },
  {
   "cell_type": "code",
   "execution_count": 18,
   "metadata": {},
   "outputs": [],
   "source": [
    "# Nitai's variabe transformations:\n",
    "# changing datatype to array\n",
    "stochastic_returns_array = np.array(stochastic.returns)\n",
    "stochastic_returns_horizons_array = np.array(stochastic_horizons.returns)\n",
    "# taking absolute value\n",
    "stochastic_returns_abs = np.abs(stochastic_returns_array)\n",
    "stochastic_returns_horizons_abs = np.abs(stochastic_returns_horizons_array)\n",
    "# normalizing with standard scaler\n",
    "scaler = StandardScaler()\n",
    "scaled_stochastic_returns = scaler.fit_transform(stochastic_returns_abs.reshape(-1, 1))\n",
    "scaled_stochastic_returns_horizons = scaler.fit_transform(stochastic_returns_horizons_abs.reshape(-1, 1))\n"
   ]
  },
  {
   "cell_type": "code",
   "execution_count": 19,
   "metadata": {},
   "outputs": [
    {
     "data": {
      "image/png": "[encoded data removed]",
      "text/plain": [
       "<Figure size 640x480 with 1 Axes>"
      ]
     },
     "metadata": {},
     "output_type": "display_data"
    },
    {
     "data": {
      "image/png": "[encoded data removed]",
      "text/plain": [
       "<Figure size 640x480 with 1 Axes>"
      ]
     },
     "metadata": {},
     "output_type": "display_data"
    },
    {
     "name": "stdout",
     "output_type": "stream",
     "text": [
      "(199,)\n"
     ]
    },
    {
     "data": {
      "image/png": "[encoded data removed]",
      "text/plain": [
       "<Figure size 640x480 with 1 Axes>"
      ]
     },
     "metadata": {},
     "output_type": "display_data"
    }
   ],
   "source": [
    "#stochastic simulation return plots\n",
    "plt.plot(range(t + 1), stochastic.returns)\n",
    "plt.show()\n",
    "\n",
    "plt.plot(range(t+1), stochastic_horizons.returns, color='orange')\n",
    "plt.show()\n",
    "\n",
    "# Yona's code: normalizing returns\n",
    "# abs_returns = [(abs(i) - np.mean(stochastic.returns)) / (np.std(stochastic.returns)) for i in stochastic.returns]\n",
    "# abs_returns_horizons = [(abs(i) - np.mean(abs_returns)) / (np.std(stochastic.returns)) for i in stochastic_horizons.returns]\n",
    "\n",
    "# Nitai's code: returns normalized previously\n",
    "abs_returns = scaled_stochastic_returns\n",
    "abs_returns_horizons = scaled_stochastic_returns_horizons\n",
    "\n",
    "\n",
    "bin=np.logspace(start=0, stop=np.log(10), num=200)\n",
    "\n",
    "plt.hist(abs_returns, bins=bin, cumulative=-1, density=True, log=True, histtype='step')\n",
    "plt.hist(abs_returns_horizons, bin, cumulative=-1, density=True, log=True, histtype='step', color = 'orange')\n",
    "bins_heights = plt.hist(abs_returns_horizons, bin, cumulative=-1, density=True, log=True, histtype='step', color = 'orange')[0]\n",
    "print(bins_heights.shape)\n",
    "plt.gca().set_xscale(\"log\")\n",
    "plt.show()"
   ]
  },
  {
   "cell_type": "code",
   "execution_count": null,
   "metadata": {},
   "outputs": [],
   "source": []
  },
  {
   "cell_type": "markdown",
   "metadata": {},
   "source": [
    "# Simulation functions"
   ]
  },
  {
   "cell_type": "code",
   "execution_count": 20,
   "metadata": {},
   "outputs": [],
   "source": [
    "# (self, n: int, p: float, init: int, time_horizon: bool, M, d)"
   ]
  },
  {
   "cell_type": "code",
   "execution_count": 21,
   "metadata": {},
   "outputs": [],
   "source": [
    "def run_ABM(p, n, size, k, omega, b, t, runs):\n",
    "    ''' Runs the ABM model for a given number of runs and time steps. Returns a list of lists of daily returns and a list of lists of trading volume.'''\n",
    "    ABM_sim_results_returns = []\n",
    "    ABM_sim_results_volume = []\n",
    "    for run in range(runs):\n",
    "        model = Model(p, n, size, k, omega, b)\n",
    "        for i in range(t):\n",
    "            model.step()\n",
    "        ABM_sim_results_returns.append(model.daily_returns)\n",
    "        ABM_sim_results_volume.append(model.trading_volume)    \n",
    "    ABM_sim_results_returns_array = np.array(ABM_sim_results_returns)\n",
    "    ABM_sim_results_volume_array = np.array(ABM_sim_results_volume)\n",
    "    return ABM_sim_results_returns_array, ABM_sim_results_volume_array\n",
    "        "
   ]
  },
  {
   "cell_type": "code",
   "execution_count": 35,
   "metadata": {},
   "outputs": [],
   "source": [
    "def run_Stochastic_Model(n: int, p: float, init: int, time_horizon: bool, M, d, t, runs):\n",
    "    ''' Runs the stochastic model for a given number of runs and time steps, outputs a list of lists of daily returns and a list of lists of trading volume.'''\n",
    "    Stochastic_Model_sim_results_returns = []\n",
    "    Stochastic_Model_sim_results_volume = []\n",
    "    for run in range(runs):\n",
    "        model = Stochastic_Model(n=n, p=p, init=10, time_horizon=time_horizon, M=M, d=d)\n",
    "        # model = Stochastic_Model(n, p, init, time_horizon, M, d)\n",
    "        for i in range(t):\n",
    "            model.step()\n",
    "        Stochastic_Model_sim_results_returns.append(model.returns)\n",
    "        Stochastic_Model_sim_results_volume.append(model.trading_volume)\n",
    "    Stochastic_Model_sim_results_return_array = np.array(Stochastic_Model_sim_results_returns)\n",
    "    Stochastic_Model_sim_results_volume_array = np.array(Stochastic_Model_sim_results_volume)\n",
    "    return Stochastic_Model_sim_results_return_array, Stochastic_Model_sim_results_volume_array"
   ]
  },
  {
   "cell_type": "markdown",
   "metadata": {},
   "source": [
    "# Running multiple ABM simulation runs:"
   ]
  },
  {
   "cell_type": "code",
   "execution_count": 23,
   "metadata": {},
   "outputs": [],
   "source": [
    "results_ABM_10_runs = run_ABM(p, n, size, k, omega, b, t, 10)"
   ]
  },
  {
   "cell_type": "markdown",
   "metadata": {},
   "source": [
    "### Returns ABM model across 10 runs:"
   ]
  },
  {
   "cell_type": "code",
   "execution_count": 32,
   "metadata": {},
   "outputs": [
    {
     "data": {
      "image/png": "[encoded data removed]",
      "text/plain": [
       "<Figure size 640x480 with 1 Axes>"
      ]
     },
     "metadata": {},
     "output_type": "display_data"
    },
    {
     "data": {
      "image/png": "[encoded data removed]",
      "text/plain": [
       "<Figure size 640x480 with 1 Axes>"
      ]
     },
     "metadata": {},
     "output_type": "display_data"
    },
    {
     "data": {
      "image/png": "[encoded data removed]",
      "text/plain": [
       "<Figure size 640x480 with 1 Axes>"
      ]
     },
     "metadata": {},
     "output_type": "display_data"
    },
    {
     "data": {
      "image/png": "[encoded data removed]",
      "text/plain": [
       "<Figure size 640x480 with 1 Axes>"
      ]
     },
     "metadata": {},
     "output_type": "display_data"
    },
    {
     "data": {
      "image/png": "[encoded data removed]",
      "text/plain": [
       "<Figure size 640x480 with 1 Axes>"
      ]
     },
     "metadata": {},
     "output_type": "display_data"
    },
    {
     "data": {
      "image/png": "[encoded data removed]",
      "text/plain": [
       "<Figure size 640x480 with 1 Axes>"
      ]
     },
     "metadata": {},
     "output_type": "display_data"
    },
    {
     "data": {
      "image/png": "[encoded data removed]",
      "text/plain": [
       "<Figure size 640x480 with 1 Axes>"
      ]
     },
     "metadata": {},
     "output_type": "display_data"
    },
    {
     "data": {
      "image/png": "[encoded data removed]",
      "text/plain": [
       "<Figure size 640x480 with 1 Axes>"
      ]
     },
     "metadata": {},
     "output_type": "display_data"
    },
    {
     "data": {
      "image/png": "[encoded data removed]",
      "text/plain": [
       "<Figure size 640x480 with 1 Axes>"
      ]
     },
     "metadata": {},
     "output_type": "display_data"
    },
    {
     "data": {
      "image/png": "[encoded data removed]",
      "text/plain": [
       "<Figure size 640x480 with 1 Axes>"
      ]
     },
     "metadata": {},
     "output_type": "display_data"
    }
   ],
   "source": [
    "for daily_return_results in results_ABM_10_runs[0]:\n",
    "    plt.hist(daily_return_results, bins = 1000, density = True, cumulative = -1, histtype = 'step')\n",
    "    plt.show()"
   ]
  },
  {
   "cell_type": "markdown",
   "metadata": {},
   "source": [
    "### VolumeABM model across 10 runs:"
   ]
  },
  {
   "cell_type": "code",
   "execution_count": 31,
   "metadata": {},
   "outputs": [
    {
     "data": {
      "image/png": "[encoded data removed]",
      "text/plain": [
       "<Figure size 640x480 with 1 Axes>"
      ]
     },
     "metadata": {},
     "output_type": "display_data"
    },
    {
     "data": {
      "image/png": "[encoded data removed]",
      "text/plain": [
       "<Figure size 640x480 with 1 Axes>"
      ]
     },
     "metadata": {},
     "output_type": "display_data"
    },
    {
     "data": {
      "image/png": "[encoded data removed]",
      "text/plain": [
       "<Figure size 640x480 with 1 Axes>"
      ]
     },
     "metadata": {},
     "output_type": "display_data"
    },
    {
     "data": {
      "image/png": "[encoded data removed]",
      "text/plain": [
       "<Figure size 640x480 with 1 Axes>"
      ]
     },
     "metadata": {},
     "output_type": "display_data"
    },
    {
     "data": {
      "image/png": "[encoded data removed]",
      "text/plain": [
       "<Figure size 640x480 with 1 Axes>"
      ]
     },
     "metadata": {},
     "output_type": "display_data"
    },
    {
     "data": {
      "image/png": "[encoded data removed]",
      "text/plain": [
       "<Figure size 640x480 with 1 Axes>"
      ]
     },
     "metadata": {},
     "output_type": "display_data"
    },
    {
     "data": {
      "image/png": "[encoded data removed]",
      "text/plain": [
       "<Figure size 640x480 with 1 Axes>"
      ]
     },
     "metadata": {},
     "output_type": "display_data"
    },
    {
     "data": {
      "image/png": "[encoded data removed]",
      "text/plain": [
       "<Figure size 640x480 with 1 Axes>"
      ]
     },
     "metadata": {},
     "output_type": "display_data"
    },
    {
     "data": {
      "image/png": "[encoded data removed]",
      "text/plain": [
       "<Figure size 640x480 with 1 Axes>"
      ]
     },
     "metadata": {},
     "output_type": "display_data"
    },
    {
     "data": {
      "image/png": "[encoded data removed]",
      "text/plain": [
       "<Figure size 640x480 with 1 Axes>"
      ]
     },
     "metadata": {},
     "output_type": "display_data"
    }
   ],
   "source": [
    "for daily_volume_results in results_ABM_10_runs[1]:\n",
    "    plt.hist(daily_return_results, bins = 1000, density = True, cumulative = -1, histtype = 'step')\n",
    "    plt.show()"
   ]
  },
  {
   "cell_type": "markdown",
   "metadata": {},
   "source": [
    "### Returns Stochastic Model accross 10 runs"
   ]
  },
  {
   "cell_type": "code",
   "execution_count": 34,
   "metadata": {},
   "outputs": [
    {
     "ename": "AttributeError",
     "evalue": "'Stochastic_Model' object has no attribute 'daily_returns'",
     "output_type": "error",
     "traceback": [
      "\u001b[1;31m---------------------------------------------------------------------------\u001b[0m",
      "\u001b[1;31mAttributeError\u001b[0m                            Traceback (most recent call last)",
      "Cell \u001b[1;32mIn[34], line 1\u001b[0m\n\u001b[1;32m----> 1\u001b[0m results_data_Stoch_horizons_10_runs \u001b[39m=\u001b[39m run_Stochastic_Model(n\u001b[39m=\u001b[39;49mn, p\u001b[39m=\u001b[39;49mp, init\u001b[39m=\u001b[39;49m\u001b[39m10\u001b[39;49m, time_horizon\u001b[39m=\u001b[39;49m\u001b[39mTrue\u001b[39;49;00m, M\u001b[39m=\u001b[39;49mM, d\u001b[39m=\u001b[39;49md,t\u001b[39m=\u001b[39;49m\u001b[39m100\u001b[39;49m, runs\u001b[39m=\u001b[39;49m\u001b[39m10\u001b[39;49m)\n",
      "Cell \u001b[1;32mIn[22], line 10\u001b[0m, in \u001b[0;36mrun_Stochastic_Model\u001b[1;34m(n, p, init, time_horizon, M, d, t, runs)\u001b[0m\n\u001b[0;32m      8\u001b[0m     \u001b[39mfor\u001b[39;00m i \u001b[39min\u001b[39;00m \u001b[39mrange\u001b[39m(t):\n\u001b[0;32m      9\u001b[0m         model\u001b[39m.\u001b[39mstep()\n\u001b[1;32m---> 10\u001b[0m     Stochastic_Model_sim_results_returns\u001b[39m.\u001b[39mappend(model\u001b[39m.\u001b[39;49mdaily_returns)\n\u001b[0;32m     11\u001b[0m     Stochastic_Model_sim_results_volume\u001b[39m.\u001b[39mappend(model\u001b[39m.\u001b[39mtrading_volume)\n\u001b[0;32m     12\u001b[0m Stochastic_Model_sim_results_return_array \u001b[39m=\u001b[39m np\u001b[39m.\u001b[39marray(Stochastic_Model_sim_results_returns)\n",
      "\u001b[1;31mAttributeError\u001b[0m: 'Stochastic_Model' object has no attribute 'daily_returns'"
     ]
    }
   ],
   "source": [
    "results_data_Stoch_horizons_10_runs = run_Stochastic_Model(n=n, p=p, init=10, time_horizon=True, M=M, d=d,t=100, runs=10)"
   ]
  },
  {
   "cell_type": "code",
   "execution_count": 33,
   "metadata": {},
   "outputs": [],
   "source": [
    "# Returns Stochastic Model accross 10 runs"
   ]
  },
  {
   "cell_type": "code",
   "execution_count": null,
   "metadata": {},
   "outputs": [],
   "source": []
  },
  {
   "cell_type": "code",
   "execution_count": 26,
   "metadata": {},
   "outputs": [
    {
     "data": {
      "text/plain": [
       "array([[  0,  -8,   0, ..., -30, -28, -24],\n",
       "       [  0,   0, -10, ...,  38,   0,   0],\n",
       "       [  0,  -7,   0, ...,  -8,   0,   0],\n",
       "       ...,\n",
       "       [  0,   0,   3, ...,   0,   0,   7],\n",
       "       [  0,   0,   4, ..., -24, -57,   0],\n",
       "       [  0,   5,   0, ...,   0,   0,   0]])"
      ]
     },
     "execution_count": 26,
     "metadata": {},
     "output_type": "execute_result"
    }
   ],
   "source": [
    "results_ABM_10_runs[0]"
   ]
  },
  {
   "cell_type": "code",
   "execution_count": 24,
   "metadata": {},
   "outputs": [
    {
     "ename": "TypeError",
     "evalue": "run_Stochastic_Model() got an unexpected keyword argument 'mode'",
     "output_type": "error",
     "traceback": [
      "\u001b[1;31m---------------------------------------------------------------------------\u001b[0m",
      "\u001b[1;31mTypeError\u001b[0m                                 Traceback (most recent call last)",
      "Cell \u001b[1;32mIn[24], line 1\u001b[0m\n\u001b[1;32m----> 1\u001b[0m return_data_Stoch_horizons_10_runs \u001b[39m=\u001b[39m run_Stochastic_Model(n\u001b[39m=\u001b[39;49mn, p\u001b[39m=\u001b[39;49mp, init\u001b[39m=\u001b[39;49m\u001b[39m10\u001b[39;49m, time_horizon\u001b[39m=\u001b[39;49m\u001b[39mTrue\u001b[39;49;00m, M\u001b[39m=\u001b[39;49mM, d\u001b[39m=\u001b[39;49md,t\u001b[39m=\u001b[39;49m\u001b[39m100\u001b[39;49m, runs\u001b[39m=\u001b[39;49m\u001b[39m10\u001b[39;49m,mode \u001b[39m=\u001b[39;49m \u001b[39m'\u001b[39;49m\u001b[39mreturns\u001b[39;49m\u001b[39m'\u001b[39;49m)\n",
      "\u001b[1;31mTypeError\u001b[0m: run_Stochastic_Model() got an unexpected keyword argument 'mode'"
     ]
    }
   ],
   "source": [
    "return_data_Stoch_horizons_10_runs = run_Stochastic_Model(n=n, p=p, init=10, time_horizon=True, M=M, d=d,t=100, runs=10,mode = 'returns')\n"
   ]
  },
  {
   "cell_type": "code",
   "execution_count": null,
   "metadata": {},
   "outputs": [],
   "source": [
    "volume_data_Stoch_horizons_10_runs = run_Stochastic_Model(n=n, p=p, init=10, time_horizon=True, M=M, d=d,t=100, runs=10,mode = 'volume')"
   ]
  },
  {
   "cell_type": "code",
   "execution_count": null,
   "metadata": {},
   "outputs": [],
   "source": []
  },
  {
   "cell_type": "code",
   "execution_count": null,
   "metadata": {},
   "outputs": [
    {
     "ename": "KeyboardInterrupt",
     "evalue": "",
     "output_type": "error",
     "traceback": [
      "\u001b[1;31m---------------------------------------------------------------------------\u001b[0m",
      "\u001b[1;31mKeyboardInterrupt\u001b[0m                         Traceback (most recent call last)",
      "Cell \u001b[1;32mIn[147], line 2\u001b[0m\n\u001b[0;32m      1\u001b[0m \u001b[39mfor\u001b[39;00m result \u001b[39min\u001b[39;00m return_data_Stoch_horizons_10_runs:\n\u001b[1;32m----> 2\u001b[0m     plt\u001b[39m.\u001b[39;49mhist(return_data_Stoch_horizons_10_runs)\n",
      "File \u001b[1;32m~\\AppData\\Local\\Packages\\PythonSoftwareFoundation.Python.3.10_qbz5n2kfra8p0\\LocalCache\\local-packages\\Python310\\site-packages\\matplotlib\\pyplot.py:2573\u001b[0m, in \u001b[0;36mhist\u001b[1;34m(x, bins, range, density, weights, cumulative, bottom, histtype, align, orientation, rwidth, log, color, label, stacked, data, **kwargs)\u001b[0m\n\u001b[0;32m   2567\u001b[0m \u001b[39m@_copy_docstring_and_deprecators\u001b[39m(Axes\u001b[39m.\u001b[39mhist)\n\u001b[0;32m   2568\u001b[0m \u001b[39mdef\u001b[39;00m \u001b[39mhist\u001b[39m(\n\u001b[0;32m   2569\u001b[0m         x, bins\u001b[39m=\u001b[39m\u001b[39mNone\u001b[39;00m, \u001b[39mrange\u001b[39m\u001b[39m=\u001b[39m\u001b[39mNone\u001b[39;00m, density\u001b[39m=\u001b[39m\u001b[39mFalse\u001b[39;00m, weights\u001b[39m=\u001b[39m\u001b[39mNone\u001b[39;00m,\n\u001b[0;32m   2570\u001b[0m         cumulative\u001b[39m=\u001b[39m\u001b[39mFalse\u001b[39;00m, bottom\u001b[39m=\u001b[39m\u001b[39mNone\u001b[39;00m, histtype\u001b[39m=\u001b[39m\u001b[39m'\u001b[39m\u001b[39mbar\u001b[39m\u001b[39m'\u001b[39m, align\u001b[39m=\u001b[39m\u001b[39m'\u001b[39m\u001b[39mmid\u001b[39m\u001b[39m'\u001b[39m,\n\u001b[0;32m   2571\u001b[0m         orientation\u001b[39m=\u001b[39m\u001b[39m'\u001b[39m\u001b[39mvertical\u001b[39m\u001b[39m'\u001b[39m, rwidth\u001b[39m=\u001b[39m\u001b[39mNone\u001b[39;00m, log\u001b[39m=\u001b[39m\u001b[39mFalse\u001b[39;00m, color\u001b[39m=\u001b[39m\u001b[39mNone\u001b[39;00m,\n\u001b[0;32m   2572\u001b[0m         label\u001b[39m=\u001b[39m\u001b[39mNone\u001b[39;00m, stacked\u001b[39m=\u001b[39m\u001b[39mFalse\u001b[39;00m, \u001b[39m*\u001b[39m, data\u001b[39m=\u001b[39m\u001b[39mNone\u001b[39;00m, \u001b[39m*\u001b[39m\u001b[39m*\u001b[39mkwargs):\n\u001b[1;32m-> 2573\u001b[0m     \u001b[39mreturn\u001b[39;00m gca()\u001b[39m.\u001b[39mhist(\n\u001b[0;32m   2574\u001b[0m         x, bins\u001b[39m=\u001b[39mbins, \u001b[39mrange\u001b[39m\u001b[39m=\u001b[39m\u001b[39mrange\u001b[39m, density\u001b[39m=\u001b[39mdensity, weights\u001b[39m=\u001b[39mweights,\n\u001b[0;32m   2575\u001b[0m         cumulative\u001b[39m=\u001b[39mcumulative, bottom\u001b[39m=\u001b[39mbottom, histtype\u001b[39m=\u001b[39mhisttype,\n\u001b[0;32m   2576\u001b[0m         align\u001b[39m=\u001b[39malign, orientation\u001b[39m=\u001b[39morientation, rwidth\u001b[39m=\u001b[39mrwidth, log\u001b[39m=\u001b[39mlog,\n\u001b[0;32m   2577\u001b[0m         color\u001b[39m=\u001b[39mcolor, label\u001b[39m=\u001b[39mlabel, stacked\u001b[39m=\u001b[39mstacked,\n\u001b[0;32m   2578\u001b[0m         \u001b[39m*\u001b[39m\u001b[39m*\u001b[39m({\u001b[39m\"\u001b[39m\u001b[39mdata\u001b[39m\u001b[39m\"\u001b[39m: data} \u001b[39mif\u001b[39;00m data \u001b[39mis\u001b[39;00m \u001b[39mnot\u001b[39;00m \u001b[39mNone\u001b[39;00m \u001b[39melse\u001b[39;00m {}), \u001b[39m*\u001b[39m\u001b[39m*\u001b[39mkwargs)\n",
      "File \u001b[1;32m~\\AppData\\Local\\Packages\\PythonSoftwareFoundation.Python.3.10_qbz5n2kfra8p0\\LocalCache\\local-packages\\Python310\\site-packages\\matplotlib\\__init__.py:1423\u001b[0m, in \u001b[0;36m_preprocess_data.<locals>.inner\u001b[1;34m(ax, data, *args, **kwargs)\u001b[0m\n\u001b[0;32m   1420\u001b[0m \u001b[39m@functools\u001b[39m\u001b[39m.\u001b[39mwraps(func)\n\u001b[0;32m   1421\u001b[0m \u001b[39mdef\u001b[39;00m \u001b[39minner\u001b[39m(ax, \u001b[39m*\u001b[39margs, data\u001b[39m=\u001b[39m\u001b[39mNone\u001b[39;00m, \u001b[39m*\u001b[39m\u001b[39m*\u001b[39mkwargs):\n\u001b[0;32m   1422\u001b[0m     \u001b[39mif\u001b[39;00m data \u001b[39mis\u001b[39;00m \u001b[39mNone\u001b[39;00m:\n\u001b[1;32m-> 1423\u001b[0m         \u001b[39mreturn\u001b[39;00m func(ax, \u001b[39m*\u001b[39m\u001b[39mmap\u001b[39m(sanitize_sequence, args), \u001b[39m*\u001b[39m\u001b[39m*\u001b[39mkwargs)\n\u001b[0;32m   1425\u001b[0m     bound \u001b[39m=\u001b[39m new_sig\u001b[39m.\u001b[39mbind(ax, \u001b[39m*\u001b[39margs, \u001b[39m*\u001b[39m\u001b[39m*\u001b[39mkwargs)\n\u001b[0;32m   1426\u001b[0m     auto_label \u001b[39m=\u001b[39m (bound\u001b[39m.\u001b[39marguments\u001b[39m.\u001b[39mget(label_namer)\n\u001b[0;32m   1427\u001b[0m                   \u001b[39mor\u001b[39;00m bound\u001b[39m.\u001b[39mkwargs\u001b[39m.\u001b[39mget(label_namer))\n",
      "File \u001b[1;32m~\\AppData\\Local\\Packages\\PythonSoftwareFoundation.Python.3.10_qbz5n2kfra8p0\\LocalCache\\local-packages\\Python310\\site-packages\\matplotlib\\axes\\_axes.py:6797\u001b[0m, in \u001b[0;36mAxes.hist\u001b[1;34m(self, x, bins, range, density, weights, cumulative, bottom, histtype, align, orientation, rwidth, log, color, label, stacked, **kwargs)\u001b[0m\n\u001b[0;32m   6795\u001b[0m \u001b[39melse\u001b[39;00m:\n\u001b[0;32m   6796\u001b[0m     height \u001b[39m=\u001b[39m m\n\u001b[1;32m-> 6797\u001b[0m bars \u001b[39m=\u001b[39m _barfunc(bins[:\u001b[39m-\u001b[39m\u001b[39m1\u001b[39m]\u001b[39m+\u001b[39mboffset, height, width,\n\u001b[0;32m   6798\u001b[0m                 align\u001b[39m=\u001b[39m\u001b[39m'\u001b[39m\u001b[39mcenter\u001b[39m\u001b[39m'\u001b[39m, log\u001b[39m=\u001b[39mlog,\n\u001b[0;32m   6799\u001b[0m                 color\u001b[39m=\u001b[39mc, \u001b[39m*\u001b[39m\u001b[39m*\u001b[39m{bottom_kwarg: bottom})\n\u001b[0;32m   6800\u001b[0m patches\u001b[39m.\u001b[39mappend(bars)\n\u001b[0;32m   6801\u001b[0m \u001b[39mif\u001b[39;00m stacked:\n",
      "File \u001b[1;32m~\\AppData\\Local\\Packages\\PythonSoftwareFoundation.Python.3.10_qbz5n2kfra8p0\\LocalCache\\local-packages\\Python310\\site-packages\\matplotlib\\__init__.py:1423\u001b[0m, in \u001b[0;36m_preprocess_data.<locals>.inner\u001b[1;34m(ax, data, *args, **kwargs)\u001b[0m\n\u001b[0;32m   1420\u001b[0m \u001b[39m@functools\u001b[39m\u001b[39m.\u001b[39mwraps(func)\n\u001b[0;32m   1421\u001b[0m \u001b[39mdef\u001b[39;00m \u001b[39minner\u001b[39m(ax, \u001b[39m*\u001b[39margs, data\u001b[39m=\u001b[39m\u001b[39mNone\u001b[39;00m, \u001b[39m*\u001b[39m\u001b[39m*\u001b[39mkwargs):\n\u001b[0;32m   1422\u001b[0m     \u001b[39mif\u001b[39;00m data \u001b[39mis\u001b[39;00m \u001b[39mNone\u001b[39;00m:\n\u001b[1;32m-> 1423\u001b[0m         \u001b[39mreturn\u001b[39;00m func(ax, \u001b[39m*\u001b[39m\u001b[39mmap\u001b[39m(sanitize_sequence, args), \u001b[39m*\u001b[39m\u001b[39m*\u001b[39mkwargs)\n\u001b[0;32m   1425\u001b[0m     bound \u001b[39m=\u001b[39m new_sig\u001b[39m.\u001b[39mbind(ax, \u001b[39m*\u001b[39margs, \u001b[39m*\u001b[39m\u001b[39m*\u001b[39mkwargs)\n\u001b[0;32m   1426\u001b[0m     auto_label \u001b[39m=\u001b[39m (bound\u001b[39m.\u001b[39marguments\u001b[39m.\u001b[39mget(label_namer)\n\u001b[0;32m   1427\u001b[0m                   \u001b[39mor\u001b[39;00m bound\u001b[39m.\u001b[39mkwargs\u001b[39m.\u001b[39mget(label_namer))\n",
      "File \u001b[1;32m~\\AppData\\Local\\Packages\\PythonSoftwareFoundation.Python.3.10_qbz5n2kfra8p0\\LocalCache\\local-packages\\Python310\\site-packages\\matplotlib\\axes\\_axes.py:2468\u001b[0m, in \u001b[0;36mAxes.bar\u001b[1;34m(self, x, height, width, bottom, align, **kwargs)\u001b[0m\n\u001b[0;32m   2466\u001b[0m     \u001b[39melse\u001b[39;00m:  \u001b[39m# horizontal\u001b[39;00m\n\u001b[0;32m   2467\u001b[0m         r\u001b[39m.\u001b[39msticky_edges\u001b[39m.\u001b[39mx\u001b[39m.\u001b[39mappend(l)\n\u001b[1;32m-> 2468\u001b[0m     \u001b[39mself\u001b[39;49m\u001b[39m.\u001b[39;49madd_patch(r)\n\u001b[0;32m   2469\u001b[0m     patches\u001b[39m.\u001b[39mappend(r)\n\u001b[0;32m   2471\u001b[0m \u001b[39mif\u001b[39;00m xerr \u001b[39mis\u001b[39;00m \u001b[39mnot\u001b[39;00m \u001b[39mNone\u001b[39;00m \u001b[39mor\u001b[39;00m yerr \u001b[39mis\u001b[39;00m \u001b[39mnot\u001b[39;00m \u001b[39mNone\u001b[39;00m:\n",
      "File \u001b[1;32m~\\AppData\\Local\\Packages\\PythonSoftwareFoundation.Python.3.10_qbz5n2kfra8p0\\LocalCache\\local-packages\\Python310\\site-packages\\matplotlib\\axes\\_base.py:2415\u001b[0m, in \u001b[0;36m_AxesBase.add_patch\u001b[1;34m(self, p)\u001b[0m\n\u001b[0;32m   2413\u001b[0m \u001b[39mif\u001b[39;00m p\u001b[39m.\u001b[39mget_clip_path() \u001b[39mis\u001b[39;00m \u001b[39mNone\u001b[39;00m:\n\u001b[0;32m   2414\u001b[0m     p\u001b[39m.\u001b[39mset_clip_path(\u001b[39mself\u001b[39m\u001b[39m.\u001b[39mpatch)\n\u001b[1;32m-> 2415\u001b[0m \u001b[39mself\u001b[39;49m\u001b[39m.\u001b[39;49m_update_patch_limits(p)\n\u001b[0;32m   2416\u001b[0m \u001b[39mself\u001b[39m\u001b[39m.\u001b[39m_children\u001b[39m.\u001b[39mappend(p)\n\u001b[0;32m   2417\u001b[0m p\u001b[39m.\u001b[39m_remove_method \u001b[39m=\u001b[39m \u001b[39mself\u001b[39m\u001b[39m.\u001b[39m_children\u001b[39m.\u001b[39mremove\n",
      "File \u001b[1;32m~\\AppData\\Local\\Packages\\PythonSoftwareFoundation.Python.3.10_qbz5n2kfra8p0\\LocalCache\\local-packages\\Python310\\site-packages\\matplotlib\\axes\\_base.py:2457\u001b[0m, in \u001b[0;36m_AxesBase._update_patch_limits\u001b[1;34m(self, patch)\u001b[0m\n\u001b[0;32m   2455\u001b[0m         updatey \u001b[39m=\u001b[39m \u001b[39mFalse\u001b[39;00m\n\u001b[0;32m   2456\u001b[0m trf_to_data \u001b[39m=\u001b[39m patch_trf \u001b[39m-\u001b[39m \u001b[39mself\u001b[39m\u001b[39m.\u001b[39mtransData\n\u001b[1;32m-> 2457\u001b[0m xys \u001b[39m=\u001b[39m trf_to_data\u001b[39m.\u001b[39;49mtransform(vertices)\n\u001b[0;32m   2458\u001b[0m \u001b[39mself\u001b[39m\u001b[39m.\u001b[39mupdate_datalim(xys, updatex\u001b[39m=\u001b[39mupdatex, updatey\u001b[39m=\u001b[39mupdatey)\n",
      "File \u001b[1;32m~\\AppData\\Local\\Packages\\PythonSoftwareFoundation.Python.3.10_qbz5n2kfra8p0\\LocalCache\\local-packages\\Python310\\site-packages\\matplotlib\\transforms.py:1490\u001b[0m, in \u001b[0;36mTransform.transform\u001b[1;34m(self, values)\u001b[0m\n\u001b[0;32m   1487\u001b[0m values \u001b[39m=\u001b[39m values\u001b[39m.\u001b[39mreshape((\u001b[39m-\u001b[39m\u001b[39m1\u001b[39m, \u001b[39mself\u001b[39m\u001b[39m.\u001b[39minput_dims))\n\u001b[0;32m   1489\u001b[0m \u001b[39m# Transform the values\u001b[39;00m\n\u001b[1;32m-> 1490\u001b[0m res \u001b[39m=\u001b[39m \u001b[39mself\u001b[39;49m\u001b[39m.\u001b[39;49mtransform_affine(\u001b[39mself\u001b[39;49m\u001b[39m.\u001b[39;49mtransform_non_affine(values))\n\u001b[0;32m   1492\u001b[0m \u001b[39m# Convert the result back to the shape of the input values.\u001b[39;00m\n\u001b[0;32m   1493\u001b[0m \u001b[39mif\u001b[39;00m ndim \u001b[39m==\u001b[39m \u001b[39m0\u001b[39m:\n",
      "File \u001b[1;32m~\\AppData\\Local\\Packages\\PythonSoftwareFoundation.Python.3.10_qbz5n2kfra8p0\\LocalCache\\local-packages\\Python310\\site-packages\\matplotlib\\transforms.py:2420\u001b[0m, in \u001b[0;36mCompositeGenericTransform.transform_affine\u001b[1;34m(self, points)\u001b[0m\n\u001b[0;32m   2418\u001b[0m \u001b[39mdef\u001b[39;00m \u001b[39mtransform_affine\u001b[39m(\u001b[39mself\u001b[39m, points):\n\u001b[0;32m   2419\u001b[0m     \u001b[39m# docstring inherited\u001b[39;00m\n\u001b[1;32m-> 2420\u001b[0m     \u001b[39mreturn\u001b[39;00m \u001b[39mself\u001b[39;49m\u001b[39m.\u001b[39;49mget_affine()\u001b[39m.\u001b[39mtransform(points)\n",
      "File \u001b[1;32m~\\AppData\\Local\\Packages\\PythonSoftwareFoundation.Python.3.10_qbz5n2kfra8p0\\LocalCache\\local-packages\\Python310\\site-packages\\matplotlib\\transforms.py:2446\u001b[0m, in \u001b[0;36mCompositeGenericTransform.get_affine\u001b[1;34m(self)\u001b[0m\n\u001b[0;32m   2444\u001b[0m     \u001b[39mreturn\u001b[39;00m \u001b[39mself\u001b[39m\u001b[39m.\u001b[39m_b\u001b[39m.\u001b[39mget_affine()\n\u001b[0;32m   2445\u001b[0m \u001b[39melse\u001b[39;00m:\n\u001b[1;32m-> 2446\u001b[0m     \u001b[39mreturn\u001b[39;00m Affine2D(np\u001b[39m.\u001b[39;49mdot(\u001b[39mself\u001b[39;49m\u001b[39m.\u001b[39;49m_b\u001b[39m.\u001b[39;49mget_affine()\u001b[39m.\u001b[39;49mget_matrix(),\n\u001b[0;32m   2447\u001b[0m                            \u001b[39mself\u001b[39;49m\u001b[39m.\u001b[39;49m_a\u001b[39m.\u001b[39;49mget_affine()\u001b[39m.\u001b[39;49mget_matrix()))\n",
      "File \u001b[1;32m~\\AppData\\Local\\Packages\\PythonSoftwareFoundation.Python.3.10_qbz5n2kfra8p0\\LocalCache\\local-packages\\Python310\\site-packages\\matplotlib\\transforms.py:1900\u001b[0m, in \u001b[0;36mAffine2D.__init__\u001b[1;34m(self, matrix, **kwargs)\u001b[0m\n\u001b[0;32m   1897\u001b[0m \u001b[39mif\u001b[39;00m matrix \u001b[39mis\u001b[39;00m \u001b[39mNone\u001b[39;00m:\n\u001b[0;32m   1898\u001b[0m     \u001b[39m# A bit faster than np.identity(3).\u001b[39;00m\n\u001b[0;32m   1899\u001b[0m     matrix \u001b[39m=\u001b[39m IdentityTransform\u001b[39m.\u001b[39m_mtx\u001b[39m.\u001b[39mcopy()\n\u001b[1;32m-> 1900\u001b[0m \u001b[39mself\u001b[39m\u001b[39m.\u001b[39m_mtx \u001b[39m=\u001b[39m matrix\u001b[39m.\u001b[39;49mcopy()\n\u001b[0;32m   1901\u001b[0m \u001b[39mself\u001b[39m\u001b[39m.\u001b[39m_invalid \u001b[39m=\u001b[39m \u001b[39m0\u001b[39m\n",
      "\u001b[1;31mKeyboardInterrupt\u001b[0m: "
     ]
    }
   ],
   "source": [
    "for result in return_data_Stoch_horizons_10_runs:\n",
    "    plt.hist(return_data_Stoch_horizons_10_runs)"
   ]
  },
  {
   "cell_type": "markdown",
   "metadata": {},
   "source": [
    "# Visualization function"
   ]
  },
  {
   "cell_type": "code",
   "execution_count": null,
   "metadata": {},
   "outputs": [],
   "source": [
    "# def Plot_multiple_sims(results_simulated: list, results_real: list, title: str, x_label: str, y_label: str, log: bool):\n",
    "#     ''' Plots mean and 95 CI of a list of lists of daily returns'''\n",
    "#     results_simulated_array = np.array(results_simulated)\n",
    "#     mean_result = np.mean(results_simulated_array, axis=1)\n",
    "#     CI_95 = np.percentile(results_simulated_array.T, [2.5, 97.5], axis=1)\n",
    "#     plt.plot(range(len(results_real)), results_real, color='black')\n",
    "#     plt.plot(range(len(mean_result)), mean_result, color='red')\n",
    "#     plt.fill_between(range(len(mean_result)), CI_95[0], CI_95[1], color='red', alpha=0.2)\n",
    "#     for i in range(len(results_simulated)):\n",
    "#         plt.plot(range(len(results_simulated[i])), results_simulated[i])\n",
    "#     plt.title(title)\n",
    "#     plt.xlabel(x_label)\n",
    "#     plt.ylabel(y_label)\n",
    "#     if log == True:\n",
    "#         plt.gca().set_yscale(\"log\")\n",
    "#     plt.show()"
   ]
  },
  {
   "cell_type": "code",
   "execution_count": null,
   "metadata": {},
   "outputs": [],
   "source": [
    "def Plot_multiple_sims(results_simulated, results_real, title:str, x_label:str, y_label:str, log:bool):\n",
    "    results_simulated_array = np.array(results_simulated)\n",
    "    results_sorted = np.sort(results_simulated_array, axis = 0)\n",
    "    mean_results_sorted = np.mean(results_sorted, axis = 0)\n",
    "    std_results_sorted = np.std(results_sorted, axis = 0)\n",
    "    n, bins = np.histogram(results_sorted, bins=100)\n",
    "    plt.errorbar(n, bins, std_results_sorted, fmt='o', ecolor='black', capsize=2)\n",
    "\n",
    "    plt.title(title)\n",
    "    plt.xlabel(x_label)\n",
    "    plt.ylabel(y_label)\n",
    "    if log == True:\n",
    "        plt.gca().set_xscale(\"log\")\n",
    "    plt.show()\n"
   ]
  },
  {
   "cell_type": "code",
   "execution_count": null,
   "metadata": {},
   "outputs": [],
   "source": [
    "def Plot_multiple_sims(results_simulated, results_real, title:str, x_label:str, y_label:str, log:bool):\n",
    "    list_of_n = []\n",
    "    for result in results_simulated:\n",
    "        bin_heights = plt.hist(result, bins=bin, cumulative=-1, density=True, log=True, histtype='step', alpha=0.5)[0]\n",
    "        plt.show()\n",
    "    array_of_n = np.array(list_of_n)\n",
    "    plt.hist(list_of_n)\n",
    "    if log == True:\n",
    "        plt.gca().set_xscale(\"log\")\n",
    "    plt.show()"
   ]
  },
  {
   "cell_type": "code",
   "execution_count": null,
   "metadata": {},
   "outputs": [
    {
     "name": "stdout",
     "output_type": "stream",
     "text": [
      "True\n",
      "True\n",
      "True\n",
      "True\n",
      "True\n",
      "True\n",
      "True\n",
      "True\n",
      "True\n",
      "True\n"
     ]
    }
   ],
   "source": [
    "for run in range(len(return_data_Stoch_horizons_10_runs)):\n",
    "    print(all(return_data_Stoch_horizons_10_runs[0] == return_data_Stoch_horizons_10_runs[run]))"
   ]
  },
  {
   "cell_type": "code",
   "execution_count": null,
   "metadata": {},
   "outputs": [
    {
     "ename": "KeyboardInterrupt",
     "evalue": "",
     "output_type": "error",
     "traceback": [
      "\u001b[1;31m---------------------------------------------------------------------------\u001b[0m",
      "\u001b[1;31mKeyboardInterrupt\u001b[0m                         Traceback (most recent call last)",
      "Cell \u001b[1;32mIn[96], line 3\u001b[0m\n\u001b[0;32m      1\u001b[0m bin_heights_list \u001b[39m=\u001b[39m []\n\u001b[0;32m      2\u001b[0m \u001b[39mfor\u001b[39;00m result \u001b[39min\u001b[39;00m return_data_Stoch_horizons_100_runs:\n\u001b[1;32m----> 3\u001b[0m     bin_heights \u001b[39m=\u001b[39m plt\u001b[39m.\u001b[39;49mhist(result, bins\u001b[39m=\u001b[39;49m\u001b[39m100000\u001b[39;49m, cumulative\u001b[39m=\u001b[39;49m\u001b[39m-\u001b[39;49m\u001b[39m1\u001b[39;49m, density\u001b[39m=\u001b[39;49m\u001b[39mTrue\u001b[39;49;00m, log\u001b[39m=\u001b[39;49m\u001b[39mTrue\u001b[39;49;00m, histtype\u001b[39m=\u001b[39;49m\u001b[39m'\u001b[39;49m\u001b[39mstep\u001b[39;49m\u001b[39m'\u001b[39;49m, alpha\u001b[39m=\u001b[39;49m\u001b[39m0.5\u001b[39;49m)[\u001b[39m0\u001b[39m]\n\u001b[0;32m      4\u001b[0m     bin_heights_list\u001b[39m.\u001b[39mappend(bin_heights)\n\u001b[0;32m      6\u001b[0m \u001b[39m#checking if each bin height is the same (should not be the case)\u001b[39;00m\n",
      "File \u001b[1;32m~\\AppData\\Local\\Packages\\PythonSoftwareFoundation.Python.3.10_qbz5n2kfra8p0\\LocalCache\\local-packages\\Python310\\site-packages\\matplotlib\\pyplot.py:2573\u001b[0m, in \u001b[0;36mhist\u001b[1;34m(x, bins, range, density, weights, cumulative, bottom, histtype, align, orientation, rwidth, log, color, label, stacked, data, **kwargs)\u001b[0m\n\u001b[0;32m   2567\u001b[0m \u001b[39m@_copy_docstring_and_deprecators\u001b[39m(Axes\u001b[39m.\u001b[39mhist)\n\u001b[0;32m   2568\u001b[0m \u001b[39mdef\u001b[39;00m \u001b[39mhist\u001b[39m(\n\u001b[0;32m   2569\u001b[0m         x, bins\u001b[39m=\u001b[39m\u001b[39mNone\u001b[39;00m, \u001b[39mrange\u001b[39m\u001b[39m=\u001b[39m\u001b[39mNone\u001b[39;00m, density\u001b[39m=\u001b[39m\u001b[39mFalse\u001b[39;00m, weights\u001b[39m=\u001b[39m\u001b[39mNone\u001b[39;00m,\n\u001b[0;32m   2570\u001b[0m         cumulative\u001b[39m=\u001b[39m\u001b[39mFalse\u001b[39;00m, bottom\u001b[39m=\u001b[39m\u001b[39mNone\u001b[39;00m, histtype\u001b[39m=\u001b[39m\u001b[39m'\u001b[39m\u001b[39mbar\u001b[39m\u001b[39m'\u001b[39m, align\u001b[39m=\u001b[39m\u001b[39m'\u001b[39m\u001b[39mmid\u001b[39m\u001b[39m'\u001b[39m,\n\u001b[0;32m   2571\u001b[0m         orientation\u001b[39m=\u001b[39m\u001b[39m'\u001b[39m\u001b[39mvertical\u001b[39m\u001b[39m'\u001b[39m, rwidth\u001b[39m=\u001b[39m\u001b[39mNone\u001b[39;00m, log\u001b[39m=\u001b[39m\u001b[39mFalse\u001b[39;00m, color\u001b[39m=\u001b[39m\u001b[39mNone\u001b[39;00m,\n\u001b[0;32m   2572\u001b[0m         label\u001b[39m=\u001b[39m\u001b[39mNone\u001b[39;00m, stacked\u001b[39m=\u001b[39m\u001b[39mFalse\u001b[39;00m, \u001b[39m*\u001b[39m, data\u001b[39m=\u001b[39m\u001b[39mNone\u001b[39;00m, \u001b[39m*\u001b[39m\u001b[39m*\u001b[39mkwargs):\n\u001b[1;32m-> 2573\u001b[0m     \u001b[39mreturn\u001b[39;00m gca()\u001b[39m.\u001b[39mhist(\n\u001b[0;32m   2574\u001b[0m         x, bins\u001b[39m=\u001b[39mbins, \u001b[39mrange\u001b[39m\u001b[39m=\u001b[39m\u001b[39mrange\u001b[39m, density\u001b[39m=\u001b[39mdensity, weights\u001b[39m=\u001b[39mweights,\n\u001b[0;32m   2575\u001b[0m         cumulative\u001b[39m=\u001b[39mcumulative, bottom\u001b[39m=\u001b[39mbottom, histtype\u001b[39m=\u001b[39mhisttype,\n\u001b[0;32m   2576\u001b[0m         align\u001b[39m=\u001b[39malign, orientation\u001b[39m=\u001b[39morientation, rwidth\u001b[39m=\u001b[39mrwidth, log\u001b[39m=\u001b[39mlog,\n\u001b[0;32m   2577\u001b[0m         color\u001b[39m=\u001b[39mcolor, label\u001b[39m=\u001b[39mlabel, stacked\u001b[39m=\u001b[39mstacked,\n\u001b[0;32m   2578\u001b[0m         \u001b[39m*\u001b[39m\u001b[39m*\u001b[39m({\u001b[39m\"\u001b[39m\u001b[39mdata\u001b[39m\u001b[39m\"\u001b[39m: data} \u001b[39mif\u001b[39;00m data \u001b[39mis\u001b[39;00m \u001b[39mnot\u001b[39;00m \u001b[39mNone\u001b[39;00m \u001b[39melse\u001b[39;00m {}), \u001b[39m*\u001b[39m\u001b[39m*\u001b[39mkwargs)\n",
      "File \u001b[1;32m~\\AppData\\Local\\Packages\\PythonSoftwareFoundation.Python.3.10_qbz5n2kfra8p0\\LocalCache\\local-packages\\Python310\\site-packages\\matplotlib\\__init__.py:1423\u001b[0m, in \u001b[0;36m_preprocess_data.<locals>.inner\u001b[1;34m(ax, data, *args, **kwargs)\u001b[0m\n\u001b[0;32m   1420\u001b[0m \u001b[39m@functools\u001b[39m\u001b[39m.\u001b[39mwraps(func)\n\u001b[0;32m   1421\u001b[0m \u001b[39mdef\u001b[39;00m \u001b[39minner\u001b[39m(ax, \u001b[39m*\u001b[39margs, data\u001b[39m=\u001b[39m\u001b[39mNone\u001b[39;00m, \u001b[39m*\u001b[39m\u001b[39m*\u001b[39mkwargs):\n\u001b[0;32m   1422\u001b[0m     \u001b[39mif\u001b[39;00m data \u001b[39mis\u001b[39;00m \u001b[39mNone\u001b[39;00m:\n\u001b[1;32m-> 1423\u001b[0m         \u001b[39mreturn\u001b[39;00m func(ax, \u001b[39m*\u001b[39m\u001b[39mmap\u001b[39m(sanitize_sequence, args), \u001b[39m*\u001b[39m\u001b[39m*\u001b[39mkwargs)\n\u001b[0;32m   1425\u001b[0m     bound \u001b[39m=\u001b[39m new_sig\u001b[39m.\u001b[39mbind(ax, \u001b[39m*\u001b[39margs, \u001b[39m*\u001b[39m\u001b[39m*\u001b[39mkwargs)\n\u001b[0;32m   1426\u001b[0m     auto_label \u001b[39m=\u001b[39m (bound\u001b[39m.\u001b[39marguments\u001b[39m.\u001b[39mget(label_namer)\n\u001b[0;32m   1427\u001b[0m                   \u001b[39mor\u001b[39;00m bound\u001b[39m.\u001b[39mkwargs\u001b[39m.\u001b[39mget(label_namer))\n",
      "File \u001b[1;32m~\\AppData\\Local\\Packages\\PythonSoftwareFoundation.Python.3.10_qbz5n2kfra8p0\\LocalCache\\local-packages\\Python310\\site-packages\\matplotlib\\axes\\_axes.py:6859\u001b[0m, in \u001b[0;36mAxes.hist\u001b[1;34m(self, x, bins, range, density, weights, cumulative, bottom, histtype, align, orientation, rwidth, log, color, label, stacked, **kwargs)\u001b[0m\n\u001b[0;32m   6857\u001b[0m     \u001b[39melse\u001b[39;00m:\n\u001b[0;32m   6858\u001b[0m         xvals\u001b[39m.\u001b[39mappend(x\u001b[39m.\u001b[39mcopy())\n\u001b[1;32m-> 6859\u001b[0m         yvals\u001b[39m.\u001b[39mappend(y\u001b[39m.\u001b[39;49mcopy())\n\u001b[0;32m   6861\u001b[0m \u001b[39m# stepfill is closed, step is not\u001b[39;00m\n\u001b[0;32m   6862\u001b[0m split \u001b[39m=\u001b[39m \u001b[39m-\u001b[39m\u001b[39m1\u001b[39m \u001b[39mif\u001b[39;00m fill \u001b[39melse\u001b[39;00m \u001b[39m2\u001b[39m \u001b[39m*\u001b[39m \u001b[39mlen\u001b[39m(bins)\n",
      "\u001b[1;31mKeyboardInterrupt\u001b[0m: "
     ]
    },
    {
     "data": {
      "image/png": "[encoded data removed]",
      "text/plain": [
       "<Figure size 640x480 with 1 Axes>"
      ]
     },
     "metadata": {},
     "output_type": "display_data"
    }
   ],
   "source": [
    "bin_heights_list = []\n",
    "for result in return_data_Stoch_horizons_100_runs:\n",
    "    bin_heights = plt.hist(result, bins=100000, cumulative=-1, density=True, log=True, histtype='step', alpha=0.5)[0]\n",
    "    bin_heights_list.append(bin_heights)\n",
    "\n",
    "#checking if each bin height is the same (should not be the case)\n",
    "for i in range(10):\n",
    "    print(bin_heights_list[0] == bin_heights_list[i])"
   ]
  },
  {
   "cell_type": "code",
   "execution_count": null,
   "metadata": {},
   "outputs": [],
   "source": []
  },
  {
   "cell_type": "markdown",
   "metadata": {},
   "source": [
    "# Model validation"
   ]
  },
  {
   "cell_type": "markdown",
   "metadata": {},
   "source": [
    "This section consists two parts: \n",
    "1) comparing the simulated daily return data vs. the emperical daily return data + relevant plots & statistical tests\n",
    "2) comparing the simulated daily trading volume data vs. the emperical trading volume data + relevant plots & statistical tests"
   ]
  },
  {
   "cell_type": "markdown",
   "metadata": {},
   "source": [
    "#### Notes on the dataset\n"
   ]
  },
  {
   "cell_type": "markdown",
   "metadata": {},
   "source": [
    "\n",
    "Data is obtained from the period 2013-2022 (10 years), while Feng et al's (2012) compared their simulated results to emperical data from the 10 year period from 1997-2006.\n",
    "\n",
    "Some notable remarks on comparison between the datasets:\n",
    "\n",
    "* Feng et al. considered the S&P 500, but only stocks listed for the entire period, which were 307, in our case we had 463 stocks, a notable increase.\n",
    "* We obtained volume and shares outstanding data from Compustat database via WRDS, while obtaining open and closing data from Yahoo finance while Feng et al obtained all these variables from the compustat database.\n",
    "* Where volume, sharesoutsanding, open or close data was missing for a certain day, we imputed the values using a backfill method.\n",
    "* Stocks listed may have changed over time, while we only see the ones that stayed listed (survivor bias)\n",
    "\n"
   ]
  },
  {
   "cell_type": "markdown",
   "metadata": {},
   "source": [
    "### Comparing simulated daily resturn vs. real stock daily return data"
   ]
  },
  {
   "cell_type": "code",
   "execution_count": null,
   "metadata": {},
   "outputs": [],
   "source": [
    "## 1. Simulated vs. empirical daily return data"
   ]
  },
  {
   "cell_type": "markdown",
   "metadata": {},
   "source": [
    "#### Importing real stock data"
   ]
  },
  {
   "cell_type": "code",
   "execution_count": null,
   "metadata": {},
   "outputs": [],
   "source": [
    "# changing index to datetime\n",
    "df_returns_clean_WRDS.index = pd.to_datetime(df_returns_clean_WRDS.index)\n"
   ]
  },
  {
   "cell_type": "code",
   "execution_count": null,
   "metadata": {},
   "outputs": [],
   "source": [
    "# calculation of returns following feng et al. (2012) method:\n",
    "df_real_returns_log_difference = df_close_clean.apply(np.log) - df_open_clean.apply(np.log) \n",
    "\n",
    "# taking absolute of real returns\n",
    "df_real_returns_log_difference_abs = df_real_returns_log_difference.abs()\n",
    "\n",
    "# taking pct change returns\n",
    "df_real_returns_pct_change = ((df_close_clean - df_open_clean)/df_open_clean).dropna()"
   ]
  },
  {
   "cell_type": "code",
   "execution_count": null,
   "metadata": {},
   "outputs": [
    {
     "data": {
      "text/html": [
       "<div>\n",
       "<style scoped>\n",
       "    .dataframe tbody tr th:only-of-type {\n",
       "        vertical-align: middle;\n",
       "    }\n",
       "\n",
       "    .dataframe tbody tr th {\n",
       "        vertical-align: top;\n",
       "    }\n",
       "\n",
       "    .dataframe thead th {\n",
       "        text-align: right;\n",
       "    }\n",
       "</style>\n",
       "<table border=\"1\" class=\"dataframe\">\n",
       "  <thead>\n",
       "    <tr style=\"text-align: right;\">\n",
       "      <th></th>\n",
       "      <th>A</th>\n",
       "      <th>AAL</th>\n",
       "      <th>AAP</th>\n",
       "      <th>AAPL</th>\n",
       "      <th>ABBV</th>\n",
       "      <th>ABC</th>\n",
       "      <th>ABT</th>\n",
       "      <th>ACGL</th>\n",
       "      <th>ACN</th>\n",
       "      <th>ADBE</th>\n",
       "      <th>...</th>\n",
       "      <th>WY</th>\n",
       "      <th>WYNN</th>\n",
       "      <th>XEL</th>\n",
       "      <th>XOM</th>\n",
       "      <th>XRAY</th>\n",
       "      <th>XYL</th>\n",
       "      <th>YUM</th>\n",
       "      <th>ZBH</th>\n",
       "      <th>ZBRA</th>\n",
       "      <th>ZION</th>\n",
       "    </tr>\n",
       "    <tr>\n",
       "      <th>Date</th>\n",
       "      <th></th>\n",
       "      <th></th>\n",
       "      <th></th>\n",
       "      <th></th>\n",
       "      <th></th>\n",
       "      <th></th>\n",
       "      <th></th>\n",
       "      <th></th>\n",
       "      <th></th>\n",
       "      <th></th>\n",
       "      <th></th>\n",
       "      <th></th>\n",
       "      <th></th>\n",
       "      <th></th>\n",
       "      <th></th>\n",
       "      <th></th>\n",
       "      <th></th>\n",
       "      <th></th>\n",
       "      <th></th>\n",
       "      <th></th>\n",
       "      <th></th>\n",
       "    </tr>\n",
       "  </thead>\n",
       "  <tbody>\n",
       "    <tr>\n",
       "      <th>2013-01-02</th>\n",
       "      <td>0.006877</td>\n",
       "      <td>0.018950</td>\n",
       "      <td>0.013607</td>\n",
       "      <td>0.008649</td>\n",
       "      <td>0.005727</td>\n",
       "      <td>0.002294</td>\n",
       "      <td>0.007740</td>\n",
       "      <td>0.000000</td>\n",
       "      <td>0.021749</td>\n",
       "      <td>0.011076</td>\n",
       "      <td>...</td>\n",
       "      <td>0.022807</td>\n",
       "      <td>0.014609</td>\n",
       "      <td>0.012949</td>\n",
       "      <td>0.010480</td>\n",
       "      <td>0.007459</td>\n",
       "      <td>0.004705</td>\n",
       "      <td>0.005037</td>\n",
       "      <td>0.001479</td>\n",
       "      <td>0.022977</td>\n",
       "      <td>0.005027</td>\n",
       "    </tr>\n",
       "    <tr>\n",
       "      <th>2013-01-03</th>\n",
       "      <td>0.002146</td>\n",
       "      <td>0.025678</td>\n",
       "      <td>0.004942</td>\n",
       "      <td>0.010550</td>\n",
       "      <td>0.004857</td>\n",
       "      <td>0.003215</td>\n",
       "      <td>0.011246</td>\n",
       "      <td>0.000452</td>\n",
       "      <td>0.000727</td>\n",
       "      <td>0.010225</td>\n",
       "      <td>...</td>\n",
       "      <td>0.001030</td>\n",
       "      <td>0.006494</td>\n",
       "      <td>0.003286</td>\n",
       "      <td>0.001017</td>\n",
       "      <td>0.002222</td>\n",
       "      <td>0.003273</td>\n",
       "      <td>0.006703</td>\n",
       "      <td>0.013879</td>\n",
       "      <td>0.005148</td>\n",
       "      <td>0.001364</td>\n",
       "    </tr>\n",
       "    <tr>\n",
       "      <th>2013-01-04</th>\n",
       "      <td>0.017086</td>\n",
       "      <td>0.067391</td>\n",
       "      <td>0.011959</td>\n",
       "      <td>0.018567</td>\n",
       "      <td>0.006644</td>\n",
       "      <td>0.010875</td>\n",
       "      <td>0.007801</td>\n",
       "      <td>0.007222</td>\n",
       "      <td>0.003918</td>\n",
       "      <td>0.006600</td>\n",
       "      <td>...</td>\n",
       "      <td>0.004786</td>\n",
       "      <td>0.007087</td>\n",
       "      <td>0.002561</td>\n",
       "      <td>0.005198</td>\n",
       "      <td>0.005427</td>\n",
       "      <td>0.005089</td>\n",
       "      <td>0.013049</td>\n",
       "      <td>0.004366</td>\n",
       "      <td>0.003950</td>\n",
       "      <td>0.028610</td>\n",
       "    </tr>\n",
       "    <tr>\n",
       "      <th>2013-01-07</th>\n",
       "      <td>0.001174</td>\n",
       "      <td>0.003381</td>\n",
       "      <td>0.003008</td>\n",
       "      <td>0.003640</td>\n",
       "      <td>0.009078</td>\n",
       "      <td>0.002975</td>\n",
       "      <td>0.009691</td>\n",
       "      <td>0.003383</td>\n",
       "      <td>0.004520</td>\n",
       "      <td>0.003438</td>\n",
       "      <td>...</td>\n",
       "      <td>0.006143</td>\n",
       "      <td>0.003810</td>\n",
       "      <td>0.006232</td>\n",
       "      <td>0.004303</td>\n",
       "      <td>0.005161</td>\n",
       "      <td>0.006620</td>\n",
       "      <td>0.001471</td>\n",
       "      <td>0.006254</td>\n",
       "      <td>0.008134</td>\n",
       "      <td>0.000888</td>\n",
       "    </tr>\n",
       "    <tr>\n",
       "      <th>2013-01-08</th>\n",
       "      <td>0.006122</td>\n",
       "      <td>0.018133</td>\n",
       "      <td>0.013667</td>\n",
       "      <td>0.007369</td>\n",
       "      <td>0.016915</td>\n",
       "      <td>0.000229</td>\n",
       "      <td>0.001802</td>\n",
       "      <td>0.001584</td>\n",
       "      <td>0.007708</td>\n",
       "      <td>0.009529</td>\n",
       "      <td>...</td>\n",
       "      <td>0.009867</td>\n",
       "      <td>0.000413</td>\n",
       "      <td>0.003325</td>\n",
       "      <td>0.007515</td>\n",
       "      <td>0.005901</td>\n",
       "      <td>0.009283</td>\n",
       "      <td>0.009938</td>\n",
       "      <td>0.001735</td>\n",
       "      <td>0.006888</td>\n",
       "      <td>0.018222</td>\n",
       "    </tr>\n",
       "    <tr>\n",
       "      <th>...</th>\n",
       "      <td>...</td>\n",
       "      <td>...</td>\n",
       "      <td>...</td>\n",
       "      <td>...</td>\n",
       "      <td>...</td>\n",
       "      <td>...</td>\n",
       "      <td>...</td>\n",
       "      <td>...</td>\n",
       "      <td>...</td>\n",
       "      <td>...</td>\n",
       "      <td>...</td>\n",
       "      <td>...</td>\n",
       "      <td>...</td>\n",
       "      <td>...</td>\n",
       "      <td>...</td>\n",
       "      <td>...</td>\n",
       "      <td>...</td>\n",
       "      <td>...</td>\n",
       "      <td>...</td>\n",
       "      <td>...</td>\n",
       "      <td>...</td>\n",
       "    </tr>\n",
       "    <tr>\n",
       "      <th>2022-12-23</th>\n",
       "      <td>0.001476</td>\n",
       "      <td>0.015987</td>\n",
       "      <td>0.009725</td>\n",
       "      <td>0.007180</td>\n",
       "      <td>0.001775</td>\n",
       "      <td>0.004728</td>\n",
       "      <td>0.004737</td>\n",
       "      <td>0.007471</td>\n",
       "      <td>0.001129</td>\n",
       "      <td>0.010299</td>\n",
       "      <td>...</td>\n",
       "      <td>0.014171</td>\n",
       "      <td>0.000124</td>\n",
       "      <td>0.014155</td>\n",
       "      <td>0.016176</td>\n",
       "      <td>0.016608</td>\n",
       "      <td>0.001095</td>\n",
       "      <td>0.003660</td>\n",
       "      <td>0.005955</td>\n",
       "      <td>0.005509</td>\n",
       "      <td>0.003521</td>\n",
       "    </tr>\n",
       "    <tr>\n",
       "      <th>2022-12-27</th>\n",
       "      <td>0.002144</td>\n",
       "      <td>0.007132</td>\n",
       "      <td>0.012144</td>\n",
       "      <td>0.010276</td>\n",
       "      <td>0.003058</td>\n",
       "      <td>0.005882</td>\n",
       "      <td>0.002030</td>\n",
       "      <td>0.003787</td>\n",
       "      <td>0.002294</td>\n",
       "      <td>0.008609</td>\n",
       "      <td>...</td>\n",
       "      <td>0.003188</td>\n",
       "      <td>0.035359</td>\n",
       "      <td>0.008170</td>\n",
       "      <td>0.008420</td>\n",
       "      <td>0.004385</td>\n",
       "      <td>0.006637</td>\n",
       "      <td>0.004640</td>\n",
       "      <td>0.002205</td>\n",
       "      <td>0.006617</td>\n",
       "      <td>0.003905</td>\n",
       "    </tr>\n",
       "    <tr>\n",
       "      <th>2022-12-28</th>\n",
       "      <td>0.011283</td>\n",
       "      <td>0.015975</td>\n",
       "      <td>0.002415</td>\n",
       "      <td>0.027994</td>\n",
       "      <td>0.008980</td>\n",
       "      <td>0.012975</td>\n",
       "      <td>0.010915</td>\n",
       "      <td>0.016805</td>\n",
       "      <td>0.011199</td>\n",
       "      <td>0.020086</td>\n",
       "      <td>...</td>\n",
       "      <td>0.024833</td>\n",
       "      <td>0.041068</td>\n",
       "      <td>0.009961</td>\n",
       "      <td>0.013921</td>\n",
       "      <td>0.037589</td>\n",
       "      <td>0.016964</td>\n",
       "      <td>0.006759</td>\n",
       "      <td>0.011378</td>\n",
       "      <td>0.014532</td>\n",
       "      <td>0.018416</td>\n",
       "    </tr>\n",
       "    <tr>\n",
       "      <th>2022-12-29</th>\n",
       "      <td>0.009892</td>\n",
       "      <td>0.025020</td>\n",
       "      <td>0.001369</td>\n",
       "      <td>0.012657</td>\n",
       "      <td>0.002455</td>\n",
       "      <td>0.011607</td>\n",
       "      <td>0.014345</td>\n",
       "      <td>0.005897</td>\n",
       "      <td>0.010505</td>\n",
       "      <td>0.020650</td>\n",
       "      <td>...</td>\n",
       "      <td>0.015564</td>\n",
       "      <td>0.010068</td>\n",
       "      <td>0.002539</td>\n",
       "      <td>0.011205</td>\n",
       "      <td>0.039279</td>\n",
       "      <td>0.015833</td>\n",
       "      <td>0.003396</td>\n",
       "      <td>0.009237</td>\n",
       "      <td>0.031978</td>\n",
       "      <td>0.021223</td>\n",
       "    </tr>\n",
       "    <tr>\n",
       "      <th>2022-12-30</th>\n",
       "      <td>0.000735</td>\n",
       "      <td>0.013546</td>\n",
       "      <td>0.010168</td>\n",
       "      <td>0.011837</td>\n",
       "      <td>0.003822</td>\n",
       "      <td>0.001987</td>\n",
       "      <td>0.000091</td>\n",
       "      <td>0.000957</td>\n",
       "      <td>0.004896</td>\n",
       "      <td>0.010601</td>\n",
       "      <td>...</td>\n",
       "      <td>0.000967</td>\n",
       "      <td>0.028689</td>\n",
       "      <td>0.011142</td>\n",
       "      <td>0.015560</td>\n",
       "      <td>0.003755</td>\n",
       "      <td>0.002076</td>\n",
       "      <td>0.011805</td>\n",
       "      <td>0.002753</td>\n",
       "      <td>0.008694</td>\n",
       "      <td>0.011315</td>\n",
       "    </tr>\n",
       "  </tbody>\n",
       "</table>\n",
       "<p>2518 rows × 463 columns</p>\n",
       "</div>"
      ],
      "text/plain": [
       "                   A       AAL       AAP      AAPL      ABBV       ABC  \\\n",
       "Date                                                                     \n",
       "2013-01-02  0.006877  0.018950  0.013607  0.008649  0.005727  0.002294   \n",
       "2013-01-03  0.002146  0.025678  0.004942  0.010550  0.004857  0.003215   \n",
       "2013-01-04  0.017086  0.067391  0.011959  0.018567  0.006644  0.010875   \n",
       "2013-01-07  0.001174  0.003381  0.003008  0.003640  0.009078  0.002975   \n",
       "2013-01-08  0.006122  0.018133  0.013667  0.007369  0.016915  0.000229   \n",
       "...              ...       ...       ...       ...       ...       ...   \n",
       "2022-12-23  0.001476  0.015987  0.009725  0.007180  0.001775  0.004728   \n",
       "2022-12-27  0.002144  0.007132  0.012144  0.010276  0.003058  0.005882   \n",
       "2022-12-28  0.011283  0.015975  0.002415  0.027994  0.008980  0.012975   \n",
       "2022-12-29  0.009892  0.025020  0.001369  0.012657  0.002455  0.011607   \n",
       "2022-12-30  0.000735  0.013546  0.010168  0.011837  0.003822  0.001987   \n",
       "\n",
       "                 ABT      ACGL       ACN      ADBE  ...        WY      WYNN  \\\n",
       "Date                                                ...                       \n",
       "2013-01-02  0.007740  0.000000  0.021749  0.011076  ...  0.022807  0.014609   \n",
       "2013-01-03  0.011246  0.000452  0.000727  0.010225  ...  0.001030  0.006494   \n",
       "2013-01-04  0.007801  0.007222  0.003918  0.006600  ...  0.004786  0.007087   \n",
       "2013-01-07  0.009691  0.003383  0.004520  0.003438  ...  0.006143  0.003810   \n",
       "2013-01-08  0.001802  0.001584  0.007708  0.009529  ...  0.009867  0.000413   \n",
       "...              ...       ...       ...       ...  ...       ...       ...   \n",
       "2022-12-23  0.004737  0.007471  0.001129  0.010299  ...  0.014171  0.000124   \n",
       "2022-12-27  0.002030  0.003787  0.002294  0.008609  ...  0.003188  0.035359   \n",
       "2022-12-28  0.010915  0.016805  0.011199  0.020086  ...  0.024833  0.041068   \n",
       "2022-12-29  0.014345  0.005897  0.010505  0.020650  ...  0.015564  0.010068   \n",
       "2022-12-30  0.000091  0.000957  0.004896  0.010601  ...  0.000967  0.028689   \n",
       "\n",
       "                 XEL       XOM      XRAY       XYL       YUM       ZBH  \\\n",
       "Date                                                                     \n",
       "2013-01-02  0.012949  0.010480  0.007459  0.004705  0.005037  0.001479   \n",
       "2013-01-03  0.003286  0.001017  0.002222  0.003273  0.006703  0.013879   \n",
       "2013-01-04  0.002561  0.005198  0.005427  0.005089  0.013049  0.004366   \n",
       "2013-01-07  0.006232  0.004303  0.005161  0.006620  0.001471  0.006254   \n",
       "2013-01-08  0.003325  0.007515  0.005901  0.009283  0.009938  0.001735   \n",
       "...              ...       ...       ...       ...       ...       ...   \n",
       "2022-12-23  0.014155  0.016176  0.016608  0.001095  0.003660  0.005955   \n",
       "2022-12-27  0.008170  0.008420  0.004385  0.006637  0.004640  0.002205   \n",
       "2022-12-28  0.009961  0.013921  0.037589  0.016964  0.006759  0.011378   \n",
       "2022-12-29  0.002539  0.011205  0.039279  0.015833  0.003396  0.009237   \n",
       "2022-12-30  0.011142  0.015560  0.003755  0.002076  0.011805  0.002753   \n",
       "\n",
       "                ZBRA      ZION  \n",
       "Date                            \n",
       "2013-01-02  0.022977  0.005027  \n",
       "2013-01-03  0.005148  0.001364  \n",
       "2013-01-04  0.003950  0.028610  \n",
       "2013-01-07  0.008134  0.000888  \n",
       "2013-01-08  0.006888  0.018222  \n",
       "...              ...       ...  \n",
       "2022-12-23  0.005509  0.003521  \n",
       "2022-12-27  0.006617  0.003905  \n",
       "2022-12-28  0.014532  0.018416  \n",
       "2022-12-29  0.031978  0.021223  \n",
       "2022-12-30  0.008694  0.011315  \n",
       "\n",
       "[2518 rows x 463 columns]"
      ]
     },
     "execution_count": 42,
     "metadata": {},
     "output_type": "execute_result"
    }
   ],
   "source": [
    "df_real_returns_pct_change.abs()"
   ]
  },
  {
   "cell_type": "code",
   "execution_count": null,
   "metadata": {},
   "outputs": [],
   "source": [
    "# Flattening dataframes to combine all the percentage changes for figures\n",
    "real_returns_pct_change_flattened = df_real_returns_pct_change.abs().dropna().values.flatten()\n",
    "real_returns_log_difference_abs_flattened = df_real_returns_log_difference_abs.values.flatten()"
   ]
  },
  {
   "cell_type": "code",
   "execution_count": null,
   "metadata": {},
   "outputs": [],
   "source": [
    "sorted_non_log = sorted(real_returns_pct_change_flattened)\n",
    "sorted_log = sorted(real_returns_log_difference_abs_flattened)"
   ]
  },
  {
   "cell_type": "markdown",
   "metadata": {},
   "source": [
    "#### plotting real stock return data with different transformations"
   ]
  },
  {
   "cell_type": "code",
   "execution_count": null,
   "metadata": {},
   "outputs": [
    {
     "data": {
      "image/png": "[encoded data removed]",
      "text/plain": [
       "<Figure size 640x480 with 1 Axes>"
      ]
     },
     "metadata": {},
     "output_type": "display_data"
    }
   ],
   "source": [
    "x = np.arange(0, len(sorted_non_log), 1)\n",
    "plt.scatter(x, sorted_non_log, label='non log returns')\n",
    "plt.scatter(x, sorted_log, label ='log returns')\n",
    "plt.title('Comparing log and non log absolute returns')\n",
    "plt.xlabel('datapoints on a 10**6 scale')\n",
    "plt.ylabel('returns in decimals')\n",
    "plt.legend()\n",
    "plt.show()"
   ]
  },
  {
   "cell_type": "code",
   "execution_count": null,
   "metadata": {},
   "outputs": [],
   "source": [
    "# normalization of real returns\n",
    "real_returns_pct_change_flattened_normalized = (real_returns_pct_change_flattened - np.mean(real_returns_pct_change_flattened)) / np.std(real_returns_pct_change_flattened)\n",
    "real_returns_log_difference_abs_flattened_normalized = (real_returns_log_difference_abs_flattened - np.mean(real_returns_log_difference_abs_flattened)) / np.std(real_returns_log_difference_abs_flattened)"
   ]
  },
  {
   "cell_type": "code",
   "execution_count": null,
   "metadata": {},
   "outputs": [],
   "source": [
    "# real_returns_log_difference_abs_flattened = real_returns_log_difference_abs_flattened/10"
   ]
  },
  {
   "cell_type": "code",
   "execution_count": null,
   "metadata": {},
   "outputs": [],
   "source": [
    "y_1_stoch = np.array(abs_returns_horizons)\n",
    "y_2_stoch = np.array(abs_returns)\n",
    "y_3_ABM = np.array(returns)\n",
    "\n",
    "return_datasets = [y_1_stoch, y_2_stoch, y_3_ABM, real_returns_pct_change_flattened*100, real_returns_log_difference_abs_flattened]\n",
    "labels = ['Stochastic model with time horizons', 'Stochastic model without time horizons', 'Agent based model', 'Real returns pct change', 'Real returns log difference']\n"
   ]
  },
  {
   "cell_type": "code",
   "execution_count": null,
   "metadata": {},
   "outputs": [
    {
     "data": {
      "image/png": "[encoded data removed]",
      "text/plain": [
       "<Figure size 1000x1000 with 1 Axes>"
      ]
     },
     "metadata": {},
     "output_type": "display_data"
    }
   ],
   "source": [
    "plt.figure(figsize=(10,10))\n",
    "plt.hist(real_returns_log_difference_abs_flattened, bins=10000, cumulative=-1, density=True, log=True, histtype='step')\n",
    "# for i in range(len(return_datasets)):\n",
    "#     plt.hist(return_datasets[i], bins=10000, cumulative=-1, density=True, log=True, histtype='step', label = labels[i])\n",
    "plt.gca().set_xscale(\"log\")\n",
    "plt.show()"
   ]
  },
  {
   "cell_type": "markdown",
   "metadata": {},
   "source": [
    "### Comparing real vs. simulated return data"
   ]
  },
  {
   "cell_type": "code",
   "execution_count": null,
   "metadata": {},
   "outputs": [
    {
     "data": {
      "image/png": "[encoded data removed]",
      "text/plain": [
       "<Figure size 1000x1000 with 1 Axes>"
      ]
     },
     "metadata": {},
     "output_type": "display_data"
    }
   ],
   "source": [
    "# non-log plot\n",
    "plt.figure(figsize=(10,10))\n",
    "for i in range(len(return_datasets)):\n",
    "    plt.hist(return_datasets[i], bins=10000, cumulative=-1, density=True, log=True, histtype='step', label = labels[i])\n",
    "plt.gca().set_xscale(\"log\")\n",
    "plt.legend()\n",
    "plt.show()"
   ]
  },
  {
   "cell_type": "code",
   "execution_count": null,
   "metadata": {},
   "outputs": [],
   "source": []
  },
  {
   "cell_type": "markdown",
   "metadata": {},
   "source": [
    "### RMSE"
   ]
  },
  {
   "cell_type": "code",
   "execution_count": null,
   "metadata": {},
   "outputs": [],
   "source": [
    "def RMSE(predictions:list[float], targets:list[float]) -> float:\n",
    "    '''Returns the root mean squared error between predictions and target values as a float'''\n",
    "    return np.sqrt(((predictions - targets) ** 2))"
   ]
  },
  {
   "cell_type": "code",
   "execution_count": null,
   "metadata": {},
   "outputs": [
    {
     "ename": "ValueError",
     "evalue": "operands could not be broadcast together with shapes (10001,) (1165834,) ",
     "output_type": "error",
     "traceback": [
      "\u001b[1;31m---------------------------------------------------------------------------\u001b[0m",
      "\u001b[1;31mValueError\u001b[0m                                Traceback (most recent call last)",
      "Cell \u001b[1;32mIn[81], line 4\u001b[0m\n\u001b[0;32m      1\u001b[0m model_results \u001b[39m=\u001b[39m [y_1_stoch, y_2_stoch, y_3_ABM]\n\u001b[0;32m      3\u001b[0m \u001b[39mfor\u001b[39;00m result \u001b[39min\u001b[39;00m model_results:\n\u001b[1;32m----> 4\u001b[0m     \u001b[39mprint\u001b[39m(RMSE(result, real_returns_log_difference_abs_flattened))\n",
      "Cell \u001b[1;32mIn[80], line 3\u001b[0m, in \u001b[0;36mRMSE\u001b[1;34m(predictions, targets)\u001b[0m\n\u001b[0;32m      1\u001b[0m \u001b[39mdef\u001b[39;00m \u001b[39mRMSE\u001b[39m(predictions:\u001b[39mlist\u001b[39m[\u001b[39mfloat\u001b[39m], targets:\u001b[39mlist\u001b[39m[\u001b[39mfloat\u001b[39m]) \u001b[39m-\u001b[39m\u001b[39m>\u001b[39m \u001b[39mfloat\u001b[39m:\n\u001b[0;32m      2\u001b[0m     \u001b[39m'''Returns the root mean squared error between predictions and target values as a float'''\u001b[39;00m\n\u001b[1;32m----> 3\u001b[0m     \u001b[39mreturn\u001b[39;00m np\u001b[39m.\u001b[39msqrt(((predictions \u001b[39m-\u001b[39;49m targets) \u001b[39m*\u001b[39m\u001b[39m*\u001b[39m \u001b[39m2\u001b[39m))\n",
      "\u001b[1;31mValueError\u001b[0m: operands could not be broadcast together with shapes (10001,) (1165834,) "
     ]
    }
   ],
   "source": [
    "model_results = [y_1_stoch, y_2_stoch, y_3_ABM]\n",
    "\n",
    "for result in model_results:\n",
    "    print(RMSE(result, real_returns_log_difference_abs_flattened))\n"
   ]
  },
  {
   "cell_type": "code",
   "execution_count": null,
   "metadata": {},
   "outputs": [],
   "source": [
    "# code for kolmogorov-smirnov test for similarity of distributions: reference: https://docs.scipy.org/doc/scipy/reference/generated/scipy.stats.kstest.html\n",
    "# assumed samples are independent\n",
    "\n",
    "# making a matrix in which ks test results will be visualised\n",
    "\n",
    "array_for_ks_test_results = np.zeros(((len(return_datasets), len(return_datasets))))\n",
    "for i in range(len(return_datasets)):\n",
    "    for j in range(len(return_datasets)):\n",
    "        # returning the 1st element of ks test result as this is the p-value of the ks test\n",
    "        # print(stats.kstest(return_datasets[i], return_datasets[j])[1])\n",
    "            array_for_ks_test_results[i,j] = stats.kstest(return_datasets[i], return_datasets[j])[1]"
   ]
  },
  {
   "cell_type": "code",
   "execution_count": null,
   "metadata": {},
   "outputs": [
    {
     "data": {
      "text/html": [
       "<div>\n",
       "<style scoped>\n",
       "    .dataframe tbody tr th:only-of-type {\n",
       "        vertical-align: middle;\n",
       "    }\n",
       "\n",
       "    .dataframe tbody tr th {\n",
       "        vertical-align: top;\n",
       "    }\n",
       "\n",
       "    .dataframe thead th {\n",
       "        text-align: right;\n",
       "    }\n",
       "</style>\n",
       "<table border=\"1\" class=\"dataframe\">\n",
       "  <thead>\n",
       "    <tr style=\"text-align: right;\">\n",
       "      <th></th>\n",
       "      <th>0</th>\n",
       "      <th>1</th>\n",
       "      <th>2</th>\n",
       "      <th>3</th>\n",
       "      <th>4</th>\n",
       "    </tr>\n",
       "  </thead>\n",
       "  <tbody>\n",
       "    <tr>\n",
       "      <th>0</th>\n",
       "      <td>1.000000e+00</td>\n",
       "      <td>4.655128e-287</td>\n",
       "      <td>0.000000e+00</td>\n",
       "      <td>2.546482e-55</td>\n",
       "      <td>0.0</td>\n",
       "    </tr>\n",
       "    <tr>\n",
       "      <th>1</th>\n",
       "      <td>4.655128e-287</td>\n",
       "      <td>1.000000e+00</td>\n",
       "      <td>1.362420e-190</td>\n",
       "      <td>2.380721e-284</td>\n",
       "      <td>0.0</td>\n",
       "    </tr>\n",
       "    <tr>\n",
       "      <th>2</th>\n",
       "      <td>0.000000e+00</td>\n",
       "      <td>1.362420e-190</td>\n",
       "      <td>1.000000e+00</td>\n",
       "      <td>0.000000e+00</td>\n",
       "      <td>0.0</td>\n",
       "    </tr>\n",
       "    <tr>\n",
       "      <th>3</th>\n",
       "      <td>2.546482e-55</td>\n",
       "      <td>2.380721e-284</td>\n",
       "      <td>0.000000e+00</td>\n",
       "      <td>1.000000e+00</td>\n",
       "      <td>0.0</td>\n",
       "    </tr>\n",
       "    <tr>\n",
       "      <th>4</th>\n",
       "      <td>0.000000e+00</td>\n",
       "      <td>0.000000e+00</td>\n",
       "      <td>0.000000e+00</td>\n",
       "      <td>0.000000e+00</td>\n",
       "      <td>1.0</td>\n",
       "    </tr>\n",
       "  </tbody>\n",
       "</table>\n",
       "</div>"
      ],
      "text/plain": [
       "               0              1              2              3    4\n",
       "0   1.000000e+00  4.655128e-287   0.000000e+00   2.546482e-55  0.0\n",
       "1  4.655128e-287   1.000000e+00  1.362420e-190  2.380721e-284  0.0\n",
       "2   0.000000e+00  1.362420e-190   1.000000e+00   0.000000e+00  0.0\n",
       "3   2.546482e-55  2.380721e-284   0.000000e+00   1.000000e+00  0.0\n",
       "4   0.000000e+00   0.000000e+00   0.000000e+00   0.000000e+00  1.0"
      ]
     },
     "execution_count": 24,
     "metadata": {},
     "output_type": "execute_result"
    }
   ],
   "source": [
    "df_of_kstest_results = pd.DataFrame(array_for_ks_test_results)\n",
    "df_of_kstest_results"
   ]
  },
  {
   "cell_type": "code",
   "execution_count": null,
   "metadata": {},
   "outputs": [
    {
     "data": {
      "image/png": "[encoded data removed]",
      "text/plain": [
       "<Figure size 640x480 with 1 Axes>"
      ]
     },
     "metadata": {},
     "output_type": "display_data"
    }
   ],
   "source": [
    "color_matrix = np.where(array_for_ks_test_results < 0.05, 0,1)\n",
    "cmap = (mpl.colors.ListedColormap(['red', 'green']))\n",
    "plt.imshow(color_matrix, cmap=cmap, vmin=0, vmax=1)\n",
    "plt.xticks([0,1,2,3], ['Stochastic', 'Stochastic with time horizons', 'ABM', 'Real data'], rotation = 90)\n",
    "plt.yticks([0,1,2,3], ['Stochastic', 'Stochastic with time horizons', 'ABM', 'Real data'])\n",
    "plt.title(\"Visualisation of p-values of ks test for similarity of distributions\")\n",
    "plt.figtext(0.5, -0.5, \"Red: p < 0.05, Green: p > 0.05\", wrap=True, horizontalalignment='center', fontsize=12)\n",
    "plt.show()"
   ]
  },
  {
   "cell_type": "markdown",
   "metadata": {},
   "source": [
    "### Empirical trading volume data probability graph"
   ]
  },
  {
   "cell_type": "code",
   "execution_count": 55,
   "metadata": {},
   "outputs": [],
   "source": [
    "vol_mean = np.mean(df_volume_clean.values.flatten()) # Calculate the mean of all the daily volume\n",
    "df_normalized_vol = df_volume_clean/vol_mean\n",
    "sorted_vol = np.sort(df_normalized_vol.values.flatten())"
   ]
  },
  {
   "cell_type": "code",
   "execution_count": 57,
   "metadata": {},
   "outputs": [
    {
     "data": {
      "image/png": "[encoded data removed]",
      "text/plain": [
       "<Figure size 432x288 with 1 Axes>"
      ]
     },
     "metadata": {
      "needs_background": "light"
     },
     "output_type": "display_data"
    },
    {
     "name": "stderr",
     "output_type": "stream",
     "text": [
      "No handles with labels found to put in legend.\n"
     ]
    },
    {
     "data": {
      "image/png": "[encoded data removed]",
      "text/plain": [
       "<Figure size 720x720 with 1 Axes>"
      ]
     },
     "metadata": {
      "needs_background": "light"
     },
     "output_type": "display_data"
    }
   ],
   "source": [
    "# scatter plot \n",
    "x = np.arange(0, len(sorted_vol), 1)\n",
    "plt.scatter(x, sorted_vol)\n",
    "plt.show()\n",
    "\n",
    "# non-log plot\n",
    "plt.figure(figsize=(10,10))\n",
    "plt.hist(sorted_vol, bins=10000, cumulative=-1, density=True, log=True, histtype='step')\n",
    "plt.gca().set_xscale(\"log\")\n",
    "plt.title('Probability of volume traded')\n",
    "plt.legend()\n",
    "plt.show()"
   ]
  },
  {
   "cell_type": "markdown",
   "metadata": {},
   "source": [
    "## 2. Simulated vs. emperical trading volume data"
   ]
  },
  {
   "cell_type": "markdown",
   "metadata": {},
   "source": [
    "#### Normalizing emperical volume data"
   ]
  },
  {
   "cell_type": "code",
   "execution_count": null,
   "metadata": {},
   "outputs": [
    {
     "data": {
      "text/html": [
       "<div>\n",
       "<style scoped>\n",
       "    .dataframe tbody tr th:only-of-type {\n",
       "        vertical-align: middle;\n",
       "    }\n",
       "\n",
       "    .dataframe tbody tr th {\n",
       "        vertical-align: top;\n",
       "    }\n",
       "\n",
       "    .dataframe thead th {\n",
       "        text-align: right;\n",
       "    }\n",
       "</style>\n",
       "<table border=\"1\" class=\"dataframe\">\n",
       "  <thead>\n",
       "    <tr style=\"text-align: right;\">\n",
       "      <th></th>\n",
       "      <th>A</th>\n",
       "      <th>AAL</th>\n",
       "      <th>AAP</th>\n",
       "      <th>AAPL</th>\n",
       "      <th>ABBV</th>\n",
       "      <th>ABC</th>\n",
       "      <th>ABT</th>\n",
       "      <th>ACGL</th>\n",
       "      <th>ACN</th>\n",
       "      <th>ADBE</th>\n",
       "      <th>...</th>\n",
       "      <th>WY</th>\n",
       "      <th>WYNN</th>\n",
       "      <th>XEL</th>\n",
       "      <th>XOM</th>\n",
       "      <th>XRAY</th>\n",
       "      <th>XYL</th>\n",
       "      <th>YUM</th>\n",
       "      <th>ZBH</th>\n",
       "      <th>ZBRA</th>\n",
       "      <th>ZION</th>\n",
       "    </tr>\n",
       "    <tr>\n",
       "      <th>Date</th>\n",
       "      <th></th>\n",
       "      <th></th>\n",
       "      <th></th>\n",
       "      <th></th>\n",
       "      <th></th>\n",
       "      <th></th>\n",
       "      <th></th>\n",
       "      <th></th>\n",
       "      <th></th>\n",
       "      <th></th>\n",
       "      <th></th>\n",
       "      <th></th>\n",
       "      <th></th>\n",
       "      <th></th>\n",
       "      <th></th>\n",
       "      <th></th>\n",
       "      <th></th>\n",
       "      <th></th>\n",
       "      <th></th>\n",
       "      <th></th>\n",
       "      <th></th>\n",
       "    </tr>\n",
       "  </thead>\n",
       "  <tbody>\n",
       "    <tr>\n",
       "      <th>2013-01-02</th>\n",
       "      <td>6290038.0</td>\n",
       "      <td>43167060.0</td>\n",
       "      <td>800421.0</td>\n",
       "      <td>19986670.0</td>\n",
       "      <td>13767660.0</td>\n",
       "      <td>1972401.0</td>\n",
       "      <td>20266410.0</td>\n",
       "      <td>977536.0</td>\n",
       "      <td>4039095.0</td>\n",
       "      <td>6483720.0</td>\n",
       "      <td>...</td>\n",
       "      <td>6594952.0</td>\n",
       "      <td>2486815.0</td>\n",
       "      <td>2702053.0</td>\n",
       "      <td>16144970.0</td>\n",
       "      <td>856539.0</td>\n",
       "      <td>927252.0</td>\n",
       "      <td>4376855.0</td>\n",
       "      <td>1397462.0</td>\n",
       "      <td>213748.0</td>\n",
       "      <td>2551059.0</td>\n",
       "    </tr>\n",
       "    <tr>\n",
       "      <th>2013-01-03</th>\n",
       "      <td>4114289.0</td>\n",
       "      <td>43167060.0</td>\n",
       "      <td>520539.0</td>\n",
       "      <td>12579170.0</td>\n",
       "      <td>16739210.0</td>\n",
       "      <td>2027242.0</td>\n",
       "      <td>22148090.0</td>\n",
       "      <td>655362.0</td>\n",
       "      <td>3340674.0</td>\n",
       "      <td>3905904.0</td>\n",
       "      <td>...</td>\n",
       "      <td>3967047.0</td>\n",
       "      <td>1731879.0</td>\n",
       "      <td>2403510.0</td>\n",
       "      <td>13268470.0</td>\n",
       "      <td>525445.0</td>\n",
       "      <td>610706.0</td>\n",
       "      <td>2627253.0</td>\n",
       "      <td>1574966.0</td>\n",
       "      <td>99849.0</td>\n",
       "      <td>2267804.0</td>\n",
       "    </tr>\n",
       "    <tr>\n",
       "      <th>2013-01-04</th>\n",
       "      <td>4601506.0</td>\n",
       "      <td>43167060.0</td>\n",
       "      <td>614933.0</td>\n",
       "      <td>21196320.0</td>\n",
       "      <td>21372200.0</td>\n",
       "      <td>2462183.0</td>\n",
       "      <td>15819140.0</td>\n",
       "      <td>530563.0</td>\n",
       "      <td>3145680.0</td>\n",
       "      <td>3809146.0</td>\n",
       "      <td>...</td>\n",
       "      <td>3624749.0</td>\n",
       "      <td>2129025.0</td>\n",
       "      <td>1743995.0</td>\n",
       "      <td>11427870.0</td>\n",
       "      <td>660389.0</td>\n",
       "      <td>563325.0</td>\n",
       "      <td>2719375.0</td>\n",
       "      <td>1189537.0</td>\n",
       "      <td>145944.0</td>\n",
       "      <td>3577660.0</td>\n",
       "    </tr>\n",
       "    <tr>\n",
       "      <th>2013-01-07</th>\n",
       "      <td>2567557.0</td>\n",
       "      <td>43167060.0</td>\n",
       "      <td>1051969.0</td>\n",
       "      <td>17262620.0</td>\n",
       "      <td>17896920.0</td>\n",
       "      <td>1803504.0</td>\n",
       "      <td>13121470.0</td>\n",
       "      <td>423123.0</td>\n",
       "      <td>2262426.0</td>\n",
       "      <td>3632022.0</td>\n",
       "      <td>...</td>\n",
       "      <td>2450680.0</td>\n",
       "      <td>1500928.0</td>\n",
       "      <td>2853210.0</td>\n",
       "      <td>11799780.0</td>\n",
       "      <td>554059.0</td>\n",
       "      <td>481287.0</td>\n",
       "      <td>3729703.0</td>\n",
       "      <td>954238.0</td>\n",
       "      <td>90581.0</td>\n",
       "      <td>2285917.0</td>\n",
       "    </tr>\n",
       "    <tr>\n",
       "      <th>2013-01-08</th>\n",
       "      <td>2787813.0</td>\n",
       "      <td>43167060.0</td>\n",
       "      <td>840003.0</td>\n",
       "      <td>16350190.0</td>\n",
       "      <td>17863000.0</td>\n",
       "      <td>1533163.0</td>\n",
       "      <td>15053860.0</td>\n",
       "      <td>580903.0</td>\n",
       "      <td>2468876.0</td>\n",
       "      <td>3080868.0</td>\n",
       "      <td>...</td>\n",
       "      <td>5203250.0</td>\n",
       "      <td>975921.0</td>\n",
       "      <td>3762904.0</td>\n",
       "      <td>14228400.0</td>\n",
       "      <td>698803.0</td>\n",
       "      <td>1084482.0</td>\n",
       "      <td>12406140.0</td>\n",
       "      <td>905965.0</td>\n",
       "      <td>112590.0</td>\n",
       "      <td>3758558.0</td>\n",
       "    </tr>\n",
       "    <tr>\n",
       "      <th>...</th>\n",
       "      <td>...</td>\n",
       "      <td>...</td>\n",
       "      <td>...</td>\n",
       "      <td>...</td>\n",
       "      <td>...</td>\n",
       "      <td>...</td>\n",
       "      <td>...</td>\n",
       "      <td>...</td>\n",
       "      <td>...</td>\n",
       "      <td>...</td>\n",
       "      <td>...</td>\n",
       "      <td>...</td>\n",
       "      <td>...</td>\n",
       "      <td>...</td>\n",
       "      <td>...</td>\n",
       "      <td>...</td>\n",
       "      <td>...</td>\n",
       "      <td>...</td>\n",
       "      <td>...</td>\n",
       "      <td>...</td>\n",
       "      <td>...</td>\n",
       "    </tr>\n",
       "    <tr>\n",
       "      <th>2022-12-23</th>\n",
       "      <td>779426.0</td>\n",
       "      <td>17160810.0</td>\n",
       "      <td>524534.0</td>\n",
       "      <td>63755280.0</td>\n",
       "      <td>2684724.0</td>\n",
       "      <td>528005.0</td>\n",
       "      <td>2618369.0</td>\n",
       "      <td>890265.0</td>\n",
       "      <td>1213251.0</td>\n",
       "      <td>1627915.0</td>\n",
       "      <td>...</td>\n",
       "      <td>1932785.0</td>\n",
       "      <td>1134475.0</td>\n",
       "      <td>1201346.0</td>\n",
       "      <td>11534290.0</td>\n",
       "      <td>1264320.0</td>\n",
       "      <td>321094.0</td>\n",
       "      <td>699735.0</td>\n",
       "      <td>789770.0</td>\n",
       "      <td>180932.0</td>\n",
       "      <td>1263345.0</td>\n",
       "    </tr>\n",
       "    <tr>\n",
       "      <th>2022-12-27</th>\n",
       "      <td>879543.0</td>\n",
       "      <td>18836880.0</td>\n",
       "      <td>717073.0</td>\n",
       "      <td>68887690.0</td>\n",
       "      <td>2669090.0</td>\n",
       "      <td>740310.0</td>\n",
       "      <td>2927352.0</td>\n",
       "      <td>666705.0</td>\n",
       "      <td>1009563.0</td>\n",
       "      <td>1463215.0</td>\n",
       "      <td>...</td>\n",
       "      <td>2265992.0</td>\n",
       "      <td>4024281.0</td>\n",
       "      <td>1580610.0</td>\n",
       "      <td>11874640.0</td>\n",
       "      <td>998778.0</td>\n",
       "      <td>468173.0</td>\n",
       "      <td>1299183.0</td>\n",
       "      <td>742499.0</td>\n",
       "      <td>252510.0</td>\n",
       "      <td>704184.0</td>\n",
       "    </tr>\n",
       "    <tr>\n",
       "      <th>2022-12-28</th>\n",
       "      <td>784312.0</td>\n",
       "      <td>20388570.0</td>\n",
       "      <td>685513.0</td>\n",
       "      <td>85247210.0</td>\n",
       "      <td>2944327.0</td>\n",
       "      <td>804725.0</td>\n",
       "      <td>3264409.0</td>\n",
       "      <td>1107929.0</td>\n",
       "      <td>1386969.0</td>\n",
       "      <td>1668511.0</td>\n",
       "      <td>...</td>\n",
       "      <td>2244112.0</td>\n",
       "      <td>2131050.0</td>\n",
       "      <td>1513689.0</td>\n",
       "      <td>10675270.0</td>\n",
       "      <td>1430535.0</td>\n",
       "      <td>480378.0</td>\n",
       "      <td>964755.0</td>\n",
       "      <td>750108.0</td>\n",
       "      <td>241209.0</td>\n",
       "      <td>679957.0</td>\n",
       "    </tr>\n",
       "    <tr>\n",
       "      <th>2022-12-29</th>\n",
       "      <td>854026.0</td>\n",
       "      <td>19652320.0</td>\n",
       "      <td>719051.0</td>\n",
       "      <td>75569790.0</td>\n",
       "      <td>3112518.0</td>\n",
       "      <td>1478972.0</td>\n",
       "      <td>3047818.0</td>\n",
       "      <td>1063408.0</td>\n",
       "      <td>1516779.0</td>\n",
       "      <td>1789922.0</td>\n",
       "      <td>...</td>\n",
       "      <td>1845747.0</td>\n",
       "      <td>1431045.0</td>\n",
       "      <td>1398037.0</td>\n",
       "      <td>10526150.0</td>\n",
       "      <td>1139467.0</td>\n",
       "      <td>516306.0</td>\n",
       "      <td>875749.0</td>\n",
       "      <td>686569.0</td>\n",
       "      <td>274913.0</td>\n",
       "      <td>685349.0</td>\n",
       "    </tr>\n",
       "    <tr>\n",
       "      <th>2022-12-30</th>\n",
       "      <td>699759.0</td>\n",
       "      <td>18959260.0</td>\n",
       "      <td>1004707.0</td>\n",
       "      <td>76904350.0</td>\n",
       "      <td>3679799.0</td>\n",
       "      <td>1209747.0</td>\n",
       "      <td>3469261.0</td>\n",
       "      <td>1116087.0</td>\n",
       "      <td>1339468.0</td>\n",
       "      <td>1740237.0</td>\n",
       "      <td>...</td>\n",
       "      <td>3166563.0</td>\n",
       "      <td>1613718.0</td>\n",
       "      <td>1597003.0</td>\n",
       "      <td>11790980.0</td>\n",
       "      <td>1352751.0</td>\n",
       "      <td>548889.0</td>\n",
       "      <td>1401328.0</td>\n",
       "      <td>785116.0</td>\n",
       "      <td>228188.0</td>\n",
       "      <td>609715.0</td>\n",
       "    </tr>\n",
       "  </tbody>\n",
       "</table>\n",
       "<p>2518 rows × 463 columns</p>\n",
       "</div>"
      ],
      "text/plain": [
       "                    A         AAL        AAP        AAPL        ABBV  \\\n",
       "Date                                                                   \n",
       "2013-01-02  6290038.0  43167060.0   800421.0  19986670.0  13767660.0   \n",
       "2013-01-03  4114289.0  43167060.0   520539.0  12579170.0  16739210.0   \n",
       "2013-01-04  4601506.0  43167060.0   614933.0  21196320.0  21372200.0   \n",
       "2013-01-07  2567557.0  43167060.0  1051969.0  17262620.0  17896920.0   \n",
       "2013-01-08  2787813.0  43167060.0   840003.0  16350190.0  17863000.0   \n",
       "...               ...         ...        ...         ...         ...   \n",
       "2022-12-23   779426.0  17160810.0   524534.0  63755280.0   2684724.0   \n",
       "2022-12-27   879543.0  18836880.0   717073.0  68887690.0   2669090.0   \n",
       "2022-12-28   784312.0  20388570.0   685513.0  85247210.0   2944327.0   \n",
       "2022-12-29   854026.0  19652320.0   719051.0  75569790.0   3112518.0   \n",
       "2022-12-30   699759.0  18959260.0  1004707.0  76904350.0   3679799.0   \n",
       "\n",
       "                  ABC         ABT       ACGL        ACN       ADBE  ...  \\\n",
       "Date                                                                ...   \n",
       "2013-01-02  1972401.0  20266410.0   977536.0  4039095.0  6483720.0  ...   \n",
       "2013-01-03  2027242.0  22148090.0   655362.0  3340674.0  3905904.0  ...   \n",
       "2013-01-04  2462183.0  15819140.0   530563.0  3145680.0  3809146.0  ...   \n",
       "2013-01-07  1803504.0  13121470.0   423123.0  2262426.0  3632022.0  ...   \n",
       "2013-01-08  1533163.0  15053860.0   580903.0  2468876.0  3080868.0  ...   \n",
       "...               ...         ...        ...        ...        ...  ...   \n",
       "2022-12-23   528005.0   2618369.0   890265.0  1213251.0  1627915.0  ...   \n",
       "2022-12-27   740310.0   2927352.0   666705.0  1009563.0  1463215.0  ...   \n",
       "2022-12-28   804725.0   3264409.0  1107929.0  1386969.0  1668511.0  ...   \n",
       "2022-12-29  1478972.0   3047818.0  1063408.0  1516779.0  1789922.0  ...   \n",
       "2022-12-30  1209747.0   3469261.0  1116087.0  1339468.0  1740237.0  ...   \n",
       "\n",
       "                   WY       WYNN        XEL         XOM       XRAY        XYL  \\\n",
       "Date                                                                            \n",
       "2013-01-02  6594952.0  2486815.0  2702053.0  16144970.0   856539.0   927252.0   \n",
       "2013-01-03  3967047.0  1731879.0  2403510.0  13268470.0   525445.0   610706.0   \n",
       "2013-01-04  3624749.0  2129025.0  1743995.0  11427870.0   660389.0   563325.0   \n",
       "2013-01-07  2450680.0  1500928.0  2853210.0  11799780.0   554059.0   481287.0   \n",
       "2013-01-08  5203250.0   975921.0  3762904.0  14228400.0   698803.0  1084482.0   \n",
       "...               ...        ...        ...         ...        ...        ...   \n",
       "2022-12-23  1932785.0  1134475.0  1201346.0  11534290.0  1264320.0   321094.0   \n",
       "2022-12-27  2265992.0  4024281.0  1580610.0  11874640.0   998778.0   468173.0   \n",
       "2022-12-28  2244112.0  2131050.0  1513689.0  10675270.0  1430535.0   480378.0   \n",
       "2022-12-29  1845747.0  1431045.0  1398037.0  10526150.0  1139467.0   516306.0   \n",
       "2022-12-30  3166563.0  1613718.0  1597003.0  11790980.0  1352751.0   548889.0   \n",
       "\n",
       "                   YUM        ZBH      ZBRA       ZION  \n",
       "Date                                                    \n",
       "2013-01-02   4376855.0  1397462.0  213748.0  2551059.0  \n",
       "2013-01-03   2627253.0  1574966.0   99849.0  2267804.0  \n",
       "2013-01-04   2719375.0  1189537.0  145944.0  3577660.0  \n",
       "2013-01-07   3729703.0   954238.0   90581.0  2285917.0  \n",
       "2013-01-08  12406140.0   905965.0  112590.0  3758558.0  \n",
       "...                ...        ...       ...        ...  \n",
       "2022-12-23    699735.0   789770.0  180932.0  1263345.0  \n",
       "2022-12-27   1299183.0   742499.0  252510.0   704184.0  \n",
       "2022-12-28    964755.0   750108.0  241209.0   679957.0  \n",
       "2022-12-29    875749.0   686569.0  274913.0   685349.0  \n",
       "2022-12-30   1401328.0   785116.0  228188.0   609715.0  \n",
       "\n",
       "[2518 rows x 463 columns]"
      ]
     },
     "execution_count": 76,
     "metadata": {},
     "output_type": "execute_result"
    }
   ],
   "source": [
    "df_volume_clean_wrds"
   ]
  },
  {
   "cell_type": "code",
   "execution_count": null,
   "metadata": {},
   "outputs": [
    {
     "data": {
      "text/plain": [
       "Date\n",
       "2013-12-31    2.273725e+09\n",
       "2014-12-31    2.081439e+09\n",
       "2015-12-31    2.183814e+09\n",
       "2016-12-31    2.282949e+09\n",
       "2017-12-31    2.031400e+09\n",
       "2018-12-31    2.299419e+09\n",
       "2019-12-31    1.918719e+09\n",
       "2020-12-31    2.552718e+09\n",
       "2021-12-31    2.057483e+09\n",
       "2022-12-31    2.351651e+09\n",
       "Freq: A-DEC, dtype: float64"
      ]
     },
     "execution_count": 97,
     "metadata": {},
     "output_type": "execute_result"
    }
   ],
   "source": [
    " df_volume_clean_wrds.resample('Y').mean().sum(axis=1)"
   ]
  },
  {
   "cell_type": "code",
   "execution_count": null,
   "metadata": {},
   "outputs": [
    {
     "ename": "NameError",
     "evalue": "name 'df_volume_clean_wrds' is not defined",
     "output_type": "error",
     "traceback": [
      "\u001b[1;31m---------------------------------------------------------------------------\u001b[0m",
      "\u001b[1;31mNameError\u001b[0m                                 Traceback (most recent call last)",
      "Cell \u001b[1;32mIn[1], line 1\u001b[0m\n\u001b[1;32m----> 1\u001b[0m df_volume_clean_wrds\n",
      "\u001b[1;31mNameError\u001b[0m: name 'df_volume_clean_wrds' is not defined"
     ]
    }
   ],
   "source": [
    "df_volume_clean_wrds"
   ]
  },
  {
   "cell_type": "code",
   "execution_count": null,
   "metadata": {},
   "outputs": [],
   "source": [
    "mean_yearly_volume_per_stock = df_volume_clean_wrds.resample('Y').mean()\n"
   ]
  },
  {
   "cell_type": "code",
   "execution_count": null,
   "metadata": {},
   "outputs": [],
   "source": [
    "summed_yearly_volume_per_stock = df_volume_clean_wrds.sum()"
   ]
  },
  {
   "cell_type": "code",
   "execution_count": null,
   "metadata": {},
   "outputs": [
    {
     "data": {
      "text/plain": [
       "Date\n",
       "2013-12-31    1.237535e+09\n",
       "2014-12-31    1.132878e+09\n",
       "2015-12-31    1.188599e+09\n",
       "2016-12-31    1.242555e+09\n",
       "2017-12-31    1.101256e+09\n",
       "2018-12-31    1.246553e+09\n",
       "2019-12-31    1.044313e+09\n",
       "2020-12-31    1.394898e+09\n",
       "2021-12-31    1.119839e+09\n",
       "2022-12-31    1.274869e+09\n",
       "Freq: A-DEC, dtype: float64"
      ]
     },
     "execution_count": 92,
     "metadata": {},
     "output_type": "execute_result"
    }
   ],
   "source": [
    "summed_yearly_volume_per_stock.mean(axis=1)\n"
   ]
  },
  {
   "cell_type": "code",
   "execution_count": null,
   "metadata": {},
   "outputs": [
    {
     "data": {
      "text/html": [
       "<div>\n",
       "<style scoped>\n",
       "    .dataframe tbody tr th:only-of-type {\n",
       "        vertical-align: middle;\n",
       "    }\n",
       "\n",
       "    .dataframe tbody tr th {\n",
       "        vertical-align: top;\n",
       "    }\n",
       "\n",
       "    .dataframe thead th {\n",
       "        text-align: right;\n",
       "    }\n",
       "</style>\n",
       "<table border=\"1\" class=\"dataframe\">\n",
       "  <thead>\n",
       "    <tr style=\"text-align: right;\">\n",
       "      <th></th>\n",
       "      <th>A</th>\n",
       "      <th>AAL</th>\n",
       "      <th>AAP</th>\n",
       "      <th>AAPL</th>\n",
       "      <th>ABBV</th>\n",
       "      <th>ABC</th>\n",
       "      <th>ABT</th>\n",
       "      <th>ACGL</th>\n",
       "      <th>ACN</th>\n",
       "      <th>ADBE</th>\n",
       "      <th>...</th>\n",
       "      <th>WY</th>\n",
       "      <th>WYNN</th>\n",
       "      <th>XEL</th>\n",
       "      <th>XOM</th>\n",
       "      <th>XRAY</th>\n",
       "      <th>XYL</th>\n",
       "      <th>YUM</th>\n",
       "      <th>ZBH</th>\n",
       "      <th>ZBRA</th>\n",
       "      <th>ZION</th>\n",
       "    </tr>\n",
       "    <tr>\n",
       "      <th>Date</th>\n",
       "      <th></th>\n",
       "      <th></th>\n",
       "      <th></th>\n",
       "      <th></th>\n",
       "      <th></th>\n",
       "      <th></th>\n",
       "      <th></th>\n",
       "      <th></th>\n",
       "      <th></th>\n",
       "      <th></th>\n",
       "      <th></th>\n",
       "      <th></th>\n",
       "      <th></th>\n",
       "      <th></th>\n",
       "      <th></th>\n",
       "      <th></th>\n",
       "      <th></th>\n",
       "      <th></th>\n",
       "      <th></th>\n",
       "      <th></th>\n",
       "      <th></th>\n",
       "    </tr>\n",
       "  </thead>\n",
       "  <tbody>\n",
       "    <tr>\n",
       "      <th>2013-12-31</th>\n",
       "      <td>3.045449e+06</td>\n",
       "      <td>4.131149e+07</td>\n",
       "      <td>7.816195e+05</td>\n",
       "      <td>1.445025e+07</td>\n",
       "      <td>6.257611e+06</td>\n",
       "      <td>1.990433e+06</td>\n",
       "      <td>8.060460e+06</td>\n",
       "      <td>4.436165e+05</td>\n",
       "      <td>3.099721e+06</td>\n",
       "      <td>3.592994e+06</td>\n",
       "      <td>...</td>\n",
       "      <td>4.695080e+06</td>\n",
       "      <td>1.250706e+06</td>\n",
       "      <td>3.301607e+06</td>\n",
       "      <td>1.262712e+07</td>\n",
       "      <td>7.688385e+05</td>\n",
       "      <td>1.255856e+06</td>\n",
       "      <td>3.634615e+06</td>\n",
       "      <td>1.054791e+06</td>\n",
       "      <td>174106.337302</td>\n",
       "      <td>2.078601e+06</td>\n",
       "    </tr>\n",
       "    <tr>\n",
       "      <th>2014-12-31</th>\n",
       "      <td>2.272985e+06</td>\n",
       "      <td>1.238078e+07</td>\n",
       "      <td>7.949913e+05</td>\n",
       "      <td>3.452680e+07</td>\n",
       "      <td>9.130938e+06</td>\n",
       "      <td>1.698106e+06</td>\n",
       "      <td>6.013064e+06</td>\n",
       "      <td>5.164888e+05</td>\n",
       "      <td>2.799480e+06</td>\n",
       "      <td>3.354736e+06</td>\n",
       "      <td>...</td>\n",
       "      <td>4.641452e+06</td>\n",
       "      <td>1.795404e+06</td>\n",
       "      <td>2.740702e+06</td>\n",
       "      <td>1.172101e+07</td>\n",
       "      <td>8.334123e+05</td>\n",
       "      <td>1.013436e+06</td>\n",
       "      <td>3.152440e+06</td>\n",
       "      <td>1.237488e+06</td>\n",
       "      <td>471274.000000</td>\n",
       "      <td>2.466435e+06</td>\n",
       "    </tr>\n",
       "    <tr>\n",
       "      <th>2015-12-31</th>\n",
       "      <td>2.559315e+06</td>\n",
       "      <td>1.153099e+07</td>\n",
       "      <td>1.059096e+06</td>\n",
       "      <td>5.164626e+07</td>\n",
       "      <td>1.046825e+07</td>\n",
       "      <td>2.043598e+06</td>\n",
       "      <td>5.817286e+06</td>\n",
       "      <td>4.519217e+05</td>\n",
       "      <td>2.481861e+06</td>\n",
       "      <td>2.791614e+06</td>\n",
       "      <td>...</td>\n",
       "      <td>3.727376e+06</td>\n",
       "      <td>3.208687e+06</td>\n",
       "      <td>3.302383e+06</td>\n",
       "      <td>1.406299e+07</td>\n",
       "      <td>9.482419e+05</td>\n",
       "      <td>1.137982e+06</td>\n",
       "      <td>4.075438e+06</td>\n",
       "      <td>1.231677e+06</td>\n",
       "      <td>530913.865079</td>\n",
       "      <td>2.707760e+06</td>\n",
       "    </tr>\n",
       "    <tr>\n",
       "      <th>2016-12-31</th>\n",
       "      <td>2.081338e+06</td>\n",
       "      <td>9.160580e+06</td>\n",
       "      <td>1.033338e+06</td>\n",
       "      <td>3.826767e+07</td>\n",
       "      <td>7.995381e+06</td>\n",
       "      <td>2.543463e+06</td>\n",
       "      <td>9.061932e+06</td>\n",
       "      <td>3.796295e+05</td>\n",
       "      <td>2.555518e+06</td>\n",
       "      <td>2.822106e+06</td>\n",
       "      <td>...</td>\n",
       "      <td>4.968402e+06</td>\n",
       "      <td>3.417733e+06</td>\n",
       "      <td>3.267105e+06</td>\n",
       "      <td>1.239459e+07</td>\n",
       "      <td>1.649353e+06</td>\n",
       "      <td>1.312734e+06</td>\n",
       "      <td>3.469905e+06</td>\n",
       "      <td>1.571417e+06</td>\n",
       "      <td>648893.698413</td>\n",
       "      <td>3.363428e+06</td>\n",
       "    </tr>\n",
       "    <tr>\n",
       "      <th>2017-12-31</th>\n",
       "      <td>1.846746e+06</td>\n",
       "      <td>5.862530e+06</td>\n",
       "      <td>1.657572e+06</td>\n",
       "      <td>2.700270e+07</td>\n",
       "      <td>5.967196e+06</td>\n",
       "      <td>1.785437e+06</td>\n",
       "      <td>6.598606e+06</td>\n",
       "      <td>4.590920e+05</td>\n",
       "      <td>2.114190e+06</td>\n",
       "      <td>2.460035e+06</td>\n",
       "      <td>...</td>\n",
       "      <td>3.253748e+06</td>\n",
       "      <td>1.987586e+06</td>\n",
       "      <td>2.628906e+06</td>\n",
       "      <td>1.090880e+07</td>\n",
       "      <td>1.621055e+06</td>\n",
       "      <td>1.178522e+06</td>\n",
       "      <td>2.142878e+06</td>\n",
       "      <td>1.359164e+06</td>\n",
       "      <td>328787.872510</td>\n",
       "      <td>2.478809e+06</td>\n",
       "    </tr>\n",
       "    <tr>\n",
       "      <th>2018-12-31</th>\n",
       "      <td>2.544049e+06</td>\n",
       "      <td>6.842145e+06</td>\n",
       "      <td>1.142888e+06</td>\n",
       "      <td>3.376838e+07</td>\n",
       "      <td>7.019459e+06</td>\n",
       "      <td>1.546483e+06</td>\n",
       "      <td>6.179530e+06</td>\n",
       "      <td>9.331440e+05</td>\n",
       "      <td>2.235993e+06</td>\n",
       "      <td>3.259894e+06</td>\n",
       "      <td>...</td>\n",
       "      <td>4.486538e+06</td>\n",
       "      <td>3.151586e+06</td>\n",
       "      <td>3.682863e+06</td>\n",
       "      <td>1.348126e+07</td>\n",
       "      <td>2.712300e+06</td>\n",
       "      <td>1.103273e+06</td>\n",
       "      <td>2.110327e+06</td>\n",
       "      <td>1.193503e+06</td>\n",
       "      <td>402520.378486</td>\n",
       "      <td>2.351557e+06</td>\n",
       "    </tr>\n",
       "    <tr>\n",
       "      <th>2019-12-31</th>\n",
       "      <td>2.149770e+06</td>\n",
       "      <td>6.974919e+06</td>\n",
       "      <td>1.125318e+06</td>\n",
       "      <td>2.794224e+07</td>\n",
       "      <td>7.814414e+06</td>\n",
       "      <td>1.326785e+06</td>\n",
       "      <td>5.144075e+06</td>\n",
       "      <td>1.241748e+06</td>\n",
       "      <td>1.851884e+06</td>\n",
       "      <td>2.651977e+06</td>\n",
       "      <td>...</td>\n",
       "      <td>4.126360e+06</td>\n",
       "      <td>2.032719e+06</td>\n",
       "      <td>3.203835e+06</td>\n",
       "      <td>1.159706e+07</td>\n",
       "      <td>1.669033e+06</td>\n",
       "      <td>8.411636e+05</td>\n",
       "      <td>1.710212e+06</td>\n",
       "      <td>1.133707e+06</td>\n",
       "      <td>558678.773810</td>\n",
       "      <td>2.232458e+06</td>\n",
       "    </tr>\n",
       "    <tr>\n",
       "      <th>2020-12-31</th>\n",
       "      <td>1.849400e+06</td>\n",
       "      <td>6.772373e+07</td>\n",
       "      <td>9.835181e+05</td>\n",
       "      <td>7.297082e+07</td>\n",
       "      <td>9.429728e+06</td>\n",
       "      <td>1.288009e+06</td>\n",
       "      <td>6.686208e+06</td>\n",
       "      <td>2.038213e+06</td>\n",
       "      <td>2.315411e+06</td>\n",
       "      <td>3.065785e+06</td>\n",
       "      <td>...</td>\n",
       "      <td>5.043295e+06</td>\n",
       "      <td>4.745901e+06</td>\n",
       "      <td>3.070552e+06</td>\n",
       "      <td>2.876056e+07</td>\n",
       "      <td>1.803349e+06</td>\n",
       "      <td>1.169193e+06</td>\n",
       "      <td>2.150342e+06</td>\n",
       "      <td>1.376043e+06</td>\n",
       "      <td>407713.592885</td>\n",
       "      <td>2.556167e+06</td>\n",
       "    </tr>\n",
       "    <tr>\n",
       "      <th>2021-12-31</th>\n",
       "      <td>1.619945e+06</td>\n",
       "      <td>3.812482e+07</td>\n",
       "      <td>7.704331e+05</td>\n",
       "      <td>9.012147e+07</td>\n",
       "      <td>6.804253e+06</td>\n",
       "      <td>9.788828e+05</td>\n",
       "      <td>5.343656e+06</td>\n",
       "      <td>2.040180e+06</td>\n",
       "      <td>1.987258e+06</td>\n",
       "      <td>2.365483e+06</td>\n",
       "      <td>...</td>\n",
       "      <td>4.343849e+06</td>\n",
       "      <td>3.344809e+06</td>\n",
       "      <td>2.941258e+06</td>\n",
       "      <td>2.387800e+07</td>\n",
       "      <td>1.500157e+06</td>\n",
       "      <td>8.670148e+05</td>\n",
       "      <td>1.538044e+06</td>\n",
       "      <td>1.373060e+06</td>\n",
       "      <td>279893.392857</td>\n",
       "      <td>1.330721e+06</td>\n",
       "    </tr>\n",
       "    <tr>\n",
       "      <th>2022-12-31</th>\n",
       "      <td>1.700819e+06</td>\n",
       "      <td>3.530782e+07</td>\n",
       "      <td>8.749299e+05</td>\n",
       "      <td>8.760034e+07</td>\n",
       "      <td>6.460884e+06</td>\n",
       "      <td>1.311540e+06</td>\n",
       "      <td>5.513968e+06</td>\n",
       "      <td>2.313695e+06</td>\n",
       "      <td>2.336664e+06</td>\n",
       "      <td>3.553146e+06</td>\n",
       "      <td>...</td>\n",
       "      <td>4.172727e+06</td>\n",
       "      <td>3.291375e+06</td>\n",
       "      <td>3.212659e+06</td>\n",
       "      <td>2.529691e+07</td>\n",
       "      <td>2.216371e+06</td>\n",
       "      <td>1.122237e+06</td>\n",
       "      <td>1.798474e+06</td>\n",
       "      <td>1.387470e+06</td>\n",
       "      <td>444809.027888</td>\n",
       "      <td>1.464125e+06</td>\n",
       "    </tr>\n",
       "  </tbody>\n",
       "</table>\n",
       "<p>10 rows × 463 columns</p>\n",
       "</div>"
      ],
      "text/plain": [
       "                       A           AAL           AAP          AAPL  \\\n",
       "Date                                                                 \n",
       "2013-12-31  3.045449e+06  4.131149e+07  7.816195e+05  1.445025e+07   \n",
       "2014-12-31  2.272985e+06  1.238078e+07  7.949913e+05  3.452680e+07   \n",
       "2015-12-31  2.559315e+06  1.153099e+07  1.059096e+06  5.164626e+07   \n",
       "2016-12-31  2.081338e+06  9.160580e+06  1.033338e+06  3.826767e+07   \n",
       "2017-12-31  1.846746e+06  5.862530e+06  1.657572e+06  2.700270e+07   \n",
       "2018-12-31  2.544049e+06  6.842145e+06  1.142888e+06  3.376838e+07   \n",
       "2019-12-31  2.149770e+06  6.974919e+06  1.125318e+06  2.794224e+07   \n",
       "2020-12-31  1.849400e+06  6.772373e+07  9.835181e+05  7.297082e+07   \n",
       "2021-12-31  1.619945e+06  3.812482e+07  7.704331e+05  9.012147e+07   \n",
       "2022-12-31  1.700819e+06  3.530782e+07  8.749299e+05  8.760034e+07   \n",
       "\n",
       "                    ABBV           ABC           ABT          ACGL  \\\n",
       "Date                                                                 \n",
       "2013-12-31  6.257611e+06  1.990433e+06  8.060460e+06  4.436165e+05   \n",
       "2014-12-31  9.130938e+06  1.698106e+06  6.013064e+06  5.164888e+05   \n",
       "2015-12-31  1.046825e+07  2.043598e+06  5.817286e+06  4.519217e+05   \n",
       "2016-12-31  7.995381e+06  2.543463e+06  9.061932e+06  3.796295e+05   \n",
       "2017-12-31  5.967196e+06  1.785437e+06  6.598606e+06  4.590920e+05   \n",
       "2018-12-31  7.019459e+06  1.546483e+06  6.179530e+06  9.331440e+05   \n",
       "2019-12-31  7.814414e+06  1.326785e+06  5.144075e+06  1.241748e+06   \n",
       "2020-12-31  9.429728e+06  1.288009e+06  6.686208e+06  2.038213e+06   \n",
       "2021-12-31  6.804253e+06  9.788828e+05  5.343656e+06  2.040180e+06   \n",
       "2022-12-31  6.460884e+06  1.311540e+06  5.513968e+06  2.313695e+06   \n",
       "\n",
       "                     ACN          ADBE  ...            WY          WYNN  \\\n",
       "Date                                    ...                               \n",
       "2013-12-31  3.099721e+06  3.592994e+06  ...  4.695080e+06  1.250706e+06   \n",
       "2014-12-31  2.799480e+06  3.354736e+06  ...  4.641452e+06  1.795404e+06   \n",
       "2015-12-31  2.481861e+06  2.791614e+06  ...  3.727376e+06  3.208687e+06   \n",
       "2016-12-31  2.555518e+06  2.822106e+06  ...  4.968402e+06  3.417733e+06   \n",
       "2017-12-31  2.114190e+06  2.460035e+06  ...  3.253748e+06  1.987586e+06   \n",
       "2018-12-31  2.235993e+06  3.259894e+06  ...  4.486538e+06  3.151586e+06   \n",
       "2019-12-31  1.851884e+06  2.651977e+06  ...  4.126360e+06  2.032719e+06   \n",
       "2020-12-31  2.315411e+06  3.065785e+06  ...  5.043295e+06  4.745901e+06   \n",
       "2021-12-31  1.987258e+06  2.365483e+06  ...  4.343849e+06  3.344809e+06   \n",
       "2022-12-31  2.336664e+06  3.553146e+06  ...  4.172727e+06  3.291375e+06   \n",
       "\n",
       "                     XEL           XOM          XRAY           XYL  \\\n",
       "Date                                                                 \n",
       "2013-12-31  3.301607e+06  1.262712e+07  7.688385e+05  1.255856e+06   \n",
       "2014-12-31  2.740702e+06  1.172101e+07  8.334123e+05  1.013436e+06   \n",
       "2015-12-31  3.302383e+06  1.406299e+07  9.482419e+05  1.137982e+06   \n",
       "2016-12-31  3.267105e+06  1.239459e+07  1.649353e+06  1.312734e+06   \n",
       "2017-12-31  2.628906e+06  1.090880e+07  1.621055e+06  1.178522e+06   \n",
       "2018-12-31  3.682863e+06  1.348126e+07  2.712300e+06  1.103273e+06   \n",
       "2019-12-31  3.203835e+06  1.159706e+07  1.669033e+06  8.411636e+05   \n",
       "2020-12-31  3.070552e+06  2.876056e+07  1.803349e+06  1.169193e+06   \n",
       "2021-12-31  2.941258e+06  2.387800e+07  1.500157e+06  8.670148e+05   \n",
       "2022-12-31  3.212659e+06  2.529691e+07  2.216371e+06  1.122237e+06   \n",
       "\n",
       "                     YUM           ZBH           ZBRA          ZION  \n",
       "Date                                                                 \n",
       "2013-12-31  3.634615e+06  1.054791e+06  174106.337302  2.078601e+06  \n",
       "2014-12-31  3.152440e+06  1.237488e+06  471274.000000  2.466435e+06  \n",
       "2015-12-31  4.075438e+06  1.231677e+06  530913.865079  2.707760e+06  \n",
       "2016-12-31  3.469905e+06  1.571417e+06  648893.698413  3.363428e+06  \n",
       "2017-12-31  2.142878e+06  1.359164e+06  328787.872510  2.478809e+06  \n",
       "2018-12-31  2.110327e+06  1.193503e+06  402520.378486  2.351557e+06  \n",
       "2019-12-31  1.710212e+06  1.133707e+06  558678.773810  2.232458e+06  \n",
       "2020-12-31  2.150342e+06  1.376043e+06  407713.592885  2.556167e+06  \n",
       "2021-12-31  1.538044e+06  1.373060e+06  279893.392857  1.330721e+06  \n",
       "2022-12-31  1.798474e+06  1.387470e+06  444809.027888  1.464125e+06  \n",
       "\n",
       "[10 rows x 463 columns]"
      ]
     },
     "execution_count": 88,
     "metadata": {},
     "output_type": "execute_result"
    }
   ],
   "source": [
    "mean_yearly_volume_per_stock"
   ]
  },
  {
   "cell_type": "code",
   "execution_count": null,
   "metadata": {},
   "outputs": [
    {
     "data": {
      "text/html": [
       "<div>\n",
       "<style scoped>\n",
       "    .dataframe tbody tr th:only-of-type {\n",
       "        vertical-align: middle;\n",
       "    }\n",
       "\n",
       "    .dataframe tbody tr th {\n",
       "        vertical-align: top;\n",
       "    }\n",
       "\n",
       "    .dataframe thead th {\n",
       "        text-align: right;\n",
       "    }\n",
       "</style>\n",
       "<table border=\"1\" class=\"dataframe\">\n",
       "  <thead>\n",
       "    <tr style=\"text-align: right;\">\n",
       "      <th></th>\n",
       "      <th>A</th>\n",
       "      <th>AAL</th>\n",
       "      <th>AAP</th>\n",
       "      <th>AAPL</th>\n",
       "      <th>ABBV</th>\n",
       "      <th>ABC</th>\n",
       "      <th>ABT</th>\n",
       "      <th>ACGL</th>\n",
       "      <th>ACN</th>\n",
       "      <th>ADBE</th>\n",
       "      <th>...</th>\n",
       "      <th>WY</th>\n",
       "      <th>WYNN</th>\n",
       "      <th>XEL</th>\n",
       "      <th>XOM</th>\n",
       "      <th>XRAY</th>\n",
       "      <th>XYL</th>\n",
       "      <th>YUM</th>\n",
       "      <th>ZBH</th>\n",
       "      <th>ZBRA</th>\n",
       "      <th>ZION</th>\n",
       "    </tr>\n",
       "    <tr>\n",
       "      <th>Date</th>\n",
       "      <th></th>\n",
       "      <th></th>\n",
       "      <th></th>\n",
       "      <th></th>\n",
       "      <th></th>\n",
       "      <th></th>\n",
       "      <th></th>\n",
       "      <th></th>\n",
       "      <th></th>\n",
       "      <th></th>\n",
       "      <th></th>\n",
       "      <th></th>\n",
       "      <th></th>\n",
       "      <th></th>\n",
       "      <th></th>\n",
       "      <th></th>\n",
       "      <th></th>\n",
       "      <th></th>\n",
       "      <th></th>\n",
       "      <th></th>\n",
       "      <th></th>\n",
       "    </tr>\n",
       "  </thead>\n",
       "  <tbody>\n",
       "    <tr>\n",
       "      <th>2013-12-31</th>\n",
       "      <td>767453144.0</td>\n",
       "      <td>1.041050e+10</td>\n",
       "      <td>196968125.0</td>\n",
       "      <td>3.641464e+09</td>\n",
       "      <td>1.576918e+09</td>\n",
       "      <td>501589171.0</td>\n",
       "      <td>2.031236e+09</td>\n",
       "      <td>111791346.0</td>\n",
       "      <td>781129646.0</td>\n",
       "      <td>905434416.0</td>\n",
       "      <td>...</td>\n",
       "      <td>1.183160e+09</td>\n",
       "      <td>3.151779e+08</td>\n",
       "      <td>832004873.0</td>\n",
       "      <td>3.182034e+09</td>\n",
       "      <td>193747292.0</td>\n",
       "      <td>316475586.0</td>\n",
       "      <td>9.159229e+08</td>\n",
       "      <td>265807348.0</td>\n",
       "      <td>43874797.0</td>\n",
       "      <td>523807529.0</td>\n",
       "    </tr>\n",
       "    <tr>\n",
       "      <th>2014-12-31</th>\n",
       "      <td>572792205.0</td>\n",
       "      <td>3.119956e+09</td>\n",
       "      <td>200337816.0</td>\n",
       "      <td>8.700754e+09</td>\n",
       "      <td>2.300996e+09</td>\n",
       "      <td>427922742.0</td>\n",
       "      <td>1.515292e+09</td>\n",
       "      <td>130155176.0</td>\n",
       "      <td>705468864.0</td>\n",
       "      <td>845393387.0</td>\n",
       "      <td>...</td>\n",
       "      <td>1.169646e+09</td>\n",
       "      <td>4.524419e+08</td>\n",
       "      <td>690657014.0</td>\n",
       "      <td>2.953694e+09</td>\n",
       "      <td>210019905.0</td>\n",
       "      <td>255385755.0</td>\n",
       "      <td>7.944149e+08</td>\n",
       "      <td>311846858.0</td>\n",
       "      <td>118761048.0</td>\n",
       "      <td>621541534.0</td>\n",
       "    </tr>\n",
       "    <tr>\n",
       "      <th>2015-12-31</th>\n",
       "      <td>644947386.0</td>\n",
       "      <td>2.905810e+09</td>\n",
       "      <td>266892101.0</td>\n",
       "      <td>1.301486e+10</td>\n",
       "      <td>2.638000e+09</td>\n",
       "      <td>514986674.0</td>\n",
       "      <td>1.465956e+09</td>\n",
       "      <td>113884277.0</td>\n",
       "      <td>625429030.0</td>\n",
       "      <td>703486686.0</td>\n",
       "      <td>...</td>\n",
       "      <td>9.392988e+08</td>\n",
       "      <td>8.085892e+08</td>\n",
       "      <td>832200460.0</td>\n",
       "      <td>3.543873e+09</td>\n",
       "      <td>238956966.0</td>\n",
       "      <td>286771494.0</td>\n",
       "      <td>1.027010e+09</td>\n",
       "      <td>310382529.0</td>\n",
       "      <td>133790294.0</td>\n",
       "      <td>682355398.0</td>\n",
       "    </tr>\n",
       "    <tr>\n",
       "      <th>2016-12-31</th>\n",
       "      <td>524497072.0</td>\n",
       "      <td>2.308466e+09</td>\n",
       "      <td>260401211.0</td>\n",
       "      <td>9.643454e+09</td>\n",
       "      <td>2.014836e+09</td>\n",
       "      <td>640952754.0</td>\n",
       "      <td>2.283607e+09</td>\n",
       "      <td>95666634.0</td>\n",
       "      <td>643990584.0</td>\n",
       "      <td>711170803.0</td>\n",
       "      <td>...</td>\n",
       "      <td>1.252037e+09</td>\n",
       "      <td>8.612687e+08</td>\n",
       "      <td>823310527.0</td>\n",
       "      <td>3.123437e+09</td>\n",
       "      <td>415636987.0</td>\n",
       "      <td>330809056.0</td>\n",
       "      <td>8.744160e+08</td>\n",
       "      <td>395997079.0</td>\n",
       "      <td>163521212.0</td>\n",
       "      <td>847583846.0</td>\n",
       "    </tr>\n",
       "    <tr>\n",
       "      <th>2017-12-31</th>\n",
       "      <td>463533363.0</td>\n",
       "      <td>1.471495e+09</td>\n",
       "      <td>416050529.0</td>\n",
       "      <td>6.777678e+09</td>\n",
       "      <td>1.497766e+09</td>\n",
       "      <td>448144752.0</td>\n",
       "      <td>1.656250e+09</td>\n",
       "      <td>115232093.0</td>\n",
       "      <td>530661713.0</td>\n",
       "      <td>617468777.0</td>\n",
       "      <td>...</td>\n",
       "      <td>8.166907e+08</td>\n",
       "      <td>4.988840e+08</td>\n",
       "      <td>659855408.0</td>\n",
       "      <td>2.738108e+09</td>\n",
       "      <td>406884728.0</td>\n",
       "      <td>295809059.0</td>\n",
       "      <td>5.378625e+08</td>\n",
       "      <td>341150227.0</td>\n",
       "      <td>82525756.0</td>\n",
       "      <td>622180999.0</td>\n",
       "    </tr>\n",
       "    <tr>\n",
       "      <th>2018-12-31</th>\n",
       "      <td>638556192.0</td>\n",
       "      <td>1.717378e+09</td>\n",
       "      <td>286864831.0</td>\n",
       "      <td>8.475864e+09</td>\n",
       "      <td>1.761884e+09</td>\n",
       "      <td>388167302.0</td>\n",
       "      <td>1.551062e+09</td>\n",
       "      <td>234219148.0</td>\n",
       "      <td>561234169.0</td>\n",
       "      <td>818233399.0</td>\n",
       "      <td>...</td>\n",
       "      <td>1.126121e+09</td>\n",
       "      <td>7.910482e+08</td>\n",
       "      <td>924398608.0</td>\n",
       "      <td>3.383795e+09</td>\n",
       "      <td>680787272.0</td>\n",
       "      <td>276921522.0</td>\n",
       "      <td>5.296921e+08</td>\n",
       "      <td>299569167.0</td>\n",
       "      <td>101032615.0</td>\n",
       "      <td>590240925.0</td>\n",
       "    </tr>\n",
       "    <tr>\n",
       "      <th>2019-12-31</th>\n",
       "      <td>541741999.0</td>\n",
       "      <td>1.757680e+09</td>\n",
       "      <td>283580145.0</td>\n",
       "      <td>7.041445e+09</td>\n",
       "      <td>1.969232e+09</td>\n",
       "      <td>334349821.0</td>\n",
       "      <td>1.296307e+09</td>\n",
       "      <td>312920482.0</td>\n",
       "      <td>466674709.0</td>\n",
       "      <td>668298320.0</td>\n",
       "      <td>...</td>\n",
       "      <td>1.039843e+09</td>\n",
       "      <td>5.122453e+08</td>\n",
       "      <td>807366295.0</td>\n",
       "      <td>2.922459e+09</td>\n",
       "      <td>420596285.0</td>\n",
       "      <td>211973217.0</td>\n",
       "      <td>4.309735e+08</td>\n",
       "      <td>285694055.0</td>\n",
       "      <td>140787051.0</td>\n",
       "      <td>562579511.0</td>\n",
       "    </tr>\n",
       "    <tr>\n",
       "      <th>2020-12-31</th>\n",
       "      <td>467898125.0</td>\n",
       "      <td>1.713410e+10</td>\n",
       "      <td>248830071.0</td>\n",
       "      <td>1.846162e+10</td>\n",
       "      <td>2.385721e+09</td>\n",
       "      <td>325866310.0</td>\n",
       "      <td>1.691611e+09</td>\n",
       "      <td>515667954.0</td>\n",
       "      <td>585799043.0</td>\n",
       "      <td>775643483.0</td>\n",
       "      <td>...</td>\n",
       "      <td>1.275954e+09</td>\n",
       "      <td>1.200713e+09</td>\n",
       "      <td>776849560.0</td>\n",
       "      <td>7.276422e+09</td>\n",
       "      <td>456247392.0</td>\n",
       "      <td>295805943.0</td>\n",
       "      <td>5.440366e+08</td>\n",
       "      <td>348138802.0</td>\n",
       "      <td>103151539.0</td>\n",
       "      <td>646710209.0</td>\n",
       "    </tr>\n",
       "    <tr>\n",
       "      <th>2021-12-31</th>\n",
       "      <td>408226151.0</td>\n",
       "      <td>9.607454e+09</td>\n",
       "      <td>194149148.0</td>\n",
       "      <td>2.271061e+10</td>\n",
       "      <td>1.714672e+09</td>\n",
       "      <td>246678461.0</td>\n",
       "      <td>1.346601e+09</td>\n",
       "      <td>514125398.0</td>\n",
       "      <td>500788983.0</td>\n",
       "      <td>596101759.0</td>\n",
       "      <td>...</td>\n",
       "      <td>1.094650e+09</td>\n",
       "      <td>8.428919e+08</td>\n",
       "      <td>741197083.0</td>\n",
       "      <td>6.017257e+09</td>\n",
       "      <td>378039671.0</td>\n",
       "      <td>218487732.0</td>\n",
       "      <td>3.875870e+08</td>\n",
       "      <td>346011189.0</td>\n",
       "      <td>70533135.0</td>\n",
       "      <td>335341777.0</td>\n",
       "    </tr>\n",
       "    <tr>\n",
       "      <th>2022-12-31</th>\n",
       "      <td>426905585.0</td>\n",
       "      <td>8.862263e+09</td>\n",
       "      <td>219607410.0</td>\n",
       "      <td>2.198769e+10</td>\n",
       "      <td>1.621682e+09</td>\n",
       "      <td>329196658.0</td>\n",
       "      <td>1.384006e+09</td>\n",
       "      <td>580737472.0</td>\n",
       "      <td>586502684.0</td>\n",
       "      <td>891839629.0</td>\n",
       "      <td>...</td>\n",
       "      <td>1.047355e+09</td>\n",
       "      <td>8.261351e+08</td>\n",
       "      <td>806377415.0</td>\n",
       "      <td>6.349525e+09</td>\n",
       "      <td>556309029.0</td>\n",
       "      <td>281681414.0</td>\n",
       "      <td>4.514170e+08</td>\n",
       "      <td>348255093.0</td>\n",
       "      <td>111647066.0</td>\n",
       "      <td>367495355.0</td>\n",
       "    </tr>\n",
       "  </tbody>\n",
       "</table>\n",
       "<p>10 rows × 463 columns</p>\n",
       "</div>"
      ],
      "text/plain": [
       "                      A           AAL          AAP          AAPL  \\\n",
       "Date                                                               \n",
       "2013-12-31  767453144.0  1.041050e+10  196968125.0  3.641464e+09   \n",
       "2014-12-31  572792205.0  3.119956e+09  200337816.0  8.700754e+09   \n",
       "2015-12-31  644947386.0  2.905810e+09  266892101.0  1.301486e+10   \n",
       "2016-12-31  524497072.0  2.308466e+09  260401211.0  9.643454e+09   \n",
       "2017-12-31  463533363.0  1.471495e+09  416050529.0  6.777678e+09   \n",
       "2018-12-31  638556192.0  1.717378e+09  286864831.0  8.475864e+09   \n",
       "2019-12-31  541741999.0  1.757680e+09  283580145.0  7.041445e+09   \n",
       "2020-12-31  467898125.0  1.713410e+10  248830071.0  1.846162e+10   \n",
       "2021-12-31  408226151.0  9.607454e+09  194149148.0  2.271061e+10   \n",
       "2022-12-31  426905585.0  8.862263e+09  219607410.0  2.198769e+10   \n",
       "\n",
       "                    ABBV          ABC           ABT         ACGL          ACN  \\\n",
       "Date                                                                            \n",
       "2013-12-31  1.576918e+09  501589171.0  2.031236e+09  111791346.0  781129646.0   \n",
       "2014-12-31  2.300996e+09  427922742.0  1.515292e+09  130155176.0  705468864.0   \n",
       "2015-12-31  2.638000e+09  514986674.0  1.465956e+09  113884277.0  625429030.0   \n",
       "2016-12-31  2.014836e+09  640952754.0  2.283607e+09   95666634.0  643990584.0   \n",
       "2017-12-31  1.497766e+09  448144752.0  1.656250e+09  115232093.0  530661713.0   \n",
       "2018-12-31  1.761884e+09  388167302.0  1.551062e+09  234219148.0  561234169.0   \n",
       "2019-12-31  1.969232e+09  334349821.0  1.296307e+09  312920482.0  466674709.0   \n",
       "2020-12-31  2.385721e+09  325866310.0  1.691611e+09  515667954.0  585799043.0   \n",
       "2021-12-31  1.714672e+09  246678461.0  1.346601e+09  514125398.0  500788983.0   \n",
       "2022-12-31  1.621682e+09  329196658.0  1.384006e+09  580737472.0  586502684.0   \n",
       "\n",
       "                   ADBE  ...            WY          WYNN          XEL  \\\n",
       "Date                     ...                                            \n",
       "2013-12-31  905434416.0  ...  1.183160e+09  3.151779e+08  832004873.0   \n",
       "2014-12-31  845393387.0  ...  1.169646e+09  4.524419e+08  690657014.0   \n",
       "2015-12-31  703486686.0  ...  9.392988e+08  8.085892e+08  832200460.0   \n",
       "2016-12-31  711170803.0  ...  1.252037e+09  8.612687e+08  823310527.0   \n",
       "2017-12-31  617468777.0  ...  8.166907e+08  4.988840e+08  659855408.0   \n",
       "2018-12-31  818233399.0  ...  1.126121e+09  7.910482e+08  924398608.0   \n",
       "2019-12-31  668298320.0  ...  1.039843e+09  5.122453e+08  807366295.0   \n",
       "2020-12-31  775643483.0  ...  1.275954e+09  1.200713e+09  776849560.0   \n",
       "2021-12-31  596101759.0  ...  1.094650e+09  8.428919e+08  741197083.0   \n",
       "2022-12-31  891839629.0  ...  1.047355e+09  8.261351e+08  806377415.0   \n",
       "\n",
       "                     XOM         XRAY          XYL           YUM          ZBH  \\\n",
       "Date                                                                            \n",
       "2013-12-31  3.182034e+09  193747292.0  316475586.0  9.159229e+08  265807348.0   \n",
       "2014-12-31  2.953694e+09  210019905.0  255385755.0  7.944149e+08  311846858.0   \n",
       "2015-12-31  3.543873e+09  238956966.0  286771494.0  1.027010e+09  310382529.0   \n",
       "2016-12-31  3.123437e+09  415636987.0  330809056.0  8.744160e+08  395997079.0   \n",
       "2017-12-31  2.738108e+09  406884728.0  295809059.0  5.378625e+08  341150227.0   \n",
       "2018-12-31  3.383795e+09  680787272.0  276921522.0  5.296921e+08  299569167.0   \n",
       "2019-12-31  2.922459e+09  420596285.0  211973217.0  4.309735e+08  285694055.0   \n",
       "2020-12-31  7.276422e+09  456247392.0  295805943.0  5.440366e+08  348138802.0   \n",
       "2021-12-31  6.017257e+09  378039671.0  218487732.0  3.875870e+08  346011189.0   \n",
       "2022-12-31  6.349525e+09  556309029.0  281681414.0  4.514170e+08  348255093.0   \n",
       "\n",
       "                   ZBRA         ZION  \n",
       "Date                                  \n",
       "2013-12-31   43874797.0  523807529.0  \n",
       "2014-12-31  118761048.0  621541534.0  \n",
       "2015-12-31  133790294.0  682355398.0  \n",
       "2016-12-31  163521212.0  847583846.0  \n",
       "2017-12-31   82525756.0  622180999.0  \n",
       "2018-12-31  101032615.0  590240925.0  \n",
       "2019-12-31  140787051.0  562579511.0  \n",
       "2020-12-31  103151539.0  646710209.0  \n",
       "2021-12-31   70533135.0  335341777.0  \n",
       "2022-12-31  111647066.0  367495355.0  \n",
       "\n",
       "[10 rows x 463 columns]"
      ]
     },
     "execution_count": 87,
     "metadata": {},
     "output_type": "execute_result"
    }
   ],
   "source": [
    "summed_yearly_volume_per_stock"
   ]
  },
  {
   "cell_type": "code",
   "execution_count": null,
   "metadata": {},
   "outputs": [
    {
     "data": {
      "text/html": [
       "<div>\n",
       "<style scoped>\n",
       "    .dataframe tbody tr th:only-of-type {\n",
       "        vertical-align: middle;\n",
       "    }\n",
       "\n",
       "    .dataframe tbody tr th {\n",
       "        vertical-align: top;\n",
       "    }\n",
       "\n",
       "    .dataframe thead th {\n",
       "        text-align: right;\n",
       "    }\n",
       "</style>\n",
       "<table border=\"1\" class=\"dataframe\">\n",
       "  <thead>\n",
       "    <tr style=\"text-align: right;\">\n",
       "      <th></th>\n",
       "      <th>A</th>\n",
       "      <th>AAL</th>\n",
       "      <th>AAP</th>\n",
       "      <th>AAPL</th>\n",
       "      <th>ABBV</th>\n",
       "      <th>ABC</th>\n",
       "      <th>ABT</th>\n",
       "      <th>ACGL</th>\n",
       "      <th>ACN</th>\n",
       "      <th>ADBE</th>\n",
       "      <th>...</th>\n",
       "      <th>WY</th>\n",
       "      <th>WYNN</th>\n",
       "      <th>XEL</th>\n",
       "      <th>XOM</th>\n",
       "      <th>XRAY</th>\n",
       "      <th>XYL</th>\n",
       "      <th>YUM</th>\n",
       "      <th>ZBH</th>\n",
       "      <th>ZBRA</th>\n",
       "      <th>ZION</th>\n",
       "    </tr>\n",
       "    <tr>\n",
       "      <th>Date</th>\n",
       "      <th></th>\n",
       "      <th></th>\n",
       "      <th></th>\n",
       "      <th></th>\n",
       "      <th></th>\n",
       "      <th></th>\n",
       "      <th></th>\n",
       "      <th></th>\n",
       "      <th></th>\n",
       "      <th></th>\n",
       "      <th></th>\n",
       "      <th></th>\n",
       "      <th></th>\n",
       "      <th></th>\n",
       "      <th></th>\n",
       "      <th></th>\n",
       "      <th></th>\n",
       "      <th></th>\n",
       "      <th></th>\n",
       "      <th></th>\n",
       "      <th></th>\n",
       "    </tr>\n",
       "  </thead>\n",
       "  <tbody>\n",
       "    <tr>\n",
       "      <th>2013-12-31</th>\n",
       "      <td>252.0</td>\n",
       "      <td>252.0</td>\n",
       "      <td>252.0</td>\n",
       "      <td>252.0</td>\n",
       "      <td>252.0</td>\n",
       "      <td>252.0</td>\n",
       "      <td>252.0</td>\n",
       "      <td>252.0</td>\n",
       "      <td>252.0</td>\n",
       "      <td>252.0</td>\n",
       "      <td>...</td>\n",
       "      <td>252.0</td>\n",
       "      <td>252.0</td>\n",
       "      <td>252.0</td>\n",
       "      <td>252.0</td>\n",
       "      <td>252.0</td>\n",
       "      <td>252.0</td>\n",
       "      <td>252.0</td>\n",
       "      <td>252.0</td>\n",
       "      <td>252.0</td>\n",
       "      <td>252.0</td>\n",
       "    </tr>\n",
       "    <tr>\n",
       "      <th>2014-12-31</th>\n",
       "      <td>252.0</td>\n",
       "      <td>252.0</td>\n",
       "      <td>252.0</td>\n",
       "      <td>252.0</td>\n",
       "      <td>252.0</td>\n",
       "      <td>252.0</td>\n",
       "      <td>252.0</td>\n",
       "      <td>252.0</td>\n",
       "      <td>252.0</td>\n",
       "      <td>252.0</td>\n",
       "      <td>...</td>\n",
       "      <td>252.0</td>\n",
       "      <td>252.0</td>\n",
       "      <td>252.0</td>\n",
       "      <td>252.0</td>\n",
       "      <td>252.0</td>\n",
       "      <td>252.0</td>\n",
       "      <td>252.0</td>\n",
       "      <td>252.0</td>\n",
       "      <td>252.0</td>\n",
       "      <td>252.0</td>\n",
       "    </tr>\n",
       "    <tr>\n",
       "      <th>2015-12-31</th>\n",
       "      <td>252.0</td>\n",
       "      <td>252.0</td>\n",
       "      <td>252.0</td>\n",
       "      <td>252.0</td>\n",
       "      <td>252.0</td>\n",
       "      <td>252.0</td>\n",
       "      <td>252.0</td>\n",
       "      <td>252.0</td>\n",
       "      <td>252.0</td>\n",
       "      <td>252.0</td>\n",
       "      <td>...</td>\n",
       "      <td>252.0</td>\n",
       "      <td>252.0</td>\n",
       "      <td>252.0</td>\n",
       "      <td>252.0</td>\n",
       "      <td>252.0</td>\n",
       "      <td>252.0</td>\n",
       "      <td>252.0</td>\n",
       "      <td>252.0</td>\n",
       "      <td>252.0</td>\n",
       "      <td>252.0</td>\n",
       "    </tr>\n",
       "    <tr>\n",
       "      <th>2016-12-31</th>\n",
       "      <td>252.0</td>\n",
       "      <td>252.0</td>\n",
       "      <td>252.0</td>\n",
       "      <td>252.0</td>\n",
       "      <td>252.0</td>\n",
       "      <td>252.0</td>\n",
       "      <td>252.0</td>\n",
       "      <td>252.0</td>\n",
       "      <td>252.0</td>\n",
       "      <td>252.0</td>\n",
       "      <td>...</td>\n",
       "      <td>252.0</td>\n",
       "      <td>252.0</td>\n",
       "      <td>252.0</td>\n",
       "      <td>252.0</td>\n",
       "      <td>252.0</td>\n",
       "      <td>252.0</td>\n",
       "      <td>252.0</td>\n",
       "      <td>252.0</td>\n",
       "      <td>252.0</td>\n",
       "      <td>252.0</td>\n",
       "    </tr>\n",
       "    <tr>\n",
       "      <th>2017-12-31</th>\n",
       "      <td>251.0</td>\n",
       "      <td>251.0</td>\n",
       "      <td>251.0</td>\n",
       "      <td>251.0</td>\n",
       "      <td>251.0</td>\n",
       "      <td>251.0</td>\n",
       "      <td>251.0</td>\n",
       "      <td>251.0</td>\n",
       "      <td>251.0</td>\n",
       "      <td>251.0</td>\n",
       "      <td>...</td>\n",
       "      <td>251.0</td>\n",
       "      <td>251.0</td>\n",
       "      <td>251.0</td>\n",
       "      <td>251.0</td>\n",
       "      <td>251.0</td>\n",
       "      <td>251.0</td>\n",
       "      <td>251.0</td>\n",
       "      <td>251.0</td>\n",
       "      <td>251.0</td>\n",
       "      <td>251.0</td>\n",
       "    </tr>\n",
       "    <tr>\n",
       "      <th>2018-12-31</th>\n",
       "      <td>251.0</td>\n",
       "      <td>251.0</td>\n",
       "      <td>251.0</td>\n",
       "      <td>251.0</td>\n",
       "      <td>251.0</td>\n",
       "      <td>251.0</td>\n",
       "      <td>251.0</td>\n",
       "      <td>251.0</td>\n",
       "      <td>251.0</td>\n",
       "      <td>251.0</td>\n",
       "      <td>...</td>\n",
       "      <td>251.0</td>\n",
       "      <td>251.0</td>\n",
       "      <td>251.0</td>\n",
       "      <td>251.0</td>\n",
       "      <td>251.0</td>\n",
       "      <td>251.0</td>\n",
       "      <td>251.0</td>\n",
       "      <td>251.0</td>\n",
       "      <td>251.0</td>\n",
       "      <td>251.0</td>\n",
       "    </tr>\n",
       "    <tr>\n",
       "      <th>2019-12-31</th>\n",
       "      <td>252.0</td>\n",
       "      <td>252.0</td>\n",
       "      <td>252.0</td>\n",
       "      <td>252.0</td>\n",
       "      <td>252.0</td>\n",
       "      <td>252.0</td>\n",
       "      <td>252.0</td>\n",
       "      <td>252.0</td>\n",
       "      <td>252.0</td>\n",
       "      <td>252.0</td>\n",
       "      <td>...</td>\n",
       "      <td>252.0</td>\n",
       "      <td>252.0</td>\n",
       "      <td>252.0</td>\n",
       "      <td>252.0</td>\n",
       "      <td>252.0</td>\n",
       "      <td>252.0</td>\n",
       "      <td>252.0</td>\n",
       "      <td>252.0</td>\n",
       "      <td>252.0</td>\n",
       "      <td>252.0</td>\n",
       "    </tr>\n",
       "    <tr>\n",
       "      <th>2020-12-31</th>\n",
       "      <td>253.0</td>\n",
       "      <td>253.0</td>\n",
       "      <td>253.0</td>\n",
       "      <td>253.0</td>\n",
       "      <td>253.0</td>\n",
       "      <td>253.0</td>\n",
       "      <td>253.0</td>\n",
       "      <td>253.0</td>\n",
       "      <td>253.0</td>\n",
       "      <td>253.0</td>\n",
       "      <td>...</td>\n",
       "      <td>253.0</td>\n",
       "      <td>253.0</td>\n",
       "      <td>253.0</td>\n",
       "      <td>253.0</td>\n",
       "      <td>253.0</td>\n",
       "      <td>253.0</td>\n",
       "      <td>253.0</td>\n",
       "      <td>253.0</td>\n",
       "      <td>253.0</td>\n",
       "      <td>253.0</td>\n",
       "    </tr>\n",
       "    <tr>\n",
       "      <th>2021-12-31</th>\n",
       "      <td>252.0</td>\n",
       "      <td>252.0</td>\n",
       "      <td>252.0</td>\n",
       "      <td>252.0</td>\n",
       "      <td>252.0</td>\n",
       "      <td>252.0</td>\n",
       "      <td>252.0</td>\n",
       "      <td>252.0</td>\n",
       "      <td>252.0</td>\n",
       "      <td>252.0</td>\n",
       "      <td>...</td>\n",
       "      <td>252.0</td>\n",
       "      <td>252.0</td>\n",
       "      <td>252.0</td>\n",
       "      <td>252.0</td>\n",
       "      <td>252.0</td>\n",
       "      <td>252.0</td>\n",
       "      <td>252.0</td>\n",
       "      <td>252.0</td>\n",
       "      <td>252.0</td>\n",
       "      <td>252.0</td>\n",
       "    </tr>\n",
       "    <tr>\n",
       "      <th>2022-12-31</th>\n",
       "      <td>251.0</td>\n",
       "      <td>251.0</td>\n",
       "      <td>251.0</td>\n",
       "      <td>251.0</td>\n",
       "      <td>251.0</td>\n",
       "      <td>251.0</td>\n",
       "      <td>251.0</td>\n",
       "      <td>251.0</td>\n",
       "      <td>251.0</td>\n",
       "      <td>251.0</td>\n",
       "      <td>...</td>\n",
       "      <td>251.0</td>\n",
       "      <td>251.0</td>\n",
       "      <td>251.0</td>\n",
       "      <td>251.0</td>\n",
       "      <td>251.0</td>\n",
       "      <td>251.0</td>\n",
       "      <td>251.0</td>\n",
       "      <td>251.0</td>\n",
       "      <td>251.0</td>\n",
       "      <td>251.0</td>\n",
       "    </tr>\n",
       "  </tbody>\n",
       "</table>\n",
       "<p>10 rows × 463 columns</p>\n",
       "</div>"
      ],
      "text/plain": [
       "                A    AAL    AAP   AAPL   ABBV    ABC    ABT   ACGL    ACN  \\\n",
       "Date                                                                        \n",
       "2013-12-31  252.0  252.0  252.0  252.0  252.0  252.0  252.0  252.0  252.0   \n",
       "2014-12-31  252.0  252.0  252.0  252.0  252.0  252.0  252.0  252.0  252.0   \n",
       "2015-12-31  252.0  252.0  252.0  252.0  252.0  252.0  252.0  252.0  252.0   \n",
       "2016-12-31  252.0  252.0  252.0  252.0  252.0  252.0  252.0  252.0  252.0   \n",
       "2017-12-31  251.0  251.0  251.0  251.0  251.0  251.0  251.0  251.0  251.0   \n",
       "2018-12-31  251.0  251.0  251.0  251.0  251.0  251.0  251.0  251.0  251.0   \n",
       "2019-12-31  252.0  252.0  252.0  252.0  252.0  252.0  252.0  252.0  252.0   \n",
       "2020-12-31  253.0  253.0  253.0  253.0  253.0  253.0  253.0  253.0  253.0   \n",
       "2021-12-31  252.0  252.0  252.0  252.0  252.0  252.0  252.0  252.0  252.0   \n",
       "2022-12-31  251.0  251.0  251.0  251.0  251.0  251.0  251.0  251.0  251.0   \n",
       "\n",
       "             ADBE  ...     WY   WYNN    XEL    XOM   XRAY    XYL    YUM  \\\n",
       "Date               ...                                                    \n",
       "2013-12-31  252.0  ...  252.0  252.0  252.0  252.0  252.0  252.0  252.0   \n",
       "2014-12-31  252.0  ...  252.0  252.0  252.0  252.0  252.0  252.0  252.0   \n",
       "2015-12-31  252.0  ...  252.0  252.0  252.0  252.0  252.0  252.0  252.0   \n",
       "2016-12-31  252.0  ...  252.0  252.0  252.0  252.0  252.0  252.0  252.0   \n",
       "2017-12-31  251.0  ...  251.0  251.0  251.0  251.0  251.0  251.0  251.0   \n",
       "2018-12-31  251.0  ...  251.0  251.0  251.0  251.0  251.0  251.0  251.0   \n",
       "2019-12-31  252.0  ...  252.0  252.0  252.0  252.0  252.0  252.0  252.0   \n",
       "2020-12-31  253.0  ...  253.0  253.0  253.0  253.0  253.0  253.0  253.0   \n",
       "2021-12-31  252.0  ...  252.0  252.0  252.0  252.0  252.0  252.0  252.0   \n",
       "2022-12-31  251.0  ...  251.0  251.0  251.0  251.0  251.0  251.0  251.0   \n",
       "\n",
       "              ZBH   ZBRA   ZION  \n",
       "Date                             \n",
       "2013-12-31  252.0  252.0  252.0  \n",
       "2014-12-31  252.0  252.0  252.0  \n",
       "2015-12-31  252.0  252.0  252.0  \n",
       "2016-12-31  252.0  252.0  252.0  \n",
       "2017-12-31  251.0  251.0  251.0  \n",
       "2018-12-31  251.0  251.0  251.0  \n",
       "2019-12-31  252.0  252.0  252.0  \n",
       "2020-12-31  253.0  253.0  253.0  \n",
       "2021-12-31  252.0  252.0  252.0  \n",
       "2022-12-31  251.0  251.0  251.0  \n",
       "\n",
       "[10 rows x 463 columns]"
      ]
     },
     "execution_count": 86,
     "metadata": {},
     "output_type": "execute_result"
    }
   ],
   "source": [
    "normalized_yearly_volume_per_stock = summed_yearly_volume_per_stock/mean_yearly_volume_per_stock\n",
    "normalized_yearly_volume_per_stock"
   ]
  },
  {
   "cell_type": "code",
   "execution_count": null,
   "metadata": {},
   "outputs": [
    {
     "data": {
      "text/plain": [
       "A       5.456551e+09\n",
       "AAL     5.929510e+10\n",
       "AAP     2.573681e+09\n",
       "AAPL    1.204554e+11\n",
       "ABBV    1.948171e+10\n",
       "            ...     \n",
       "XYL     2.770121e+09\n",
       "YUM     6.493333e+09\n",
       "ZBH     3.252852e+09\n",
       "ZBRA    1.069625e+09\n",
       "ZION    5.799837e+09\n",
       "Length: 463, dtype: float64"
      ]
     },
     "execution_count": 65,
     "metadata": {},
     "output_type": "execute_result"
    }
   ],
   "source": [
    "summed_yearly_volume"
   ]
  },
  {
   "cell_type": "code",
   "execution_count": null,
   "metadata": {},
   "outputs": [
    {
     "data": {
      "text/plain": [
       "A       5.456551e+09\n",
       "AAL     5.929510e+10\n",
       "AAP     2.573681e+09\n",
       "AAPL    1.204554e+11\n",
       "ABBV    1.948171e+10\n",
       "            ...     \n",
       "XYL     2.770121e+09\n",
       "YUM     6.493333e+09\n",
       "ZBH     3.252852e+09\n",
       "ZBRA    1.069625e+09\n",
       "ZION    5.799837e+09\n",
       "Length: 463, dtype: float64"
      ]
     },
     "execution_count": 56,
     "metadata": {},
     "output_type": "execute_result"
    }
   ],
   "source": [
    "summed_yearly_volume"
   ]
  },
  {
   "cell_type": "code",
   "execution_count": null,
   "metadata": {},
   "outputs": [],
   "source": [
    "summed_yearly_volume_normalized = summed_yearly_volume - np.mean(summed_yearly_volume)"
   ]
  },
  {
   "cell_type": "markdown",
   "metadata": {},
   "source": [
    "# Parameter tuning & further analysis"
   ]
  },
  {
   "cell_type": "markdown",
   "metadata": {},
   "source": [
    "# Code below this is unfinished / not used yet"
   ]
  },
  {
   "cell_type": "code",
   "execution_count": null,
   "metadata": {},
   "outputs": [
    {
     "name": "stderr",
     "output_type": "stream",
     "text": [
      "C:\\Users\\Nitai Nijholt\\AppData\\Local\\Temp\\ipykernel_36560\\1585354143.py:15: RuntimeWarning:\n",
      "\n",
      "divide by zero encountered in log\n",
      "\n",
      "C:\\Users\\Nitai Nijholt\\AppData\\Local\\Temp\\ipykernel_36560\\1585354143.py:15: RuntimeWarning:\n",
      "\n",
      "invalid value encountered in double_scalars\n",
      "\n"
     ]
    },
    {
     "ename": "KeyboardInterrupt",
     "evalue": "",
     "output_type": "error",
     "traceback": [
      "\u001b[1;31m---------------------------------------------------------------------------\u001b[0m",
      "\u001b[1;31mKeyboardInterrupt\u001b[0m                         Traceback (most recent call last)",
      "Cell \u001b[1;32mIn[26], line 25\u001b[0m\n\u001b[0;32m     22\u001b[0m n \u001b[39m=\u001b[39m \u001b[39mint\u001b[39m(\u001b[39mlen\u001b[39m(sorted_log)\u001b[39m*\u001b[39m\u001b[39m0.01\u001b[39m)\n\u001b[0;32m     23\u001b[0m data \u001b[39m=\u001b[39m np\u001b[39m.\u001b[39marray(sorted_log)\n\u001b[1;32m---> 25\u001b[0m Hill_estimator(data)\n",
      "Cell \u001b[1;32mIn[26], line 15\u001b[0m, in \u001b[0;36mHill_estimator\u001b[1;34m(data)\u001b[0m\n\u001b[0;32m     12\u001b[0m     summ \u001b[39m=\u001b[39m \u001b[39m0\u001b[39m\n\u001b[0;32m     14\u001b[0m     \u001b[39mfor\u001b[39;00m i \u001b[39min\u001b[39;00m \u001b[39mrange\u001b[39m(\u001b[39m0\u001b[39m,k\u001b[39m+\u001b[39m\u001b[39m1\u001b[39m):   \u001b[39m# i = 0, ..., k\u001b[39;00m\n\u001b[1;32m---> 15\u001b[0m         summ \u001b[39m+\u001b[39m\u001b[39m=\u001b[39m np\u001b[39m.\u001b[39mlog(Y[n\u001b[39m-\u001b[39m\u001b[39m1\u001b[39m\u001b[39m-\u001b[39mi]) \u001b[39m-\u001b[39m np\u001b[39m.\u001b[39mlog(Y[n\u001b[39m-\u001b[39m\u001b[39m2\u001b[39m\u001b[39m-\u001b[39mk])\n\u001b[0;32m     17\u001b[0m     Hill_est[k] \u001b[39m=\u001b[39m (\u001b[39m1\u001b[39m \u001b[39m/\u001b[39m (k\u001b[39m+\u001b[39m\u001b[39m1\u001b[39m)) \u001b[39m*\u001b[39m summ      \u001b[39m# add 1 to k because of Python syntax\u001b[39;00m\n\u001b[0;32m     19\u001b[0m kappa \u001b[39m=\u001b[39m \u001b[39m1.\u001b[39m \u001b[39m/\u001b[39m Hill_est\n",
      "\u001b[1;31mKeyboardInterrupt\u001b[0m: "
     ]
    }
   ],
   "source": [
    "# The following Hill estimator is from https://github.com/alinasode/hill-estimator/blob/main/utils/functions.py\n",
    "# We use it by instead of giving it the whole dataset, we only give it the tail region we want it to calculate\n",
    "# Since this function returns an np.array of different HE values for all the datapoint spots, we take the mean of this np.array \n",
    "def Hill_estimator(data):\n",
    "    \"\"\"\n",
    "    Returns the Hill Estimators for some 1D data set.\n",
    "    \"\"\"    \n",
    "    # sort data in such way that the smallest value is first and the largest value comes last:\n",
    "    Y = np.sort(data)\n",
    "    n = len(Y)\n",
    "\n",
    "    Hill_est = np.zeros(n-1)\n",
    "\n",
    "    for k in range(0, n-1):    # k = 0,...,n-2\n",
    "        summ = 0\n",
    "\n",
    "        for i in range(0,k+1):   # i = 0, ..., k\n",
    "            summ += np.log(Y[n-1-i]) - np.log(Y[n-2-k])\n",
    "        \n",
    "        Hill_est[k] = (1 / (k+1)) * summ      # add 1 to k because of Python syntax\n",
    "  \n",
    "    kappa = 1. / Hill_est\n",
    "    return kappa.mean()\n",
    "\n",
    "data = np.array(sorted_log)\n",
    "# The last number is the percentile of the tail we want to check\n",
    "slicer = int(len(data)-len(data)*0.01)\n",
    "data = data[int(slicer):len(data)]\n",
    "HE = Hill_estimator(data)\n",
    "HE.mean()"
   ]
  },
  {
   "cell_type": "code",
   "execution_count": null,
   "metadata": {},
   "outputs": [],
   "source": [
    "def regression(data_x, data_y, beta, learning_rate, iterations):\n",
    "    rmse = np.mean([((beta * data_x[i]) - data_y[i])**2 for i in range(len(data_y))])\n",
    "    diff_beta = beta\n",
    "\n",
    "    while diff_beta > 10:\n",
    "        # find differentials of the parametres\n",
    "        #diff_alpha = 2 * np.mean([((alpha + beta * data_x[i]) - data_y[i]) for i in range(len(data_y))])\n",
    "        diff_beta = 2 * np.mean([(((data_x[i] * beta) - data_y[i]) * data_x[i]) for i in range(len(data_y))])\n",
    "        print(diff_beta)\n",
    "\n",
    "        #alpha_new = alpha + (learning_rate * diff_alpha)\n",
    "        beta = beta - learning_rate * diff_beta\n",
    "\n",
    "        rmse_zero_new = np.mean([((beta * data_x[i]) - data_y[i])**2 for i in range(len(data_y))])\n",
    "\n",
    "        # keep new parametres if they lead to smaller rmse\n",
    "        #if rmse_zero_new < rmse:\n",
    "            #alpha = alpha_new\n",
    "        #beta = beta_new\n",
    "        rmse = rmse_zero_new\n",
    "\n",
    "    return beta, rmse"
   ]
  },
  {
   "cell_type": "code",
   "execution_count": null,
   "metadata": {},
   "outputs": [],
   "source": [
    "def r_squared(data, alpha, beta, x_range):\n",
    "    \"\"\"\n",
    "    Goodness of fit test for regression\n",
    "    \"\"\"\n",
    "    ss_res = []\n",
    "    ss_total = []\n",
    "    mean = np.mean(data)\n",
    "\n",
    "    for i in range(x_range):\n",
    "        prediction = alpha + beta * x_range[i]\n",
    "        value = data[i]\n",
    "\n",
    "        residual = (value - prediction) ** 2\n",
    "        total = (value - mean) ** 2\n",
    "\n",
    "        ss_res.append(residual)\n",
    "        ss_total.append(total)\n",
    "\n",
    "    return 1 - (ss_res / ss_total)\n"
   ]
  },
  {
   "cell_type": "code",
   "execution_count": null,
   "metadata": {},
   "outputs": [
    {
     "ename": "TypeError",
     "evalue": "__init__() missing 1 required positional argument: 'omega'",
     "output_type": "error",
     "traceback": [
      "\u001b[1;31m---------------------------------------------------------------------------\u001b[0m",
      "\u001b[1;31mTypeError\u001b[0m                                 Traceback (most recent call last)",
      "\u001b[1;32m~\\AppData\\Local\\Temp/ipykernel_28900/4099762211.py\u001b[0m in \u001b[0;36m<module>\u001b[1;34m\u001b[0m\n\u001b[0;32m      5\u001b[0m \u001b[1;32mfor\u001b[0m \u001b[0mi\u001b[0m \u001b[1;32min\u001b[0m \u001b[0mk_range\u001b[0m\u001b[1;33m:\u001b[0m\u001b[1;33m\u001b[0m\u001b[1;33m\u001b[0m\u001b[0m\n\u001b[0;32m      6\u001b[0m     \u001b[0mk\u001b[0m \u001b[1;33m=\u001b[0m \u001b[0mi\u001b[0m\u001b[1;33m\u001b[0m\u001b[1;33m\u001b[0m\u001b[0m\n\u001b[1;32m----> 7\u001b[1;33m     \u001b[0mk_test\u001b[0m \u001b[1;33m=\u001b[0m \u001b[0mModel\u001b[0m\u001b[1;33m(\u001b[0m\u001b[0mp\u001b[0m\u001b[1;33m,\u001b[0m \u001b[0mn\u001b[0m\u001b[1;33m,\u001b[0m \u001b[0mk\u001b[0m\u001b[1;33m,\u001b[0m \u001b[0momega\u001b[0m\u001b[1;33m)\u001b[0m\u001b[1;33m\u001b[0m\u001b[1;33m\u001b[0m\u001b[0m\n\u001b[0m\u001b[0;32m      8\u001b[0m     \u001b[1;32mfor\u001b[0m \u001b[0mstep\u001b[0m \u001b[1;32min\u001b[0m \u001b[0mrange\u001b[0m\u001b[1;33m(\u001b[0m\u001b[0mt\u001b[0m\u001b[1;33m)\u001b[0m\u001b[1;33m:\u001b[0m\u001b[1;33m\u001b[0m\u001b[1;33m\u001b[0m\u001b[0m\n\u001b[0;32m      9\u001b[0m         \u001b[0mk_test\u001b[0m\u001b[1;33m.\u001b[0m\u001b[0mstep\u001b[0m\u001b[1;33m(\u001b[0m\u001b[1;33m)\u001b[0m\u001b[1;33m\u001b[0m\u001b[1;33m\u001b[0m\u001b[0m\n",
      "\u001b[1;31mTypeError\u001b[0m: __init__() missing 1 required positional argument: 'omega'"
     ]
    }
   ],
   "source": [
    "# k_test - think about ways to fit a power law\n",
    "k_range = [i*0.1 for i in range(51)]\n",
    "variances = []\n",
    "\n",
    "for i in k_range:\n",
    "    k = i\n",
    "    k_test = Model(p, n, size, k, omega)\n",
    "    for step in range(t):\n",
    "        k_test.step()\n",
    "\n",
    "    variance = np.std(k_test.daily_returns) ** 2\n",
    "    variances.append(variance)"
   ]
  },
  {
   "cell_type": "code",
   "execution_count": null,
   "metadata": {},
   "outputs": [],
   "source": [
    "variance_array = np.array(variances)\n",
    "range_array = np.array(k_range).reshape((-1, 1))\n",
    "\n",
    "regress = LinearRegression().fit(range_array, variance_array)"
   ]
  },
  {
   "cell_type": "code",
   "execution_count": null,
   "metadata": {},
   "outputs": [],
   "source": [
    "k_test = r_squared(variances, regress.intercept_, regress.coef_, k_range)\n",
    "print(k_test)"
   ]
  },
  {
   "cell_type": "code",
   "execution_count": null,
   "metadata": {},
   "outputs": [],
   "source": [
    "plt.plot(k_range, [(regress.intercept_ + regress.coef_ * i) for i in k_range])\n",
    "plt.scatter(k_range, variances)\n",
    "plt.show()"
   ]
  },
  {
   "cell_type": "code",
   "execution_count": null,
   "metadata": {},
   "outputs": [
    {
     "ename": "TypeError",
     "evalue": "__init__() missing 1 required positional argument: 'omega'",
     "output_type": "error",
     "traceback": [
      "\u001b[1;31m---------------------------------------------------------------------------\u001b[0m",
      "\u001b[1;31mTypeError\u001b[0m                                 Traceback (most recent call last)",
      "\u001b[1;32m~\\AppData\\Local\\Temp/ipykernel_28900/4285943554.py\u001b[0m in \u001b[0;36m<module>\u001b[1;34m\u001b[0m\n\u001b[0;32m      5\u001b[0m \u001b[1;32mfor\u001b[0m \u001b[0mi\u001b[0m \u001b[1;32min\u001b[0m \u001b[0momega_range\u001b[0m\u001b[1;33m:\u001b[0m\u001b[1;33m\u001b[0m\u001b[1;33m\u001b[0m\u001b[0m\n\u001b[0;32m      6\u001b[0m     \u001b[0momega\u001b[0m \u001b[1;33m=\u001b[0m \u001b[0mi\u001b[0m\u001b[1;33m\u001b[0m\u001b[1;33m\u001b[0m\u001b[0m\n\u001b[1;32m----> 7\u001b[1;33m     \u001b[0momega_test\u001b[0m \u001b[1;33m=\u001b[0m \u001b[0mModel\u001b[0m\u001b[1;33m(\u001b[0m\u001b[0mp\u001b[0m\u001b[1;33m,\u001b[0m \u001b[0mn\u001b[0m\u001b[1;33m,\u001b[0m \u001b[0mk\u001b[0m\u001b[1;33m,\u001b[0m \u001b[0momega\u001b[0m\u001b[1;33m)\u001b[0m\u001b[1;33m\u001b[0m\u001b[1;33m\u001b[0m\u001b[0m\n\u001b[0m\u001b[0;32m      8\u001b[0m     \u001b[1;32mfor\u001b[0m \u001b[0mstep\u001b[0m \u001b[1;32min\u001b[0m \u001b[0mrange\u001b[0m\u001b[1;33m(\u001b[0m\u001b[0mt\u001b[0m\u001b[1;33m)\u001b[0m\u001b[1;33m:\u001b[0m\u001b[1;33m\u001b[0m\u001b[1;33m\u001b[0m\u001b[0m\n\u001b[0;32m      9\u001b[0m         \u001b[0momega_test\u001b[0m\u001b[1;33m.\u001b[0m\u001b[0mstep\u001b[0m\u001b[1;33m(\u001b[0m\u001b[1;33m)\u001b[0m\u001b[1;33m\u001b[0m\u001b[1;33m\u001b[0m\u001b[0m\n",
      "\u001b[1;31mTypeError\u001b[0m: __init__() missing 1 required positional argument: 'omega'"
     ]
    }
   ],
   "source": [
    "# omega_test - think about ways to fit a power law\n",
    "omega_range = [i*0.1 for i in range(1, 51)]\n",
    "variances = []\n",
    "\n",
    "for i in omega_range:\n",
    "    omega = i\n",
    "    omega_test = Model(p, n, size, k, omega)\n",
    "    for step in range(t):\n",
    "        omega_test.step()\n",
    "\n",
    "    variance = np.std(omega_test.daily_returns) ** 2\n",
    "    variances.append(variance)\n",
    "\n",
    "omega_array = np.array(omega_range).reshape((-1, 1))\n",
    "omega_variances = np.array(variances)"
   ]
  },
  {
   "cell_type": "code",
   "execution_count": null,
   "metadata": {},
   "outputs": [
    {
     "ename": "TypeError",
     "evalue": "regression() missing 2 required positional arguments: 'learning_rate' and 'iterations'",
     "output_type": "error",
     "traceback": [
      "\u001b[1;31m---------------------------------------------------------------------------\u001b[0m",
      "\u001b[1;31mTypeError\u001b[0m                                 Traceback (most recent call last)",
      "\u001b[1;32m~\\AppData\\Local\\Temp/ipykernel_28900/3262243715.py\u001b[0m in \u001b[0;36m<module>\u001b[1;34m\u001b[0m\n\u001b[0;32m      1\u001b[0m \u001b[1;31m# omega - calculate regression of power law exponent and variances\u001b[0m\u001b[1;33m\u001b[0m\u001b[1;33m\u001b[0m\u001b[0m\n\u001b[1;32m----> 2\u001b[1;33m \u001b[0momega_r\u001b[0m \u001b[1;33m=\u001b[0m \u001b[0mregression\u001b[0m\u001b[1;33m(\u001b[0m\u001b[0momega_range\u001b[0m\u001b[1;33m,\u001b[0m \u001b[0mvariances\u001b[0m\u001b[1;33m,\u001b[0m \u001b[1;36m3\u001b[0m\u001b[1;33m,\u001b[0m \u001b[1;36m2\u001b[0m\u001b[1;33m)\u001b[0m\u001b[1;33m\u001b[0m\u001b[1;33m\u001b[0m\u001b[0m\n\u001b[0m\u001b[0;32m      3\u001b[0m \u001b[0momega_test\u001b[0m \u001b[1;33m=\u001b[0m \u001b[0mr_squared\u001b[0m\u001b[1;33m(\u001b[0m\u001b[0mvariances\u001b[0m\u001b[1;33m,\u001b[0m \u001b[0momega_r\u001b[0m\u001b[1;33m[\u001b[0m\u001b[1;36m0\u001b[0m\u001b[1;33m]\u001b[0m\u001b[1;33m,\u001b[0m \u001b[0momega_r\u001b[0m\u001b[1;33m[\u001b[0m\u001b[1;36m1\u001b[0m\u001b[1;33m]\u001b[0m\u001b[1;33m,\u001b[0m \u001b[0momega_range\u001b[0m\u001b[1;33m)\u001b[0m\u001b[1;33m\u001b[0m\u001b[1;33m\u001b[0m\u001b[0m\n",
      "\u001b[1;31mTypeError\u001b[0m: regression() missing 2 required positional arguments: 'learning_rate' and 'iterations'"
     ]
    }
   ],
   "source": [
    "# omega - calculate regression of power law exponent and variances\n",
    "omega_r = LinearRegression().fit(omega_array, omega_variances)\n",
    "omega_test = r_squared(variances, omega_r.intercept_, omega_r.coef_, omega_range)"
   ]
  },
  {
   "cell_type": "code",
   "execution_count": null,
   "metadata": {},
   "outputs": [],
   "source": [
    "# p_test - variances; mean number of zeros\n",
    "p_range = [i*0.1 for i in range(1, 6)]\n",
    "variances = []\n",
    "zeros = []\n",
    "\n",
    "for i in p_range:\n",
    "    p = i\n",
    "    p_test = Model(p, n, size, k, omega)\n",
    "    for step in range(100):\n",
    "        p_test.step()\n",
    "\n",
    "    variance = np.std(p_test.daily_returns) ** 2\n",
    "    variances.append(variance)\n",
    "\n",
    "    for u in p_test.daily_returns:\n",
    "        zero = []\n",
    "        if -0.5 < u < 0.5:\n",
    "            zero.append(1)\n",
    "        \n",
    "    zero_add = sum(zero) / len(p_test.daily_returns)\n",
    "    zeros.append(zero_add)\n",
    "\n",
    "    print(i)\n",
    "\n",
    "p_array = np.array(p_range).reshape((-1, 1))\n",
    "p_variances = np.array(variances)\n",
    "p_zeros = np.array(zeros)"
   ]
  },
  {
   "cell_type": "code",
   "execution_count": null,
   "metadata": {},
   "outputs": [],
   "source": [
    "p_zeros_r = LinearRegression().fit(p_array, p_zeros)\n",
    "p_variances_r = LinearRegression().fit(p_array, p_variances)\n",
    "\n",
    "p_test_zeros = r_squared(zeros, p_zeros_r.intercept_, p_zeros_r.coef_, p_range)\n",
    "p_test_variances = r_squared(variances, p_variances_r.intercept_, p_variances_r.coef_, p_range)"
   ]
  },
  {
   "cell_type": "code",
   "execution_count": null,
   "metadata": {},
   "outputs": [],
   "source": [
    "plt.plot(p_range, [(p_variances_r.intercept_ + p_variances_r.coef_ * i) for i in p_range])\n",
    "plt.scatter(p_range, variances)\n",
    "plt.show()"
   ]
  },
  {
   "cell_type": "code",
   "execution_count": null,
   "metadata": {},
   "outputs": [],
   "source": [
    "print(\"R^2 of variance fit =\", p_test_variances)\n",
    "print(\"R^2 of mean zero fit =\", p_test_zeros)"
   ]
  },
  {
   "cell_type": "code",
   "execution_count": null,
   "metadata": {},
   "outputs": [],
   "source": [
    "# M\n",
    "m_range = [i for i in range(1, 500)]\n",
    "variances = []\n",
    "\n",
    "for i in m_range:\n",
    "    m_test = Stochastic_Model(n, p, 10, True, i, 1.12)\n",
    "    for step in range(t):\n",
    "        m_test.step()\n",
    "\n",
    "    variance = np.std(m_test.returns) ** 2\n",
    "    variances.append(variance)\n",
    "\n",
    "m_array = np.array(m_range).reshape((-1, 1))\n",
    "m_variances = np.array(variances)"
   ]
  },
  {
   "cell_type": "code",
   "execution_count": null,
   "metadata": {},
   "outputs": [],
   "source": [
    "m_variances_r = LinearRegression().fit(m_array, m_variances)\n",
    "m_test = r_squared(variances, m_variances_r.intercept_, m_variances_r.coef_, m_range)"
   ]
  },
  {
   "cell_type": "code",
   "execution_count": null,
   "metadata": {},
   "outputs": [],
   "source": [
    "plt.plot(m_range, [(m_variances_r.intercept_ + m_variances_r.coef_ * i) for i in m_range])\n",
    "plt.scatter(m_range, variances)\n",
    "plt.show()"
   ]
  },
  {
   "cell_type": "code",
   "execution_count": null,
   "metadata": {},
   "outputs": [],
   "source": [
    "print(\"R^2 of variance fit =\", m_test)\n"
   ]
  },
  {
   "cell_type": "code",
   "execution_count": null,
   "metadata": {},
   "outputs": [],
   "source": [
    "# D\n",
    "d_range = [i*0.1 for i in range(1, 21)]\n",
    "variances = []\n",
    "\n",
    "for i in d_range:\n",
    "    d_test = Stochastic_Model(n, p, 10, True, 500, i)\n",
    "    for step in range(t):\n",
    "        d_test.step()\n",
    "\n",
    "    variance = np.std(d_test.daily_returns) ** 2\n",
    "    variances.append(variance)\n",
    "\n",
    "d_array = np.array(d_range).reshape((-1, 1))\n",
    "d_variances = np.array(variances)"
   ]
  },
  {
   "cell_type": "code",
   "execution_count": null,
   "metadata": {},
   "outputs": [],
   "source": [
    "# Example of parameter generation\n",
    "parameters = np.arange(0, 10, 1)\n",
    "print(\"parameters to test:\", parameters)\n",
    "\n",
    "\n",
    "def gridsearch(real, abm_or_stoch, parameters):\n",
    "    best_param = 0\n",
    "    best_loss = 1000000000\n",
    "    for param in parameters:\n",
    "        if abm_or_stoch == 'abm':\n",
    "            model_test = Model(p, n, size, k, omega) # change the parameter to test to \"param\"\n",
    "            for i in range(t):\n",
    "                model_test.step()\n",
    "            abs_returns = [abs(day) for day in model_test.daily_returns]\n",
    "            result = np.array(abs_returns)\n",
    "        else:\n",
    "            stochastic = Stochastic_Model(n, p, 10, time_horizon=False, M=10, d=1.12)\n",
    "            stochastic_horizons = Stochastic_Model(n, p, 10, time_horizon=True, M=10, d=1.12)\n",
    "            for i in range(t):\n",
    "                stochastic.step()\n",
    "                stochastic_horizons.step()\n",
    "            abs_returns = [abs(i) for i in stochastic.returns]\n",
    "            result = np.array(abs_returns)\n",
    "        rmse = np.sqrt(mean_squared_error(real, result))\n",
    "        if rmse < best_loss:\n",
    "            best_param = current_param\n",
    "            best_loss = rmse\n",
    "    return best_param, best_loss\n",
    "\n",
    "# Implementation from https://archive.lib.msu.edu/crcmath/math/math/l/l142.html\n",
    "def exp_lsq(x, y):\n",
    "    n = len(bin) # sample size?\n",
    "    ln_y = np.log(y, where= y != 0)\n",
    "    sum_ln_y = np.sum(ln_y)\n",
    "    sum_x = np.sum(x)\n",
    "    sum_x_ln_y = np.sum(x * ln_y)\n",
    "    print('sum_ln_y', sum_ln_y, 'sum_x', sum_x)\n",
    "    a = (sum_ln_y * sum_x**2 - sum_x*sum_x_ln_y) / (n * np.sum(x**2) - sum_x**2)\n",
    "    b = (n * sum_x_ln_y - sum_x*sum_ln_y)/(n * np.sum(x**2) - sum_x**2)\n",
    "    return a, b"
   ]
  },
  {
   "cell_type": "code",
   "execution_count": null,
   "metadata": {},
   "outputs": [],
   "source": [
    "a, b = exp_lsq(bin, real_bins)\n",
    "print(a,b)\n",
    "x = np.arange(0, len(bin), 1)\n",
    "y = np.exp(a)*math.e**(b*x)\n",
    "plt.scatter(x,y)"
   ]
  }
 ],
 "metadata": {
  "kernelspec": {
   "display_name": "Python 3 (ipykernel)",
   "language": "python",
   "name": "python3"
  },
  "language_info": {
   "codemirror_mode": {
    "name": "ipython",
    "version": 3
   },
   "file_extension": ".py",
   "mimetype": "text/x-python",
   "name": "python",
   "nbconvert_exporter": "python",
   "pygments_lexer": "ipython3",
   "version": "3.9.7"
  },
  "vscode": {
   "interpreter": {
    "hash": "737aa38b06dd7377e5ea1c9d3b7bcdaf28b38271e4ca822a92a99e2a0a35e98e"
   }
  }
 },
 "nbformat": 4,
 "nbformat_minor": 2
}
